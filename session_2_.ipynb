{
  "nbformat": 4,
  "nbformat_minor": 0,
  "metadata": {
    "colab": {
      "provenance": []
    },
    "kernelspec": {
      "name": "python3",
      "display_name": "Python 3"
    },
    "language_info": {
      "name": "python"
    }
  },
  "cells": [
    {
      "cell_type": "markdown",
      "source": [
        "Operators , if-else , Loops "
      ],
      "metadata": {
        "id": "668Be8g6QTOV"
      }
    },
    {
      "cell_type": "markdown",
      "source": [
        "Operators in python \n",
        "\n",
        "\n",
        "*   Arithmetic Operators\n",
        "*   Releational Operators   \n",
        "*   Logical Operators\n",
        "*   Bitwise operators\n",
        "*   Assignment Operators\n",
        "*   Membership Operators\n",
        "\n",
        "\n",
        "\n",
        "\n",
        "\n",
        "\n"
      ],
      "metadata": {
        "id": "utRFo3fGRqoc"
      }
    },
    {
      "cell_type": "code",
      "execution_count": 2,
      "metadata": {
        "id": "4dNVZVaVHHFk",
        "colab": {
          "base_uri": "https://localhost:8080/"
        },
        "outputId": "df449331-1929-4e09-ae69-8bd62c25c032"
      },
      "outputs": [
        {
          "output_type": "stream",
          "name": "stdout",
          "text": [
            "11\n",
            "-3\n",
            "54\n",
            "2.5\n",
            "2\n"
          ]
        }
      ],
      "source": [
        "# Arithmetic Operators \n",
        "print(5+6)\n",
        "\n",
        "print(6-9)\n",
        "\n",
        "print(6*9)\n",
        "\n",
        "print(5/2)\n",
        "\n",
        "print(5//2)"
      ]
    },
    {
      "cell_type": "code",
      "source": [
        "print(5%2)\n",
        "\n",
        "print(5**2)"
      ],
      "metadata": {
        "colab": {
          "base_uri": "https://localhost:8080/"
        },
        "id": "bQIoGpt4Sn17",
        "outputId": "3a9bc38a-8c61-435d-abfd-121cd30d3a33"
      },
      "execution_count": 6,
      "outputs": [
        {
          "output_type": "stream",
          "name": "stdout",
          "text": [
            "1\n",
            "25\n"
          ]
        }
      ]
    },
    {
      "cell_type": "code",
      "source": [
        "# Releational Operators\n",
        "print(4>5)\n",
        "\n",
        "print(4<5)\n",
        "\n",
        "print(4>=4)\n",
        "\n",
        "print(4<=4)\n",
        "\n",
        "print(4==4)\n",
        "\n",
        "print(4!=4)"
      ],
      "metadata": {
        "colab": {
          "base_uri": "https://localhost:8080/"
        },
        "id": "cMh1KSXMS0fz",
        "outputId": "833bfcd9-9c4d-4c9e-a98d-2c0cb7b28a7b"
      },
      "execution_count": 7,
      "outputs": [
        {
          "output_type": "stream",
          "name": "stdout",
          "text": [
            "False\n",
            "True\n",
            "True\n",
            "True\n",
            "True\n",
            "False\n"
          ]
        }
      ]
    },
    {
      "cell_type": "code",
      "source": [
        "# Logical Operators\n",
        "print(1 and 0)\n",
        "\n",
        "print(1 or 0)\n",
        "\n",
        "print(not 1 )"
      ],
      "metadata": {
        "colab": {
          "base_uri": "https://localhost:8080/"
        },
        "id": "fF2447UHTWif",
        "outputId": "a6464497-2ff7-4f28-8f56-d472adc44239"
      },
      "execution_count": 9,
      "outputs": [
        {
          "output_type": "stream",
          "name": "stdout",
          "text": [
            "0\n",
            "1\n",
            "False\n"
          ]
        }
      ]
    },
    {
      "cell_type": "code",
      "source": [
        "# Bitwise Operators\n",
        "\n",
        "# bitwise and\n",
        "print( 2 & 3)\n",
        "\n",
        "# bitwise or\n",
        "print(2 | 3) \n",
        "\n",
        "# bitwise xor\n",
        "print(2^3)\n",
        "\n",
        "# bitwise not \n",
        "print(~3)\n",
        "\n",
        "# bitwise left shift\n",
        "print(4>>2)\n",
        "\n",
        "# bitwise right shift\n",
        "print(4<<2)"
      ],
      "metadata": {
        "colab": {
          "base_uri": "https://localhost:8080/"
        },
        "id": "QPZtiNRSTiXx",
        "outputId": "6c2ab885-9abe-40d0-ab22-0ddee92fe096"
      },
      "execution_count": 10,
      "outputs": [
        {
          "output_type": "stream",
          "name": "stdout",
          "text": [
            "2\n",
            "3\n",
            "1\n",
            "-4\n",
            "1\n",
            "16\n"
          ]
        }
      ]
    },
    {
      "cell_type": "code",
      "source": [
        "# Assignment Operators\n",
        "\n",
        "# = \n",
        "a = 2 \n",
        "\n",
        "# a = a % 2\n",
        "a += 2\n",
        "\n",
        "print(a)"
      ],
      "metadata": {
        "colab": {
          "base_uri": "https://localhost:8080/"
        },
        "id": "ctTX8AeoVlaH",
        "outputId": "cb8e788d-6e42-4e68-be2e-827013fc8511"
      },
      "execution_count": 14,
      "outputs": [
        {
          "output_type": "stream",
          "name": "stdout",
          "text": [
            "4\n"
          ]
        }
      ]
    },
    {
      "cell_type": "code",
      "source": [
        "# Membership Operators\n",
        "\n",
        "# in \n",
        "\n",
        "print('D' in \"Delhi\")\n",
        "\n",
        "# not in \n",
        "print('d' not in  'delhi')"
      ],
      "metadata": {
        "colab": {
          "base_uri": "https://localhost:8080/"
        },
        "id": "GoLw1Ol5Wg9_",
        "outputId": "b6f411e8-2a68-4e40-cd09-8828fc5c4101"
      },
      "execution_count": 16,
      "outputs": [
        {
          "output_type": "stream",
          "name": "stdout",
          "text": [
            "True\n",
            "False\n"
          ]
        }
      ]
    },
    {
      "cell_type": "code",
      "source": [
        "print(1 in [2,3,4,5,6,7])"
      ],
      "metadata": {
        "colab": {
          "base_uri": "https://localhost:8080/"
        },
        "id": "GQ6D5dS5XaPc",
        "outputId": "c0af9340-455e-4c12-e45e-90884153dc56"
      },
      "execution_count": 17,
      "outputs": [
        {
          "output_type": "stream",
          "name": "stdout",
          "text": [
            "False\n"
          ]
        }
      ]
    },
    {
      "cell_type": "code",
      "source": [
        "# Program - Find the sum of 3 digit number entered by the user \n",
        "\n",
        "number = int(input('Enter the 3 digit number'))\n",
        "\n",
        "a = number % 10\n",
        "\n",
        "number = number // 10\n",
        "b = number % 10 \n",
        "\n",
        "number = number // 10\n",
        "c = number % 10\n",
        "\n",
        "print (a+b+c)"
      ],
      "metadata": {
        "colab": {
          "base_uri": "https://localhost:8080/"
        },
        "id": "hJDv8ENQX1GK",
        "outputId": "f7f35eeb-13f4-480e-dde3-2f17907a9d37"
      },
      "execution_count": 19,
      "outputs": [
        {
          "output_type": "stream",
          "name": "stdout",
          "text": [
            "Enter the 3 digit number685\n",
            "19\n"
          ]
        }
      ]
    },
    {
      "cell_type": "markdown",
      "source": [
        "if else in python "
      ],
      "metadata": {
        "id": "EhukUIJ7eT6A"
      }
    },
    {
      "cell_type": "code",
      "source": [
        "# login program and indentation \n",
        "# email -> rohanmate72182gmail.com \n",
        "# password  -> 1234\n",
        "\n",
        "email = input('Enter your Email')\n",
        "password = input('Enter Password')\n",
        "\n",
        "if email == 'rohanmate7218@gmail.com' and password == '1234':\n",
        "  print('Welcome')\n",
        "else:\n",
        "  print('Not corresct')\n",
        "\n"
      ],
      "metadata": {
        "colab": {
          "base_uri": "https://localhost:8080/"
        },
        "id": "ZbWTZCQ7axP8",
        "outputId": "d2c5531e-b6aa-4242-d40b-ff4b564992c7"
      },
      "execution_count": 20,
      "outputs": [
        {
          "output_type": "stream",
          "name": "stdout",
          "text": [
            "Enter your Emailrohanmate7218@gmail.com\n",
            "Enter Password1234\n",
            "Welcome\n"
          ]
        }
      ]
    },
    {
      "cell_type": "code",
      "source": [
        "email = input('Enter your email')\n",
        "password = input('Enter password')\n",
        "\n",
        "if email == 'rohanmate7218@gmail.com' and password == '1234':\n",
        "  print('wlcome')\n",
        "elif email == 'rohanmate7218@gmail.com' and password != '1234':\n",
        "  print('Incorrect password')  \n",
        "  password = input('Enter password again')\n",
        "  if password == '1234':\n",
        "    print('Welcome,finally')\n",
        "  else:\n",
        "    print('something went wrong')  \n",
        "else:\n",
        "  print('Not correct')"
      ],
      "metadata": {
        "colab": {
          "base_uri": "https://localhost:8080/"
        },
        "id": "AxsLanGziTCK",
        "outputId": "91d991cc-4ae5-47ee-e4c1-cd1e622ee618"
      },
      "execution_count": 28,
      "outputs": [
        {
          "output_type": "stream",
          "name": "stdout",
          "text": [
            "Enter your emailrohanmate7218@gmail.com\n",
            "Enter password7845\n",
            "Incorrect password\n",
            "Enter password again1234\n",
            "Welcome,finally\n"
          ]
        }
      ]
    },
    {
      "cell_type": "code",
      "source": [
        "# min of three number \n",
        "\n",
        "a = int(input('first number'))\n",
        "b = int(input('second number'))\n",
        "c = int(input('Third number'))\n",
        "\n",
        "if a < b and a < c :\n",
        "  print('smallest is',a)\n",
        "elif b < c:\n",
        "  print('smallest is',b)  \n",
        "else:\n",
        "  print('smallest is',c)  "
      ],
      "metadata": {
        "colab": {
          "base_uri": "https://localhost:8080/"
        },
        "id": "VRnJ0OlHlEVM",
        "outputId": "9cdb67e6-9beb-44f5-c7d1-fb7a78553be7"
      },
      "execution_count": 29,
      "outputs": [
        {
          "output_type": "stream",
          "name": "stdout",
          "text": [
            "first number5\n",
            "second number9\n",
            "Third number2\n",
            "smallest is 2\n"
          ]
        }
      ]
    },
    {
      "cell_type": "code",
      "source": [
        "# menu driven calculator \n",
        "\n",
        "fnum = int(input('enter the first number'))\n",
        "snum = int(input('enter the second number'))\n",
        "\n",
        "op = input('Enter the operation')\n",
        "\n",
        "if op == '+':\n",
        "  print(fnum+snum)\n",
        "elif op == '-':\n",
        "  print(fnum-snum)  \n",
        "elif op == '*':\n",
        "  print(fnum * snum)\n",
        "else:\n",
        "  print(fnum/snum)    "
      ],
      "metadata": {
        "colab": {
          "base_uri": "https://localhost:8080/"
        },
        "id": "1OWVHrHvn-1V",
        "outputId": "d658a08a-cdac-4f4d-ca8c-5519b07114af"
      },
      "execution_count": 33,
      "outputs": [
        {
          "output_type": "stream",
          "name": "stdout",
          "text": [
            "enter the first number625\n",
            "enter the second number25\n",
            "Enter the operation/\n",
            "25.0\n"
          ]
        }
      ]
    },
    {
      "cell_type": "code",
      "source": [
        "# menu driven -> ATM \n",
        "\n",
        "menu = input(\"\"\"\n",
        "Hi! how can i help you.\n",
        "1. Enter 1 for pin change\n",
        "2. Enter 2 for balance check \n",
        "3. Enter 3 for Withdrawl\n",
        "4. Enter 4 for Exit \n",
        "\"\"\")\n",
        "\n",
        "if menu == '1':\n",
        "  print('pin change')\n",
        "elif menu == '2':\n",
        "  print('balance check') \n",
        "elif menu == '3':\n",
        "  print('withdrawl') \n",
        "else:\n",
        "  print('Exit')    "
      ],
      "metadata": {
        "colab": {
          "base_uri": "https://localhost:8080/"
        },
        "id": "ASLaBfAnpUr4",
        "outputId": "cf325720-03b3-47e5-c833-1f1c4787a55b"
      },
      "execution_count": 34,
      "outputs": [
        {
          "output_type": "stream",
          "name": "stdout",
          "text": [
            "\n",
            "Hi! how can i help you.\n",
            "1. Enter 1 for pin change\n",
            "2. Enter 2 for balance check \n",
            "3. Enter 3 for Withdrawl\n",
            "4. Enter 4 for Exit \n",
            "3\n",
            "withdrawl\n"
          ]
        }
      ]
    },
    {
      "cell_type": "markdown",
      "source": [
        "Modules in python \n",
        "*   math\n",
        "*   keyword\n",
        "*   random\n",
        "*   datetime"
      ],
      "metadata": {
        "id": "v0c55KuCrIgu"
      }
    },
    {
      "cell_type": "code",
      "source": [
        "# math \n",
        "import math \n",
        "\n",
        "math.factorial(5)"
      ],
      "metadata": {
        "colab": {
          "base_uri": "https://localhost:8080/"
        },
        "id": "UsjXQKMZq7EN",
        "outputId": "de111713-bdd8-49ce-dd07-054c218b8ae0"
      },
      "execution_count": 35,
      "outputs": [
        {
          "output_type": "execute_result",
          "data": {
            "text/plain": [
              "120"
            ]
          },
          "metadata": {},
          "execution_count": 35
        }
      ]
    },
    {
      "cell_type": "code",
      "source": [
        "math.sqrt(169)"
      ],
      "metadata": {
        "colab": {
          "base_uri": "https://localhost:8080/"
        },
        "id": "k-mftxbcwams",
        "outputId": "3631e500-55f4-424d-9d0f-d3cf82ddda90"
      },
      "execution_count": 36,
      "outputs": [
        {
          "output_type": "execute_result",
          "data": {
            "text/plain": [
              "13.0"
            ]
          },
          "metadata": {},
          "execution_count": 36
        }
      ]
    },
    {
      "cell_type": "code",
      "source": [
        "# keyword -> reserve word by compiler / interpreter \n",
        "\n",
        "import keyword\n",
        "\n",
        "print(keyword.kwlist)"
      ],
      "metadata": {
        "colab": {
          "base_uri": "https://localhost:8080/"
        },
        "id": "lx5ecIjAwlyj",
        "outputId": "da971c3f-b970-47f2-da39-6d46c6b14307"
      },
      "execution_count": 37,
      "outputs": [
        {
          "output_type": "stream",
          "name": "stdout",
          "text": [
            "['False', 'None', 'True', 'and', 'as', 'assert', 'async', 'await', 'break', 'class', 'continue', 'def', 'del', 'elif', 'else', 'except', 'finally', 'for', 'from', 'global', 'if', 'import', 'in', 'is', 'lambda', 'nonlocal', 'not', 'or', 'pass', 'raise', 'return', 'try', 'while', 'with', 'yield']\n"
          ]
        }
      ]
    },
    {
      "cell_type": "code",
      "source": [
        "# random -> generate random number\n",
        "\n",
        "import random\n",
        "print(random.randint(1,100))\n"
      ],
      "metadata": {
        "colab": {
          "base_uri": "https://localhost:8080/"
        },
        "id": "aXhas-wcxBuf",
        "outputId": "01dbe826-de75-4560-cd3f-d0c2e825a7b7"
      },
      "execution_count": 38,
      "outputs": [
        {
          "output_type": "stream",
          "name": "stdout",
          "text": [
            "72\n"
          ]
        }
      ]
    },
    {
      "cell_type": "code",
      "source": [
        "# datetime \n",
        "\n",
        "import datetime \n",
        "print(datetime.datetime.now())"
      ],
      "metadata": {
        "colab": {
          "base_uri": "https://localhost:8080/"
        },
        "id": "tkBwyBCixTil",
        "outputId": "c7799319-8d7a-4825-8e46-2282b83e3db4"
      },
      "execution_count": 39,
      "outputs": [
        {
          "output_type": "stream",
          "name": "stdout",
          "text": [
            "2023-05-31 12:26:38.735785\n"
          ]
        }
      ]
    },
    {
      "cell_type": "code",
      "source": [
        "help('modules')"
      ],
      "metadata": {
        "colab": {
          "base_uri": "https://localhost:8080/"
        },
        "id": "6VEC_BRMxkNE",
        "outputId": "940fcb85-ca29-4aef-8ac5-d2d0af87617e"
      },
      "execution_count": 40,
      "outputs": [
        {
          "output_type": "stream",
          "name": "stdout",
          "text": [
            "\n",
            "Please wait a moment while I gather a list of all available modules...\n",
            "\n"
          ]
        },
        {
          "output_type": "stream",
          "name": "stderr",
          "text": [
            "/usr/local/lib/python3.10/dist-packages/IPython/kernel/__init__.py:12: ShimWarning: The `IPython.kernel` package has been deprecated since IPython 4.0.You should import from ipykernel or jupyter_client instead.\n",
            "  warn(\"The `IPython.kernel` package has been deprecated since IPython 4.0.\"\n",
            "/usr/local/lib/python3.10/dist-packages/altair/vega/v5/__init__.py:18: AltairDeprecationWarning: The module altair.vega.v5 is deprecated and will be removed in Altair 5.\n",
            "  warnings.warn(\n",
            "/usr/local/lib/python3.10/dist-packages/altair/vegalite/v3/__init__.py:29: AltairDeprecationWarning: The module altair.vegalite.v3 is deprecated and will be removed in Altair 5. Use `import altair as alt` instead of `import altair.vegalite.v3 as alt`.\n",
            "  warnings.warn(\n",
            "/usr/local/lib/python3.10/dist-packages/jupyter_client/ssh/tunnel.py:57: DeprecationWarning:\n",
            "\n",
            "zmq.utils.strtypes is deprecated in pyzmq 23.\n",
            "\n",
            "/usr/local/lib/python3.10/dist-packages/llvmlite/llvmpy/__init__.py:3: UserWarning:\n",
            "\n",
            "The module `llvmlite.llvmpy` is deprecated and will be removed in the future.\n",
            "\n"
          ]
        },
        {
          "output_type": "stream",
          "name": "stdout",
          "text": [
            "Downloading http://dlib.net/files/shape_predictor_68_face_landmarks.dat.bz2 to /root/mlxtend_data/shape_predictor_68_face_landmarks.dat.bz2\n"
          ]
        },
        {
          "output_type": "stream",
          "name": "stderr",
          "text": [
            "/usr/local/lib/python3.10/dist-packages/moviepy/video/fx/painting.py:7: DeprecationWarning:\n",
            "\n",
            "Please use `sobel` from the `scipy.ndimage` namespace, the `scipy.ndimage.filters` namespace is deprecated.\n",
            "\n",
            "/usr/local/lib/python3.10/dist-packages/nibabel/pkg_info.py:73: DeprecationWarning:\n",
            "\n",
            "distutils Version classes are deprecated. Use packaging.version instead.\n",
            "\n",
            "/usr/local/lib/python3.10/dist-packages/nibabel/quaternions.py:31: DeprecationWarning:\n",
            "\n",
            "`np.float` is a deprecated alias for the builtin `float`. To silence this warning, use `float` by itself. Doing this will not modify any behavior and is safe. If you specifically wanted the numpy scalar type, use `np.float64` here.\n",
            "Deprecated in NumPy 1.20; for more details and guidance: https://numpy.org/devdocs/release/1.20.0-notes.html#deprecations\n",
            "\n",
            "/usr/lib/python3.10/pkgutil.py:92: UserWarning:\n",
            "\n",
            "The DICOM readers are highly experimental, unstable, and only work for Siemens time-series at the moment\n",
            "Please use with caution.  We would be grateful for your help in improving them\n",
            "\n",
            "/usr/local/lib/python3.10/dist-packages/nltk/twitter/__init__.py:20: UserWarning:\n",
            "\n",
            "The twython library has not been installed. Some functionality from the twitter package will not be available.\n",
            "\n",
            "/usr/local/lib/python3.10/dist-packages/notebook/utils.py:280: DeprecationWarning:\n",
            "\n",
            "distutils Version classes are deprecated. Use packaging.version instead.\n",
            "\n",
            "/usr/local/lib/python3.10/dist-packages/setuptools/_distutils/msvccompiler.py:66: DeprecationWarning:\n",
            "\n",
            "msvccompiler is deprecated and slated to be removed in the future. Please discontinue use or file an issue with pypa/distutils describing your use case.\n",
            "\n",
            "/usr/lib/python3.10/pkgutil.py:92: UserWarning:\n",
            "\n",
            "The numpy.array_api submodule is still experimental. See NEP 47.\n",
            "\n",
            "/usr/local/lib/python3.10/dist-packages/matplotlib_inline/config.py:68: DeprecationWarning:\n",
            "\n",
            "InlineBackend._figure_format_changed is deprecated in traitlets 4.1: use @observe and @unobserve instead.\n",
            "\n",
            "/usr/local/lib/python3.10/dist-packages/pandas_datareader/compat/__init__.py:11: DeprecationWarning:\n",
            "\n",
            "distutils Version classes are deprecated. Use packaging.version instead.\n",
            "\n",
            "/usr/local/lib/python3.10/dist-packages/pip/_vendor/pkg_resources/__init__.py:121: DeprecationWarning:\n",
            "\n",
            "pkg_resources is deprecated as an API\n",
            "\n",
            "/usr/local/lib/python3.10/dist-packages/pip/_vendor/pkg_resources/__init__.py:2870: DeprecationWarning:\n",
            "\n",
            "Deprecated call to `pkg_resources.declare_namespace('google')`.\n",
            "Implementing implicit namespace packages (as specified in PEP 420) is preferred to `pkg_resources.declare_namespace`. See https://setuptools.pypa.io/en/latest/references/keywords.html#keyword-namespace-packages\n",
            "\n",
            "/usr/local/lib/python3.10/dist-packages/pip/_vendor/pkg_resources/__init__.py:2870: DeprecationWarning:\n",
            "\n",
            "Deprecated call to `pkg_resources.declare_namespace('google.cloud')`.\n",
            "Implementing implicit namespace packages (as specified in PEP 420) is preferred to `pkg_resources.declare_namespace`. See https://setuptools.pypa.io/en/latest/references/keywords.html#keyword-namespace-packages\n",
            "\n",
            "/usr/local/lib/python3.10/dist-packages/pip/_vendor/pkg_resources/__init__.py:2870: DeprecationWarning:\n",
            "\n",
            "Deprecated call to `pkg_resources.declare_namespace('google.logging')`.\n",
            "Implementing implicit namespace packages (as specified in PEP 420) is preferred to `pkg_resources.declare_namespace`. See https://setuptools.pypa.io/en/latest/references/keywords.html#keyword-namespace-packages\n",
            "\n",
            "/usr/local/lib/python3.10/dist-packages/pip/_vendor/pkg_resources/__init__.py:2870: DeprecationWarning:\n",
            "\n",
            "Deprecated call to `pkg_resources.declare_namespace('mpl_toolkits')`.\n",
            "Implementing implicit namespace packages (as specified in PEP 420) is preferred to `pkg_resources.declare_namespace`. See https://setuptools.pypa.io/en/latest/references/keywords.html#keyword-namespace-packages\n",
            "\n",
            "/usr/local/lib/python3.10/dist-packages/pip/_vendor/pkg_resources/__init__.py:2870: DeprecationWarning:\n",
            "\n",
            "Deprecated call to `pkg_resources.declare_namespace('sphinxcontrib')`.\n",
            "Implementing implicit namespace packages (as specified in PEP 420) is preferred to `pkg_resources.declare_namespace`. See https://setuptools.pypa.io/en/latest/references/keywords.html#keyword-namespace-packages\n",
            "\n",
            "/usr/lib/python3.10/pkgutil.py:92: UserWarning: viewer requires Qt\n",
            "/usr/local/lib/python3.10/dist-packages/sphinx/util/docutils.py:15: DeprecationWarning: The distutils package is deprecated and slated for removal in Python 3.12. Use setuptools or check PEP 632 for potential alternatives\n",
            "/usr/local/lib/python3.10/dist-packages/tensorboard/_vendor/html5lib/filters/sanitizer.py:29: DeprecationWarning: html5lib's sanitizer is deprecated; see https://github.com/html5lib/html5lib-python/issues/443 and please let us know if Bleach is unsuitable for your needs\n",
            "/usr/local/lib/python3.10/dist-packages/torch/distributed/_shard/checkpoint/__init__.py:8: DeprecationWarning: torch.distributed._shard.checkpoint will be deprecated, use torch.distributed.checkpoint instead\n",
            "/usr/local/lib/python3.10/dist-packages/torch/distributed/_sharded_tensor/__init__.py:8: DeprecationWarning: torch.distributed._sharded_tensor will be deprecated, use torch.distributed._shard.sharded_tensor instead\n",
            "/usr/local/lib/python3.10/dist-packages/torch/distributed/_sharding_spec/__init__.py:8: DeprecationWarning: torch.distributed._sharding_spec will be deprecated, use torch.distributed._shard.sharding_spec instead\n",
            "No CUDA runtime is found, using CUDA_HOME='/usr/local/cuda'\n",
            "/usr/local/lib/python3.10/dist-packages/torchvision/datapoints/__init__.py:12: UserWarning: The torchvision.datapoints and torchvision.transforms.v2 namespaces are still Beta. While we do not expect major breaking changes, some APIs may still change according to user feedback. Please submit any feedback you may have in this issue: https://github.com/pytorch/vision/issues/6753, and you can also check out https://github.com/pytorch/vision/issues/7319 to learn more about the APIs that we suspect might involve future changes. You can silence this warning by calling torchvision.disable_beta_transforms_warning().\n",
            "/usr/local/lib/python3.10/dist-packages/torchvision/transforms/v2/__init__.py:54: UserWarning: The torchvision.datapoints and torchvision.transforms.v2 namespaces are still Beta. While we do not expect major breaking changes, some APIs may still change according to user feedback. Please submit any feedback you may have in this issue: https://github.com/pytorch/vision/issues/6753, and you can also check out https://github.com/pytorch/vision/issues/7319 to learn more about the APIs that we suspect might involve future changes. You can silence this warning by calling torchvision.disable_beta_transforms_warning().\n"
          ]
        },
        {
          "output_type": "stream",
          "name": "stdout",
          "text": [
            "Cython              colorcet            lazy_loader         rlcompleter\n",
            "IPython             colorlover          lib2to3             rmagic\n",
            "OpenGL              colorsys            libfuturize         rpy2\n",
            "PIL                 community           libpasteurize       rsa\n",
            "__future__          compileall          librosa             runpy\n",
            "_abc                concurrent          lightgbm            sched\n",
            "_aix_support        confection          linecache           scipy\n",
            "_argon2_cffi_bindings configparser        lit                 scs\n",
            "_ast                cons                llvmlite            seaborn\n",
            "_asyncio            contextlib          locale              secrets\n",
            "_bisect             contextlib2         locket              select\n",
            "_blake2             contextvars         logging             selectors\n",
            "_bootsubprocess     contourpy           lsb_release         send2trash\n",
            "_bz2                convertdate         lunarcalendar       setuptools\n",
            "_cffi_backend       copy                lxml                shapely\n",
            "_codecs             copyreg             lzma                shelve\n",
            "_codecs_cn          cpuinfo             mailbox             shlex\n",
            "_codecs_hk          crypt               mailcap             shutil\n",
            "_codecs_iso2022     cryptography        markdown            signal\n",
            "_codecs_jp          csv                 markdown_it         site\n",
            "_codecs_kr          ctypes              markupsafe          sitecustomize\n",
            "_codecs_tw          cufflinks           marshal             six\n",
            "_collections        curses              math                skimage\n",
            "_collections_abc    cv2                 matplotlib          sklearn\n",
            "_compat_pickle      cvxopt              matplotlib_inline   sklearn_pandas\n",
            "_compression        cvxpy               matplotlib_venn     slugify\n",
            "_contextvars        cycler              mdurl               smart_open\n",
            "_crypt              cymem               mimetypes           smtpd\n",
            "_csv                cython              missingno           smtplib\n",
            "_ctypes             cythonmagic         mistune             sndhdr\n",
            "_ctypes_test        dask                mizani              sniffio\n",
            "_curses             dataclasses         ml_dtypes           snowballstemmer\n",
            "_curses_panel       datascience         mlxtend             socket\n",
            "_cvxcore            datetime            mmap                socketserver\n",
            "_datetime           dateutil            modulefinder        socks\n",
            "_dbm                db_dtypes           more_itertools      sockshandler\n",
            "_decimal            dbm                 moviepy             softwareproperties\n",
            "_distutils_hack     dbus                mpmath              sortedcontainers\n",
            "_dlib_pybind11      debugpy             msgpack             soundfile\n",
            "_ecos               decimal             multipledispatch    soupsieve\n",
            "_elementtree        decorator           multiprocessing     soxr\n",
            "_functools          defusedxml          multitasking        spacy\n",
            "_hashlib            difflib             murmurhash          spacy_legacy\n",
            "_heapq              dis                 music21             spacy_loggers\n",
            "_imp                distributed         natsort             sphinx\n",
            "_io                 distutils           nbclient            spwd\n",
            "_json               dlib                nbconvert           sql\n",
            "_locale             doctest             nbformat            sqlalchemy\n",
            "_lsprof             docutils            nest_asyncio        sqlite3\n",
            "_lzma               dopamine            netrc               sqlparse\n",
            "_markupbase         dot_parser          networkx            sre_compile\n",
            "_md5                duckdb              nibabel             sre_constants\n",
            "_multibytecodec     duckdb_query_graph  nis                 sre_parse\n",
            "_multiprocessing    easydict            nisext              srsly\n",
            "_opcode             ecos                nltk                ssl\n",
            "_operator           editdistance        nntplib             stat\n",
            "_osx_support        ee                  notebook            statistics\n",
            "_pickle             email               ntpath              statsmodels\n",
            "_plotly_future_     en_core_web_sm      nturl2path          storemagic\n",
            "_plotly_utils       encodings           numba               string\n",
            "_posixshmem         entrypoints         numbergen           stringprep\n",
            "_posixsubprocess    enum                numbers             struct\n",
            "_py_abc             ephem               numexpr             subprocess\n",
            "_pydecimal          erfa                numpy               sunau\n",
            "_pyio               errno               nvfuser             sympy\n",
            "_pyrsistent_version et_xmlfile          oauth2client        sympyprinting\n",
            "_pytest             etils               oauthlib            symtable\n",
            "_queue              etuples             opcode              sys\n",
            "_random             exceptiongroup      openpyxl            sysconfig\n",
            "_rinterface_cffi_abi fastai              operator            syslog\n",
            "_rinterface_cffi_api fastcore            opt_einsum          tables\n",
            "_scs_direct         fastdownload        optax               tabnanny\n",
            "_scs_indirect       fastjsonschema      optparse            tabulate\n",
            "_sha1               fastprogress        os                  tarfile\n",
            "_sha256             fastrlock           osgeo               tblib\n",
            "_sha3               faulthandler        osgeo_utils         telnetlib\n",
            "_sha512             fcntl               osqp                tempfile\n",
            "_signal             filecmp             osqppurepy          tenacity\n",
            "_sitebuiltins       fileinput           ossaudiodev         tensorboard\n",
            "_socket             filelock            packaging           tensorboard_data_server\n",
            "_soundfile          firebase_admin      palettable          tensorboard_plugin_wit\n",
            "_soundfile_data     flask               pandas              tensorflow\n",
            "_sqlite3            flatbuffers         pandas_datareader   tensorflow_datasets\n",
            "_sre                flax                pandas_gbq          tensorflow_estimator\n",
            "_ssl                fnmatch             pandocfilters       tensorflow_gcs_config\n",
            "_stat               folium              panel               tensorflow_hub\n",
            "_statistics         fontTools           param               tensorflow_io_gcs_filesystem\n",
            "_string             fractions           parso               tensorflow_metadata\n",
            "_strptime           frozendict          partd               tensorflow_probability\n",
            "_struct             fsspec              past                tensorstore\n",
            "_symtable           ftplib              pasta               termcolor\n",
            "_sysconfigdata__linux_x86_64-linux-gnu functools           pathlib             terminado\n",
            "_sysconfigdata__x86_64-linux-gnu functorch           pathy               termios\n",
            "_testbuffer         future              patsy               test\n",
            "_testcapi           gast                pdb                 tests\n",
            "_testclinic         gc                  pexpect             text_unidecode\n",
            "_testimportmultiple gdown               pickle              textblob\n",
            "_testinternalcapi   genericpath         pickleshare         textwrap\n",
            "_testmultiphase     gensim              pickletools         tf_slim\n",
            "_thread             geographiclib       pip                 thinc\n",
            "_threading_local    geopy               pipes               this\n",
            "_tkinter            getopt              piptools            threading\n",
            "_tracemalloc        getpass             pkg_resources       threadpoolctl\n",
            "_uuid               gettext             pkgutil             tifffile\n",
            "_warnings           gi                  platform            time\n",
            "_weakref            gin                 platformdirs        timeit\n",
            "_weakrefset         glob                plistlib            tinycss2\n",
            "_xxsubinterpreters  glob2               plotly              tkinter\n",
            "_xxtestfuzz         google_auth_httplib2 plotnine            tlz\n",
            "_yaml               google_auth_oauthlib pluggy              token\n",
            "_zoneinfo           google_crc32c       polars              tokenize\n",
            "abc                 google_drive_downloader pooch               toml\n",
            "absl                googleapiclient     poplib              tomli\n",
            "aifc                googlesearch        portpicker          toolz\n",
            "alabaster           graphlib            posix               torch\n",
            "albumentations      graphviz            posixpath           torchaudio\n",
            "altair              greenlet            pprint              torchdata\n",
            "antigravity         grp                 prefetch_generator  torchgen\n",
            "anyio               grpc                preshed             torchsummary\n",
            "apiclient           grpc_status         prettytable         torchtext\n",
            "appdirs             gspread             profile             torchvision\n",
            "apt                 gspread_dataframe   proglog             tornado\n",
            "apt_inst            gym                 progressbar         tqdm\n",
            "apt_pkg             gym_notices         prometheus_client   trace\n",
            "aptsources          gzip                promise             traceback\n",
            "argon2              h5netcdf            prompt_toolkit      tracemalloc\n",
            "argparse            h5py                prophet             traitlets\n",
            "array               hashlib             proto               tree\n",
            "array_record        heapq               pstats              triton\n",
            "arviz               hmac                psutil              tty\n",
            "ast                 holidays            psycopg2            turtle\n",
            "astropy             holoviews           pty                 tweepy\n",
            "astunparse          html                ptyprocess          typer\n",
            "asynchat            html5lib            pwd                 types\n",
            "asyncio             http                py                  typing\n",
            "asyncore            httpimport          py4j                typing_extensions\n",
            "atexit              httplib2            py_compile          tzdata\n",
            "attr                humanize            pyarrow             tzlocal\n",
            "attrs               hyperopt            pyasn1              unicodedata\n",
            "audioop             idna                pyasn1_modules      unification\n",
            "audioread           imageio             pyclbr              unittest\n",
            "autograd            imageio_ffmpeg      pycocotools         uritemplate\n",
            "autoreload          imagesize           pycparser           urllib\n",
            "babel               imaplib             pyct                urllib3\n",
            "backcall            imblearn            pydantic            uu\n",
            "base64              imgaug              pydata_google_auth  uuid\n",
            "bdb                 imghdr              pydoc               vega_datasets\n",
            "bin                 imp                 pydoc_data          venv\n",
            "binascii            importlib           pydot               warnings\n",
            "binhex              importlib_resources pydot_ng            wasabi\n",
            "bisect              imutils             pydotplus           wave\n",
            "bleach              inflect             pydrive             wcwidth\n",
            "blis                iniconfig           pyexpat             weakref\n",
            "blosc2              inspect             pygame              webbrowser\n",
            "bokeh               io                  pygments            webcolors\n",
            "boost               ipaddress           pygtkcompat         webencodings\n",
            "branca              ipykernel           pylab               websocket\n",
            "bs4                 ipykernel_launcher  pymc                werkzeug\n",
            "build               ipython_genutils    pymeeus             wheel\n",
            "builtins            ipywidgets          pymystem3           widgetsnbextension\n",
            "bz2                 isympy              pyparsing           wordcloud\n",
            "cProfile            itertools           pyproject_hooks     wrapt\n",
            "cachecontrol        itsdangerous        pyrsistent          wsgiref\n",
            "cached_property     jax                 pytensor            xarray\n",
            "cachetools          jaxlib              pytest              xarray_einstats\n",
            "calendar            jieba               python_utils        xdrlib\n",
            "catalogue           jinja2              pytz                xgboost\n",
            "certifi             joblib              pytz_deprecation_shim xlrd\n",
            "cffi                json                pyviz_comms         xml\n",
            "cgi                 jsonpickle          pywt                xmlrpc\n",
            "cgitb               jsonschema          pyximport           xxlimited\n",
            "chardet             jupyter             qdldl               xxlimited_35\n",
            "charset_normalizer  jupyter_client      qudida              xxsubtype\n",
            "chex                jupyter_console     queue               yaml\n",
            "chunk               jupyter_core        quopri              yellowbrick\n",
            "clang               jupyter_server      random              yfinance\n",
            "click               jupyterlab_plotly   re                  zict\n",
            "cloudpickle         jupyterlab_pygments readline            zipapp\n",
            "cmake               jupyterlab_widgets  regex               zipfile\n",
            "cmath               kaggle              reprlib             zipimport\n",
            "cmd                 kanren              requests            zipp\n",
            "cmdstanpy           keras               requests_oauthlib   zlib\n",
            "code                keyword             requests_unixsocket zmq\n",
            "codecs              kiwisolver          requirements        zoneinfo\n",
            "codeop              korean_lunar_calendar resource            \n",
            "collections         langcodes           rich                \n",
            "\n",
            "Enter any module name to get more help.  Or, type \"modules spam\" to search\n",
            "for modules whose name or summary contain the string \"spam\".\n",
            "\n"
          ]
        },
        {
          "output_type": "stream",
          "name": "stderr",
          "text": [
            "/usr/lib/python3.10/pkgutil.py:107: VisibleDeprecationWarning: zmq.eventloop.minitornado is deprecated in pyzmq 14.0 and will be removed.\n",
            "    Install tornado itself to use zmq with the tornado IOLoop.\n",
            "    \n"
          ]
        }
      ]
    },
    {
      "cell_type": "markdown",
      "source": [
        "Loops in python \n",
        "\n",
        "\n",
        "*   need for loop \n",
        "*   while loop \n",
        "*   for loop \n"
      ],
      "metadata": {
        "id": "opd40U9lyMC6"
      }
    },
    {
      "cell_type": "code",
      "source": [
        "# a Loop is used to execute a group of instructions or a block of code multiple times, without writing it repeatedly\n",
        "# while loop example  -> program to print the table "
      ],
      "metadata": {
        "id": "6LJLh6Q2xtXb"
      },
      "execution_count": 41,
      "outputs": []
    },
    {
      "cell_type": "code",
      "source": [
        "number = int(input('enter the number'))\n",
        "\n",
        "i = 1\n",
        "\n",
        "while  i < 11 :\n",
        "  print(number, '*',i, '=',number * i)\n",
        "  i += 1\n"
      ],
      "metadata": {
        "colab": {
          "base_uri": "https://localhost:8080/"
        },
        "id": "YZ2mELA4zx6f",
        "outputId": "5367d781-f651-45c3-8d0d-69dbfd216ab2"
      },
      "execution_count": 48,
      "outputs": [
        {
          "output_type": "stream",
          "name": "stdout",
          "text": [
            "enter the number12\n",
            "12 * 1 = 12\n",
            "12 * 2 = 24\n",
            "12 * 3 = 36\n",
            "12 * 4 = 48\n",
            "12 * 5 = 60\n",
            "12 * 6 = 72\n",
            "12 * 7 = 84\n",
            "12 * 8 = 96\n",
            "12 * 9 = 108\n",
            "12 * 10 = 120\n"
          ]
        }
      ]
    },
    {
      "cell_type": "markdown",
      "source": [
        "In general, you should use a for loop when you know how many times the loop should run. If you want the loop to break based on a condition other than the number of times it runs, you should use a while loop"
      ],
      "metadata": {
        "id": "6f83GtRo2HsP"
      }
    },
    {
      "cell_type": "code",
      "source": [
        "# while loop with else \n",
        "\n",
        "x = 1 \n",
        "\n",
        "while x < 3:\n",
        "  print(x)\n",
        "  x += 1\n",
        "else:\n",
        "  print('limit crossed')  "
      ],
      "metadata": {
        "colab": {
          "base_uri": "https://localhost:8080/"
        },
        "id": "1mdvuLqv2Elh",
        "outputId": "ccc41741-0c21-40fb-f833-53edf8305dcb"
      },
      "execution_count": 50,
      "outputs": [
        {
          "output_type": "stream",
          "name": "stdout",
          "text": [
            "1\n",
            "2\n",
            "limit crossed\n"
          ]
        },
        {
          "output_type": "stream",
          "name": "stderr",
          "text": [
            "/usr/local/lib/python3.10/dist-packages/ipykernel/ipkernel.py:283: DeprecationWarning: `should_run_async` will not call `transform_cell` automatically in the future. Please pass the result to `transformed_cell` argument and any exception that happen during thetransform in `preprocessing_exc_tuple` in IPython 7.17 and above.\n"
          ]
        }
      ]
    },
    {
      "cell_type": "code",
      "source": [
        "# Guessing game\n",
        "\n",
        "# generate a random integer between 1 and 100\n",
        "import random\n",
        "jackpot = random.randint(1,100)\n",
        "\n",
        "guess = int(input('guess karo'))\n",
        "counter = 1\n",
        "while guess != jackpot:\n",
        "  if guess < jackpot:\n",
        "    print('galat!guess higher')\n",
        "  else:\n",
        "    print('galat!guess lower')\n",
        "\n",
        "  guess = int(input('guess karo'))\n",
        "  counter += 1\n",
        "\n",
        "else:\n",
        "  print('correct guess')\n",
        "  print('attempts',counter)\n",
        "\n",
        "  \n",
        "\n",
        "\n",
        "\n"
      ],
      "metadata": {
        "colab": {
          "base_uri": "https://localhost:8080/"
        },
        "id": "eA-qm_I83OJy",
        "outputId": "974e95e8-4afb-4402-ab12-d10fbad873a2"
      },
      "execution_count": 56,
      "outputs": [
        {
          "output_type": "stream",
          "name": "stdout",
          "text": [
            "guess karo57\n",
            "galat!guess higher\n",
            "guess karo78\n",
            "galat!guess lower\n",
            "guess karo70\n",
            "galat!guess higher\n",
            "guess karo73\n",
            "correct guess\n",
            "attempts 4\n"
          ]
        }
      ]
    },
    {
      "cell_type": "code",
      "source": [
        "# for loop -> A for loop is used for iterating over a sequence (that is either a list, a tuple, a dictionary, a set, or a string)\n",
        "\n",
        "for i in range(50 ,72,2):\n",
        "  print(i)"
      ],
      "metadata": {
        "colab": {
          "base_uri": "https://localhost:8080/"
        },
        "id": "Pd6uYC-Q6nXd",
        "outputId": "7210d92e-5796-4714-c977-9e9cedc39650"
      },
      "execution_count": 58,
      "outputs": [
        {
          "output_type": "stream",
          "name": "stdout",
          "text": [
            "50\n",
            "52\n",
            "54\n",
            "56\n",
            "58\n",
            "60\n",
            "62\n",
            "64\n",
            "66\n",
            "68\n",
            "70\n"
          ]
        }
      ]
    },
    {
      "cell_type": "code",
      "source": [
        "for i in 'Delhi':\n",
        "  print(i)"
      ],
      "metadata": {
        "colab": {
          "base_uri": "https://localhost:8080/"
        },
        "id": "VV6njLw87eb6",
        "outputId": "61651918-65b0-4ddf-df16-d127dade2558"
      },
      "execution_count": 59,
      "outputs": [
        {
          "output_type": "stream",
          "name": "stdout",
          "text": [
            "D\n",
            "e\n",
            "l\n",
            "h\n",
            "i\n"
          ]
        },
        {
          "output_type": "stream",
          "name": "stderr",
          "text": [
            "/usr/local/lib/python3.10/dist-packages/ipykernel/ipkernel.py:283: DeprecationWarning: `should_run_async` will not call `transform_cell` automatically in the future. Please pass the result to `transformed_cell` argument and any exception that happen during thetransform in `preprocessing_exc_tuple` in IPython 7.17 and above.\n"
          ]
        }
      ]
    },
    {
      "cell_type": "code",
      "source": [
        "for i in {1,2,3,4,5,6,7,8,9}:\n",
        "  print(i)\n"
      ],
      "metadata": {
        "colab": {
          "base_uri": "https://localhost:8080/"
        },
        "id": "L77gEHC58iK3",
        "outputId": "0089c0ec-543c-443a-b1c9-599ba9cec8d5"
      },
      "execution_count": 60,
      "outputs": [
        {
          "output_type": "stream",
          "name": "stdout",
          "text": [
            "1\n",
            "2\n",
            "3\n",
            "4\n",
            "5\n",
            "6\n",
            "7\n",
            "8\n",
            "9\n"
          ]
        },
        {
          "output_type": "stream",
          "name": "stderr",
          "text": [
            "/usr/local/lib/python3.10/dist-packages/ipykernel/ipkernel.py:283: DeprecationWarning: `should_run_async` will not call `transform_cell` automatically in the future. Please pass the result to `transformed_cell` argument and any exception that happen during thetransform in `preprocessing_exc_tuple` in IPython 7.17 and above.\n"
          ]
        }
      ]
    },
    {
      "cell_type": "markdown",
      "source": [
        "Programm : The current population of town is 10000. the population of town is increasing at the rate of 10% per year.  You have to write a programm to find out the population at the end of each of the last 10 years."
      ],
      "metadata": {
        "id": "ZS_IHr5A8ydT"
      }
    },
    {
      "cell_type": "code",
      "source": [
        "curr_pop = 10000\n",
        "\n",
        "for i in range(10,0,-1):\n",
        "  print(i,curr_pop)\n",
        "  curr_pop = curr_pop - 0.1 * curr_pop\n",
        "  "
      ],
      "metadata": {
        "colab": {
          "base_uri": "https://localhost:8080/"
        },
        "id": "s3ETWkFW8tdQ",
        "outputId": "997583c6-ca70-4eb7-b89b-2c8089679100"
      },
      "execution_count": 61,
      "outputs": [
        {
          "output_type": "stream",
          "name": "stdout",
          "text": [
            "10 10000\n",
            "9 9000.0\n",
            "8 8100.0\n",
            "7 7290.0\n",
            "6 6561.0\n",
            "5 5904.9\n",
            "4 5314.41\n",
            "3 4782.969\n",
            "2 4304.6721\n",
            "1 3874.20489\n"
          ]
        },
        {
          "output_type": "stream",
          "name": "stderr",
          "text": [
            "/usr/local/lib/python3.10/dist-packages/ipykernel/ipkernel.py:283: DeprecationWarning: `should_run_async` will not call `transform_cell` automatically in the future. Please pass the result to `transformed_cell` argument and any exception that happen during thetransform in `preprocessing_exc_tuple` in IPython 7.17 and above.\n"
          ]
        }
      ]
    }
  ]
}