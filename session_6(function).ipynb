{
  "nbformat": 4,
  "nbformat_minor": 0,
  "metadata": {
    "colab": {
      "provenance": []
    },
    "kernelspec": {
      "name": "python3",
      "display_name": "Python 3"
    },
    "language_info": {
      "name": "python"
    }
  },
  "cells": [
    {
      "cell_type": "markdown",
      "source": [
        "## Python Function"
      ],
      "metadata": {
        "id": "kO0rg8NzID8V"
      }
    },
    {
      "cell_type": "markdown",
      "source": [
        "Let's create a function(with docstring)"
      ],
      "metadata": {
        "id": "MF2bgITrKHtm"
      }
    },
    {
      "cell_type": "code",
      "execution_count": null,
      "metadata": {
        "id": "6WXcC_qUGpps"
      },
      "outputs": [],
      "source": [
        "def is_even(num):\n",
        "  \"\"\"\n",
        "  This function returns if a given number is odd or even \n",
        "  input - any valid integer \n",
        "  output - odd/even \n",
        "  \"\"\"\n",
        "  if type(num) == int:\n",
        "    if num % 2 == 0:\n",
        "      return 'even'\n",
        "    else:\n",
        "      return 'odd'  \n",
        "  else:\n",
        "    return 'please enter the number'    "
      ]
    },
    {
      "cell_type": "code",
      "source": [
        "# function \n",
        "for i in range(1,11):\n",
        "  x = is_even(i)\n",
        "  print(x)"
      ],
      "metadata": {
        "colab": {
          "base_uri": "https://localhost:8080/"
        },
        "id": "zRFJ7bK3K-Sd",
        "outputId": "acbb3ce9-ea17-4af8-8dd0-8ca7dba66b26"
      },
      "execution_count": null,
      "outputs": [
        {
          "output_type": "stream",
          "name": "stdout",
          "text": [
            "odd\n",
            "even\n",
            "odd\n",
            "even\n",
            "odd\n",
            "even\n",
            "odd\n",
            "even\n",
            "odd\n",
            "even\n"
          ]
        }
      ]
    },
    {
      "cell_type": "markdown",
      "source": [
        "2 point of view "
      ],
      "metadata": {
        "id": "Ml4l05HsLfga"
      }
    },
    {
      "cell_type": "code",
      "source": [
        "is_even('hello')"
      ],
      "metadata": {
        "colab": {
          "base_uri": "https://localhost:8080/",
          "height": 35
        },
        "id": "QdgU7zPeLLr6",
        "outputId": "6d1b21c5-16ce-49dc-f98f-e6dd52aa9fce"
      },
      "execution_count": null,
      "outputs": [
        {
          "output_type": "execute_result",
          "data": {
            "text/plain": [
              "'please enter the number'"
            ],
            "application/vnd.google.colaboratory.intrinsic+json": {
              "type": "string"
            }
          },
          "metadata": {},
          "execution_count": 18
        }
      ]
    },
    {
      "cell_type": "markdown",
      "source": [
        "Types of Argument\n",
        "\n",
        "*   Default Argument \n",
        "*   Positional Argument\n",
        "*   Keyword Argument\n",
        "\n"
      ],
      "metadata": {
        "id": "WmzpBlJjOq5E"
      }
    },
    {
      "cell_type": "code",
      "source": [
        "def power(a,b):\n",
        "  return a**b"
      ],
      "metadata": {
        "id": "LeosyvovNGcC"
      },
      "execution_count": null,
      "outputs": []
    },
    {
      "cell_type": "code",
      "source": [
        "power(2,3)"
      ],
      "metadata": {
        "colab": {
          "base_uri": "https://localhost:8080/"
        },
        "id": "mIRwITsLPHxp",
        "outputId": "273c3ae0-c4e3-4981-cdd0-add16015e326"
      },
      "execution_count": null,
      "outputs": [
        {
          "output_type": "execute_result",
          "data": {
            "text/plain": [
              "8"
            ]
          },
          "metadata": {},
          "execution_count": 20
        }
      ]
    },
    {
      "cell_type": "code",
      "source": [
        "power(2)\n",
        "# code crash ho gaya , we require two input "
      ],
      "metadata": {
        "colab": {
          "base_uri": "https://localhost:8080/",
          "height": 183
        },
        "id": "yO3P7De_PREA",
        "outputId": "31c77f35-291d-48e3-d1a8-9d33ab24e0a3"
      },
      "execution_count": null,
      "outputs": [
        {
          "output_type": "error",
          "ename": "TypeError",
          "evalue": "ignored",
          "traceback": [
            "\u001b[0;31m---------------------------------------------------------------------------\u001b[0m",
            "\u001b[0;31mTypeError\u001b[0m                                 Traceback (most recent call last)",
            "\u001b[0;32m<ipython-input-22-32b9abcb6ab8>\u001b[0m in \u001b[0;36m<cell line: 1>\u001b[0;34m()\u001b[0m\n\u001b[0;32m----> 1\u001b[0;31m \u001b[0mpower\u001b[0m\u001b[0;34m(\u001b[0m\u001b[0;36m2\u001b[0m\u001b[0;34m)\u001b[0m\u001b[0;34m\u001b[0m\u001b[0;34m\u001b[0m\u001b[0m\n\u001b[0m\u001b[1;32m      2\u001b[0m \u001b[0;31m# code crash ho gaya , we require two input\u001b[0m\u001b[0;34m\u001b[0m\u001b[0;34m\u001b[0m\u001b[0m\n",
            "\u001b[0;31mTypeError\u001b[0m: power() missing 1 required positional argument: 'b'"
          ]
        }
      ]
    },
    {
      "cell_type": "code",
      "source": [
        "def power(a = 1, b = 1):\n",
        "  return a**b\n",
        "\n",
        "# Default values indicate that the function argument will take that value if no argument value is passed during the function call  "
      ],
      "metadata": {
        "id": "yYYjy_ngPTZx"
      },
      "execution_count": null,
      "outputs": []
    },
    {
      "cell_type": "code",
      "source": [
        "power(2)"
      ],
      "metadata": {
        "colab": {
          "base_uri": "https://localhost:8080/"
        },
        "id": "fuJEGa9DPt_c",
        "outputId": "62b3eb4d-5cc6-49ed-8f93-f4282b235645"
      },
      "execution_count": null,
      "outputs": [
        {
          "output_type": "execute_result",
          "data": {
            "text/plain": [
              "2"
            ]
          },
          "metadata": {},
          "execution_count": 24
        }
      ]
    },
    {
      "cell_type": "code",
      "source": [
        "power()"
      ],
      "metadata": {
        "colab": {
          "base_uri": "https://localhost:8080/"
        },
        "id": "KPvTARQjPvys",
        "outputId": "d0846e77-4d12-4af4-f11c-82c643376d6e"
      },
      "execution_count": null,
      "outputs": [
        {
          "output_type": "execute_result",
          "data": {
            "text/plain": [
              "1"
            ]
          },
          "metadata": {},
          "execution_count": 25
        }
      ]
    },
    {
      "cell_type": "code",
      "source": [
        "# positional Argument \n",
        "power(2,3)\n",
        "\n",
        "# values passed through arguments should be in the order of parameters in the function definition"
      ],
      "metadata": {
        "colab": {
          "base_uri": "https://localhost:8080/"
        },
        "id": "eBFdCvlLPxYL",
        "outputId": "b1a7339a-94c9-47b5-9c93-a9754efad383"
      },
      "execution_count": null,
      "outputs": [
        {
          "output_type": "execute_result",
          "data": {
            "text/plain": [
              "8"
            ]
          },
          "metadata": {},
          "execution_count": 28
        }
      ]
    },
    {
      "cell_type": "code",
      "source": [
        "# keyword Argument \n",
        "power(b=3,a=2)"
      ],
      "metadata": {
        "colab": {
          "base_uri": "https://localhost:8080/"
        },
        "id": "XTEbafMkSBnd",
        "outputId": "5a6f16bc-f912-4266-9e66-1f3e71b2ed71"
      },
      "execution_count": null,
      "outputs": [
        {
          "output_type": "execute_result",
          "data": {
            "text/plain": [
              "8"
            ]
          },
          "metadata": {},
          "execution_count": 29
        }
      ]
    },
    {
      "cell_type": "markdown",
      "source": [
        "*args and **kwargs                       \n",
        "*args and **kwargs are special Python keywords that are used to pass the variable length of arguments to a function"
      ],
      "metadata": {
        "id": "b7k7Arh8Tqx4"
      }
    },
    {
      "cell_type": "code",
      "source": [
        "# *args \n",
        "# allow us to pass a variable number of non - keyword arguments to a function.\n",
        "\n",
        "def multiply(a,b,c):\n",
        "  return a*b*c\n",
        "\n",
        "# args -> in function we provide n no of inputs   "
      ],
      "metadata": {
        "id": "lmlddJgcSqGH"
      },
      "execution_count": null,
      "outputs": []
    },
    {
      "cell_type": "code",
      "source": [
        "multiply(2,5,6)"
      ],
      "metadata": {
        "colab": {
          "base_uri": "https://localhost:8080/"
        },
        "id": "hvk-OEnUUpae",
        "outputId": "8f24ac91-7402-4111-faf4-b1f0b965ec8c"
      },
      "execution_count": null,
      "outputs": [
        {
          "output_type": "execute_result",
          "data": {
            "text/plain": [
              "60"
            ]
          },
          "metadata": {},
          "execution_count": 31
        }
      ]
    },
    {
      "cell_type": "code",
      "source": [
        "# agar hame eisa function banana hain jo ki kitne bhi n no of input dene se accept krr le tab hum arg ka use karte hain \n",
        "\n",
        "def multiply(*args):\n",
        "  product = 1\n",
        "\n",
        "  for i in args:\n",
        "    product = product * i \n",
        "  return product  "
      ],
      "metadata": {
        "id": "FwqefthNUtS-"
      },
      "execution_count": null,
      "outputs": []
    },
    {
      "cell_type": "code",
      "source": [
        "multiply(4,5,9,8,7,6,3,2)"
      ],
      "metadata": {
        "colab": {
          "base_uri": "https://localhost:8080/"
        },
        "id": "2XRnLuhDVRGE",
        "outputId": "5d43c781-a862-4948-a580-b00ac64f4c77"
      },
      "execution_count": null,
      "outputs": [
        {
          "output_type": "execute_result",
          "data": {
            "text/plain": [
              "362880"
            ]
          },
          "metadata": {},
          "execution_count": 34
        }
      ]
    },
    {
      "cell_type": "code",
      "source": [
        "def multiply(*args):\n",
        "  product = 1\n",
        "\n",
        "  for i in args:\n",
        "    product = product * i \n",
        "  print(args)\n",
        "  return product  \n",
        "\n",
        "# jab hum * ka use karte hain -> it means n no of variable , ye jo variable hain wo internally tuple mein save ho jate hain"
      ],
      "metadata": {
        "id": "0DkUrTr9VVnE"
      },
      "execution_count": null,
      "outputs": []
    },
    {
      "cell_type": "code",
      "source": [
        "multiply(1,2,3,4,5,6,7,8,9,10)"
      ],
      "metadata": {
        "colab": {
          "base_uri": "https://localhost:8080/"
        },
        "id": "uejNVcT3WQsZ",
        "outputId": "27b60416-565f-42fd-d5f0-f6a6cde7b5f5"
      },
      "execution_count": null,
      "outputs": [
        {
          "output_type": "stream",
          "name": "stdout",
          "text": [
            "(1, 2, 3, 4, 5, 6, 7, 8, 9, 10)\n"
          ]
        },
        {
          "output_type": "execute_result",
          "data": {
            "text/plain": [
              "3628800"
            ]
          },
          "metadata": {},
          "execution_count": 38
        }
      ]
    },
    {
      "cell_type": "code",
      "source": [
        "# **kwargs\n",
        "# **kwargs allows us to pass any number of keyword arguments.\n",
        "# Keyword arguments mean that they contain a key-value pair, like a Python dictionary.\n",
        "\n",
        "def display (**kwargs):\n",
        "\n",
        "  for (key,value) in kwargs.items():\n",
        "    print(key,'->',value)"
      ],
      "metadata": {
        "id": "DbR8YMRMWU_w"
      },
      "execution_count": null,
      "outputs": []
    },
    {
      "cell_type": "code",
      "source": [
        "display(India='delhi',Srilanka='colombo',nepal='kathmandu',pakistan = 'islamabad')"
      ],
      "metadata": {
        "colab": {
          "base_uri": "https://localhost:8080/"
        },
        "id": "XIMWLwKGXidL",
        "outputId": "6395b313-6bd8-473a-c6e9-83e5678d19c1"
      },
      "execution_count": null,
      "outputs": [
        {
          "output_type": "stream",
          "name": "stdout",
          "text": [
            "India -> delhi\n",
            "Srilanka -> colombo\n",
            "nepal -> kathmandu\n",
            "pakistan -> islamabad\n"
          ]
        }
      ]
    },
    {
      "cell_type": "markdown",
      "source": [
        "How function are executed in memory ? "
      ],
      "metadata": {
        "id": "lsmpu7V9mUhf"
      }
    },
    {
      "cell_type": "code",
      "source": [
        "def is_even(num):\n",
        "\n",
        "  if type(num) == int:\n",
        "    if num % 2 == 0:\n",
        "      return 'even'\n",
        "    else:\n",
        "      return 'odd'  \n",
        "print(is_even(7))      \n",
        "\n",
        "# function execution -> run this programm in python tutor to visualize -> how internally functions are work   \n",
        "# he lifetime of variables inside a function is as long as the function executes. \n",
        "# These local variables are destroyed as soon as the function returns or terminates."
      ],
      "metadata": {
        "colab": {
          "base_uri": "https://localhost:8080/"
        },
        "id": "sVo5b6gik5nZ",
        "outputId": "c716a6e1-d0fc-40ee-fc0b-31a9118d85aa"
      },
      "execution_count": null,
      "outputs": [
        {
          "output_type": "stream",
          "name": "stdout",
          "text": [
            "odd\n"
          ]
        }
      ]
    },
    {
      "cell_type": "markdown",
      "source": [
        "Without return statement"
      ],
      "metadata": {
        "id": "dRF3MhuEtofn"
      }
    },
    {
      "cell_type": "code",
      "source": [
        "L = [1,2,3]\n",
        "print(L.append(4))"
      ],
      "metadata": {
        "colab": {
          "base_uri": "https://localhost:8080/"
        },
        "id": "xvZYSiwgpUmZ",
        "outputId": "efaff6fe-28e7-42bc-ffaa-afdf217a6a56"
      },
      "execution_count": null,
      "outputs": [
        {
          "output_type": "stream",
          "name": "stdout",
          "text": [
            "None\n"
          ]
        }
      ]
    },
    {
      "cell_type": "code",
      "source": [
        "print(L)"
      ],
      "metadata": {
        "colab": {
          "base_uri": "https://localhost:8080/"
        },
        "id": "3VbbyMuouZbW",
        "outputId": "a208fc61-af66-4255-c503-f9b25067fd57"
      },
      "execution_count": null,
      "outputs": [
        {
          "output_type": "stream",
          "name": "stdout",
          "text": [
            "[1, 2, 3, 4]\n"
          ]
        }
      ]
    },
    {
      "cell_type": "markdown",
      "source": [
        "Variable Scope "
      ],
      "metadata": {
        "id": "pBDYJcmgu3MV"
      }
    },
    {
      "cell_type": "code",
      "source": [
        "def g(y):\n",
        "  print(x)\n",
        "  print(x+1)\n",
        "x = 5 \n",
        "g(x) \n",
        "print(x) "
      ],
      "metadata": {
        "colab": {
          "base_uri": "https://localhost:8080/"
        },
        "id": "nskk9p05ujQq",
        "outputId": "22636306-1bb3-49d9-e498-4fc0e655a6bc"
      },
      "execution_count": null,
      "outputs": [
        {
          "output_type": "stream",
          "name": "stdout",
          "text": [
            "5\n",
            "6\n",
            "5\n"
          ]
        }
      ]
    },
    {
      "cell_type": "code",
      "source": [
        "def f(y):\n",
        "    x = 1\n",
        "    x += 1\n",
        "    print(x)\n",
        "x = 5\n",
        "f(x)\n",
        "print(x)"
      ],
      "metadata": {
        "id": "VvFreq4lvJJF",
        "colab": {
          "base_uri": "https://localhost:8080/"
        },
        "outputId": "7732b334-1cd4-49b9-c613-12100f2394cf"
      },
      "execution_count": null,
      "outputs": [
        {
          "output_type": "stream",
          "name": "stdout",
          "text": [
            "2\n",
            "5\n"
          ]
        }
      ]
    },
    {
      "cell_type": "code",
      "source": [
        "def f(x):\n",
        "   x = x + 1\n",
        "   print('in f(x): x =', x)\n",
        "   return x\n",
        "\n",
        "x = 3\n",
        "z = f(x)\n",
        "print('in main program scope: z =', z)\n",
        "print('in main program scope: x =', x)"
      ],
      "metadata": {
        "colab": {
          "base_uri": "https://localhost:8080/"
        },
        "id": "MhZdnN0gJ6I7",
        "outputId": "810b5b43-f8fd-4850-fedf-67e4a74b27f0"
      },
      "execution_count": null,
      "outputs": [
        {
          "output_type": "stream",
          "name": "stdout",
          "text": [
            "in f(x): x = 4\n",
            "in main program scope: z = 4\n",
            "in main program scope: x = 3\n"
          ]
        }
      ]
    },
    {
      "cell_type": "markdown",
      "source": [
        "Nested Function"
      ],
      "metadata": {
        "id": "gKolPd90KON-"
      }
    },
    {
      "cell_type": "code",
      "source": [
        "def f():\n",
        "  def g():\n",
        "    print('inside function g')\n",
        "    f()\n",
        "  g()\n",
        "  print('inside function f')                                         "
      ],
      "metadata": {
        "id": "Qn9DHvRAJ-gq"
      },
      "execution_count": null,
      "outputs": []
    },
    {
      "cell_type": "code",
      "source": [
        "def g(x):\n",
        "    def h():\n",
        "        x = 'abc'\n",
        "    x = x + 1\n",
        "    print('in g(x): x =', x)\n",
        "    h()\n",
        "    return x\n",
        "\n",
        "x = 3\n",
        "z = g(x)"
      ],
      "metadata": {
        "id": "JJ6-76kPKZJi"
      },
      "execution_count": null,
      "outputs": []
    },
    {
      "cell_type": "markdown",
      "source": [
        "Functions are 1st class citizen            \n",
        "\n",
        "function will act as datatype"
      ],
      "metadata": {
        "id": "8PIyqLBfzMAQ"
      }
    },
    {
      "cell_type": "code",
      "source": [
        "# type and id \n",
        "def square(num):\n",
        "  return num**2\n",
        "\n",
        "type(square)  "
      ],
      "metadata": {
        "colab": {
          "base_uri": "https://localhost:8080/"
        },
        "id": "eIrob0DJzRqg",
        "outputId": "c4ec7770-28b5-4a7e-ee3e-c73f08192c05"
      },
      "execution_count": 2,
      "outputs": [
        {
          "output_type": "execute_result",
          "data": {
            "text/plain": [
              "function"
            ]
          },
          "metadata": {},
          "execution_count": 2
        }
      ]
    },
    {
      "cell_type": "code",
      "source": [
        "id(square)"
      ],
      "metadata": {
        "colab": {
          "base_uri": "https://localhost:8080/"
        },
        "id": "3fzLCORvzzuf",
        "outputId": "33dbade3-ddf9-42d0-aadc-43ff33d33830"
      },
      "execution_count": 3,
      "outputs": [
        {
          "output_type": "execute_result",
          "data": {
            "text/plain": [
              "140524086180544"
            ]
          },
          "metadata": {},
          "execution_count": 3
        }
      ]
    },
    {
      "cell_type": "code",
      "source": [
        "# reassign\n",
        "x = square\n",
        "x\n",
        "id(x)"
      ],
      "metadata": {
        "colab": {
          "base_uri": "https://localhost:8080/"
        },
        "id": "I9h8d3TP0JrM",
        "outputId": "b3588c6f-6d46-43c2-ac9e-407175bc7646"
      },
      "execution_count": 4,
      "outputs": [
        {
          "output_type": "execute_result",
          "data": {
            "text/plain": [
              "140524086180544"
            ]
          },
          "metadata": {},
          "execution_count": 4
        }
      ]
    },
    {
      "cell_type": "code",
      "source": [
        "x(3)\n",
        "# jo square ke function hain wo abhi x ke bhi function hain "
      ],
      "metadata": {
        "colab": {
          "base_uri": "https://localhost:8080/"
        },
        "id": "LDo884700mv7",
        "outputId": "a68831fa-cce4-4bae-873b-70223c0935e7"
      },
      "execution_count": 6,
      "outputs": [
        {
          "output_type": "execute_result",
          "data": {
            "text/plain": [
              "9"
            ]
          },
          "metadata": {},
          "execution_count": 6
        }
      ]
    },
    {
      "cell_type": "code",
      "source": [
        "# deleting a function \n",
        "del square "
      ],
      "metadata": {
        "id": "FQ8rU8Gy0p1a"
      },
      "execution_count": 7,
      "outputs": []
    },
    {
      "cell_type": "code",
      "source": [
        "square(3)"
      ],
      "metadata": {
        "colab": {
          "base_uri": "https://localhost:8080/",
          "height": 165
        },
        "id": "5toxOEnD1G0q",
        "outputId": "072b538f-c989-4fbb-8332-75bf2319df05"
      },
      "execution_count": 8,
      "outputs": [
        {
          "output_type": "error",
          "ename": "NameError",
          "evalue": "ignored",
          "traceback": [
            "\u001b[0;31m---------------------------------------------------------------------------\u001b[0m",
            "\u001b[0;31mNameError\u001b[0m                                 Traceback (most recent call last)",
            "\u001b[0;32m<ipython-input-8-2cfd8bba3a88>\u001b[0m in \u001b[0;36m<cell line: 1>\u001b[0;34m()\u001b[0m\n\u001b[0;32m----> 1\u001b[0;31m \u001b[0msquare\u001b[0m\u001b[0;34m(\u001b[0m\u001b[0;36m3\u001b[0m\u001b[0;34m)\u001b[0m\u001b[0;34m\u001b[0m\u001b[0;34m\u001b[0m\u001b[0m\n\u001b[0m",
            "\u001b[0;31mNameError\u001b[0m: name 'square' is not defined"
          ]
        }
      ]
    },
    {
      "cell_type": "code",
      "source": [
        "x(3)"
      ],
      "metadata": {
        "colab": {
          "base_uri": "https://localhost:8080/"
        },
        "id": "DIcldnq81KKa",
        "outputId": "154f1e2d-f904-4957-b0ac-a87583655fcb"
      },
      "execution_count": 9,
      "outputs": [
        {
          "output_type": "execute_result",
          "data": {
            "text/plain": [
              "9"
            ]
          },
          "metadata": {},
          "execution_count": 9
        }
      ]
    },
    {
      "cell_type": "code",
      "source": [
        "def square(num):\n",
        "  return num**2"
      ],
      "metadata": {
        "id": "Vyn9_k641MCF"
      },
      "execution_count": 10,
      "outputs": []
    },
    {
      "cell_type": "code",
      "source": [
        "# storing a function in list \n",
        "L = [1,2,3,4,square]\n",
        "L"
      ],
      "metadata": {
        "colab": {
          "base_uri": "https://localhost:8080/"
        },
        "id": "-WGCBv4A1P4f",
        "outputId": "f89c4d74-f306-4f48-b25e-8951a6a0a8ec"
      },
      "execution_count": 13,
      "outputs": [
        {
          "output_type": "execute_result",
          "data": {
            "text/plain": [
              "[1, 2, 3, 4, <function __main__.square(num)>]"
            ]
          },
          "metadata": {},
          "execution_count": 13
        }
      ]
    },
    {
      "cell_type": "code",
      "source": [
        "L[-1](3)"
      ],
      "metadata": {
        "colab": {
          "base_uri": "https://localhost:8080/"
        },
        "id": "zTpdSoWC1VfT",
        "outputId": "03c92039-9950-436c-b613-51f62172b64f"
      },
      "execution_count": 12,
      "outputs": [
        {
          "output_type": "execute_result",
          "data": {
            "text/plain": [
              "9"
            ]
          },
          "metadata": {},
          "execution_count": 12
        }
      ]
    },
    {
      "cell_type": "code",
      "source": [
        "# function are immutable datatype \n",
        "# how can we prove this -> set store only immutable data set if set store the function then it will be immutable\n",
        "\n",
        "s ={square}\n",
        "s\n",
        "\n",
        "# set store function -> it means function are immutable"
      ],
      "metadata": {
        "colab": {
          "base_uri": "https://localhost:8080/"
        },
        "id": "1BLd6D021d3U",
        "outputId": "a7f07f73-3924-48a7-e2c4-2998bc03bbba"
      },
      "execution_count": 15,
      "outputs": [
        {
          "output_type": "execute_result",
          "data": {
            "text/plain": [
              "{<function __main__.square(num)>}"
            ]
          },
          "metadata": {},
          "execution_count": 15
        }
      ]
    },
    {
      "cell_type": "code",
      "source": [
        "# returning a function \n",
        "\n",
        "def f():\n",
        "  def x(a,b):\n",
        "    return a + b \n",
        "\n",
        "  return x \n",
        "\n",
        "val = f()(3,4) \n",
        "print(val)   "
      ],
      "metadata": {
        "colab": {
          "base_uri": "https://localhost:8080/"
        },
        "id": "F-zcdyiw2O3K",
        "outputId": "e1592a9e-320f-41c3-f949-b2daeb061425"
      },
      "execution_count": 16,
      "outputs": [
        {
          "output_type": "stream",
          "name": "stdout",
          "text": [
            "7\n"
          ]
        }
      ]
    },
    {
      "cell_type": "code",
      "source": [
        "# function as argument \n",
        "\n",
        "def func_a():\n",
        "  print('inside func_a')\n",
        "\n",
        "def func_b(z):\n",
        "  print('inside func_c')\n",
        "  return z() \n",
        "\n",
        "print(func_b(func_a))   "
      ],
      "metadata": {
        "colab": {
          "base_uri": "https://localhost:8080/"
        },
        "id": "RikOwLwR3Wuv",
        "outputId": "1ca4d1f8-4218-4ed2-ea5e-ff036708ebcd"
      },
      "execution_count": 17,
      "outputs": [
        {
          "output_type": "stream",
          "name": "stdout",
          "text": [
            "inside func_c\n",
            "inside func_a\n",
            "None\n"
          ]
        }
      ]
    },
    {
      "cell_type": "markdown",
      "source": [
        "Benefits of using a function\n",
        "\n",
        "*   Code Modularity\n",
        "*   Code Readibility\n",
        "*   Code Reusability\n",
        "\n"
      ],
      "metadata": {
        "id": "_HkAFeG_4XFV"
      }
    },
    {
      "cell_type": "markdown",
      "source": [
        "# Lambda Function\n",
        "\n",
        "A Lambda function is small anonymous function.              \n",
        "A Lambda function can take any number of arguments, but can only have one expression."
      ],
      "metadata": {
        "id": "PIqHb55p4r1C"
      }
    },
    {
      "cell_type": "code",
      "source": [
        "# x -> x^2\n",
        "\n",
        "a = lambda x:x**2"
      ],
      "metadata": {
        "id": "kZPVeG1l4DE2"
      },
      "execution_count": 19,
      "outputs": []
    },
    {
      "cell_type": "code",
      "source": [
        "a(14)"
      ],
      "metadata": {
        "colab": {
          "base_uri": "https://localhost:8080/"
        },
        "id": "cmPVLRRW5kFI",
        "outputId": "850e1971-f3ed-466b-ceed-636757eeef55"
      },
      "execution_count": 20,
      "outputs": [
        {
          "output_type": "execute_result",
          "data": {
            "text/plain": [
              "196"
            ]
          },
          "metadata": {},
          "execution_count": 20
        }
      ]
    },
    {
      "cell_type": "code",
      "source": [
        "# x,y -> x + y \n",
        "\n",
        "b = lambda x,y : x + y\n",
        "b(12,18)"
      ],
      "metadata": {
        "colab": {
          "base_uri": "https://localhost:8080/"
        },
        "id": "Yxp1bcEU5ohV",
        "outputId": "d8496546-df28-45e5-8629-e9b6904912fa"
      },
      "execution_count": 21,
      "outputs": [
        {
          "output_type": "execute_result",
          "data": {
            "text/plain": [
              "30"
            ]
          },
          "metadata": {},
          "execution_count": 21
        }
      ]
    },
    {
      "cell_type": "markdown",
      "source": [
        "Diff between lambda function and normal function         \n",
        "\n",
        "\n",
        "*   No Name \n",
        "\n",
        "*   lambda has no return value(infact,return a function)\n",
        "\n",
        "*   lambda is written in 1 line \n",
        "*   not reusable\n",
        "\n",
        "Then why use lambda function                   \n",
        "they are used with HOF(Higher order function)\n",
        "\n",
        "\n"
      ],
      "metadata": {
        "id": "ZbFKksUF5-TK"
      }
    },
    {
      "cell_type": "code",
      "source": [
        "# check if a string has 'a'\n",
        "\n",
        "a = lambda s : 'a' in s \n",
        "a('hello')"
      ],
      "metadata": {
        "colab": {
          "base_uri": "https://localhost:8080/"
        },
        "id": "9ANwTWAf50PK",
        "outputId": "28acbe13-ba6a-464a-efc7-7972d14db1f0"
      },
      "execution_count": 22,
      "outputs": [
        {
          "output_type": "execute_result",
          "data": {
            "text/plain": [
              "False"
            ]
          },
          "metadata": {},
          "execution_count": 22
        }
      ]
    },
    {
      "cell_type": "code",
      "source": [
        "from typing_extensions import OrderedDict\n",
        "# odd or even \n",
        "\n",
        "b = lambda x: 'even' if x%2 == 0 else Odd \n",
        "b(6)"
      ],
      "metadata": {
        "colab": {
          "base_uri": "https://localhost:8080/",
          "height": 35
        },
        "id": "E8ePcExR6_n5",
        "outputId": "27143afd-1969-4f0f-939c-9ab8fca1d5e5"
      },
      "execution_count": 23,
      "outputs": [
        {
          "output_type": "execute_result",
          "data": {
            "text/plain": [
              "'even'"
            ],
            "application/vnd.google.colaboratory.intrinsic+json": {
              "type": "string"
            }
          },
          "metadata": {},
          "execution_count": 23
        }
      ]
    },
    {
      "cell_type": "markdown",
      "source": [
        "Higher order function"
      ],
      "metadata": {
        "id": "Jr0ijYgJ7fMa"
      }
    },
    {
      "cell_type": "code",
      "source": [
        "# a function that takes a function as an argument, or returns a function . \n",
        "# input mein dusre function ko recieve kare\n",
        "\n",
        "def square(x):\n",
        "  return x **2 \n",
        "\n",
        "def cube(x):\n",
        "  return x ** 3   \n",
        "\n",
        "# transform ek higher order function hain -> kyonki usse input mein ek function mil raha hain \n",
        "def transform(f,L):\n",
        "  output = [] \n",
        "  for i in L:\n",
        "    output.append(f(i)) \n",
        "  print(output) \n",
        "\n",
        "L = [1,2,3,4,5,6,7,8,9] \n",
        "transform(square,L)  "
      ],
      "metadata": {
        "colab": {
          "base_uri": "https://localhost:8080/"
        },
        "id": "1uPinXoD7WPK",
        "outputId": "e501265e-597d-49da-f94d-b77c25e7fe7f"
      },
      "execution_count": 24,
      "outputs": [
        {
          "output_type": "stream",
          "name": "stdout",
          "text": [
            "[1, 4, 9, 16, 25, 36, 49, 64, 81]\n"
          ]
        }
      ]
    },
    {
      "cell_type": "code",
      "source": [
        "# rather of using square/cube we use lambda function\n",
        "\n",
        "transform(lambda x : x **3,L)"
      ],
      "metadata": {
        "colab": {
          "base_uri": "https://localhost:8080/"
        },
        "id": "613VZh2U8ZXe",
        "outputId": "d301ed7d-c40c-45fc-fd0b-719d8566bb14"
      },
      "execution_count": 25,
      "outputs": [
        {
          "output_type": "stream",
          "name": "stdout",
          "text": [
            "[1, 8, 27, 64, 125, 216, 343, 512, 729]\n"
          ]
        }
      ]
    },
    {
      "cell_type": "markdown",
      "source": [
        "Map               \n",
        " a function that works as an iterator to return a result after applying a function to every item of an iterable (tuple, lists, etc.)"
      ],
      "metadata": {
        "id": "Nyk2JmNR9U2d"
      }
    },
    {
      "cell_type": "code",
      "source": [
        "# square the items of list\n",
        "# map -> hum kissi bhi list ke uppar ek logic apply krr sakte hain \n",
        "\n",
        "list(map(lambda x : x **2 , [2,5,6,8,9,7,4,3]))"
      ],
      "metadata": {
        "colab": {
          "base_uri": "https://localhost:8080/"
        },
        "id": "CAz3XVOA9Iah",
        "outputId": "d914eedb-7619-4871-b7d6-2c5b7ff38ea6"
      },
      "execution_count": 26,
      "outputs": [
        {
          "output_type": "execute_result",
          "data": {
            "text/plain": [
              "[4, 25, 36, 64, 81, 49, 16, 9]"
            ]
          },
          "metadata": {},
          "execution_count": 26
        }
      ]
    },
    {
      "cell_type": "code",
      "source": [
        "# odd/even labelling of list items \n",
        "L = [1,2,3,4,5]\n",
        "list(map(lambda x :'even' if x%2 == 0 else 'odd', L ))"
      ],
      "metadata": {
        "colab": {
          "base_uri": "https://localhost:8080/"
        },
        "id": "kH_Khgbf98E0",
        "outputId": "134e9507-1015-4b95-c07d-600f10706cf7"
      },
      "execution_count": 29,
      "outputs": [
        {
          "output_type": "execute_result",
          "data": {
            "text/plain": [
              "['odd', 'even', 'odd', 'even', 'odd']"
            ]
          },
          "metadata": {},
          "execution_count": 29
        }
      ]
    },
    {
      "cell_type": "code",
      "source": [
        "# fetch a name from a list of dict \n",
        "\n",
        "users = [\n",
        "    {\n",
        "        'name':'Rahul',\n",
        "        'age':45,\n",
        "        'gender':'male' \n",
        "     \n",
        "    },\n",
        "    {\n",
        "        'name':'Nitish',\n",
        "        'age':33,\n",
        "        'gender':'male' \n",
        "    },\n",
        "    {\n",
        "        'name':'Ankita',\n",
        "        'age':50,\n",
        "        'gender':'female' \n",
        "    }\n",
        "]"
      ],
      "metadata": {
        "id": "Wy98-yl2-OtX"
      },
      "execution_count": 30,
      "outputs": []
    },
    {
      "cell_type": "code",
      "source": [
        "list(map(lambda users:users['name'],users))"
      ],
      "metadata": {
        "colab": {
          "base_uri": "https://localhost:8080/"
        },
        "id": "T2IyQjDq_KWP",
        "outputId": "d770e204-2e5e-40d0-90b4-a69df70da76b"
      },
      "execution_count": 32,
      "outputs": [
        {
          "output_type": "execute_result",
          "data": {
            "text/plain": [
              "['Rahul', 'Nitish', 'Ankita']"
            ]
          },
          "metadata": {},
          "execution_count": 32
        }
      ]
    },
    {
      "cell_type": "markdown",
      "source": [
        "Filter "
      ],
      "metadata": {
        "id": "SsSw69md_n0a"
      }
    },
    {
      "cell_type": "code",
      "source": [
        "# numbers greater than 5 \n",
        "L =[3,4,5,6,8,2,12]\n",
        "\n",
        "list(filter(lambda x : x> 5, L ))"
      ],
      "metadata": {
        "colab": {
          "base_uri": "https://localhost:8080/"
        },
        "id": "cnL2fHdn_aos",
        "outputId": "595a2234-10e0-48f8-e876-700188e7d385"
      },
      "execution_count": 33,
      "outputs": [
        {
          "output_type": "execute_result",
          "data": {
            "text/plain": [
              "[6, 8, 12]"
            ]
          },
          "metadata": {},
          "execution_count": 33
        }
      ]
    },
    {
      "cell_type": "code",
      "source": [
        "# map -> list ke harr object ke uppar logic apply karta hain\n",
        "# filter -> list mein se filter karta hain logic wise "
      ],
      "metadata": {
        "id": "jmVyokWi_3lO"
      },
      "execution_count": 34,
      "outputs": []
    },
    {
      "cell_type": "code",
      "source": [
        "# fetch fruits starting with 'a'\n",
        "\n",
        "fruits = ['apple','guava','cherry']\n",
        "\n",
        "list(filter(lambda x : x.startswith ('a'),fruits))"
      ],
      "metadata": {
        "colab": {
          "base_uri": "https://localhost:8080/"
        },
        "id": "xBu8324oAFnN",
        "outputId": "37154806-7745-4984-d673-547962b544a2"
      },
      "execution_count": 37,
      "outputs": [
        {
          "output_type": "execute_result",
          "data": {
            "text/plain": [
              "['apple']"
            ]
          },
          "metadata": {},
          "execution_count": 37
        }
      ]
    },
    {
      "cell_type": "markdown",
      "source": [
        "Reduce              \n",
        "Reduce() is useful when you need to apply a function to an iterable and reduce it to a single cumulative value."
      ],
      "metadata": {
        "id": "RV2TRXptAnt6"
      }
    },
    {
      "cell_type": "code",
      "source": [
        "# sum of all items \n",
        "import functools\n",
        "\n",
        "functools.reduce(lambda x,y : x+y , [1,2,3,4,5])"
      ],
      "metadata": {
        "colab": {
          "base_uri": "https://localhost:8080/"
        },
        "id": "tDB0aUksAbA_",
        "outputId": "4393f370-ac9f-4d6c-cf77-effd9179d994"
      },
      "execution_count": 38,
      "outputs": [
        {
          "output_type": "execute_result",
          "data": {
            "text/plain": [
              "15"
            ]
          },
          "metadata": {},
          "execution_count": 38
        }
      ]
    },
    {
      "cell_type": "code",
      "source": [
        "# find min \n",
        "functools.reduce(lambda x,y: x if x<y else y , [23,11,45,69,85,1,2])"
      ],
      "metadata": {
        "colab": {
          "base_uri": "https://localhost:8080/"
        },
        "id": "oLFMx8CYA5r4",
        "outputId": "94f5e4b0-904c-4e84-c6b3-46ed47d120a9"
      },
      "execution_count": 40,
      "outputs": [
        {
          "output_type": "execute_result",
          "data": {
            "text/plain": [
              "1"
            ]
          },
          "metadata": {},
          "execution_count": 40
        }
      ]
    },
    {
      "cell_type": "code",
      "source": [
        "# find max \n",
        "functools.reduce(lambda x,y: x if x>y else y , [23,11,45,69,85,1,2])"
      ],
      "metadata": {
        "colab": {
          "base_uri": "https://localhost:8080/"
        },
        "id": "YfWS6xToBWxF",
        "outputId": "5e4f9ee1-4751-4acb-9a23-51eeab2fa41e"
      },
      "execution_count": 41,
      "outputs": [
        {
          "output_type": "execute_result",
          "data": {
            "text/plain": [
              "85"
            ]
          },
          "metadata": {},
          "execution_count": 41
        }
      ]
    },
    {
      "cell_type": "code",
      "source": [],
      "metadata": {
        "id": "NEG_E2QdBmFO"
      },
      "execution_count": null,
      "outputs": []
    }
  ]
}