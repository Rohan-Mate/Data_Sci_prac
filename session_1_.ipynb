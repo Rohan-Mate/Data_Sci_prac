{
  "nbformat": 4,
  "nbformat_minor": 0,
  "metadata": {
    "colab": {
      "provenance": []
    },
    "kernelspec": {
      "name": "python3",
      "display_name": "Python 3"
    },
    "language_info": {
      "name": "python"
    }
  },
  "cells": [
    {
      "cell_type": "markdown",
      "source": [
        "Python Fundamental"
      ],
      "metadata": {
        "id": "Ah76QWotAuH4"
      }
    },
    {
      "cell_type": "code",
      "execution_count": 1,
      "metadata": {
        "colab": {
          "base_uri": "https://localhost:8080/"
        },
        "id": "3HHKX7URAnLn",
        "outputId": "18f19098-af3c-4124-8b5a-8fcb12d4f9f6"
      },
      "outputs": [
        {
          "output_type": "stream",
          "name": "stdout",
          "text": [
            "Hello World\n"
          ]
        }
      ],
      "source": [
        "# python is case sensitive language\n",
        "print('Hello World')"
      ]
    },
    {
      "cell_type": "code",
      "source": [
        "print('Rohan',4.8,95,True)"
      ],
      "metadata": {
        "colab": {
          "base_uri": "https://localhost:8080/"
        },
        "id": "i9OI1YKmBgTn",
        "outputId": "5f3ad093-f3f6-41af-a4d2-2272ad23c583"
      },
      "execution_count": 3,
      "outputs": [
        {
          "output_type": "stream",
          "name": "stdout",
          "text": [
            "Rohan 4.8 95 True\n"
          ]
        }
      ]
    },
    {
      "cell_type": "markdown",
      "source": [
        "Data Type"
      ],
      "metadata": {
        "id": "tJvq9FSDe1Ly"
      }
    },
    {
      "cell_type": "code",
      "source": [
        "# Integer \n",
        "print(8)\n",
        "# 1*10^309\n",
        "print(1e308)\n",
        "print(1e309) # Infinite"
      ],
      "metadata": {
        "colab": {
          "base_uri": "https://localhost:8080/"
        },
        "id": "XtaubMwbemHP",
        "outputId": "d6c01d97-ad26-473a-a9ca-1f667d28692d"
      },
      "execution_count": 8,
      "outputs": [
        {
          "output_type": "stream",
          "name": "stdout",
          "text": [
            "8\n",
            "1e+308\n",
            "inf\n"
          ]
        }
      ]
    },
    {
      "cell_type": "code",
      "source": [
        "# decimal / Float \n",
        "print(8.55)\n",
        "print(1.7e308)\n",
        "print(1.7e309) # Infinite"
      ],
      "metadata": {
        "colab": {
          "base_uri": "https://localhost:8080/"
        },
        "id": "A7DtdI-ifE-L",
        "outputId": "3b3e9a1d-dbc7-4b60-8780-a4115cbb0f66"
      },
      "execution_count": 9,
      "outputs": [
        {
          "output_type": "stream",
          "name": "stdout",
          "text": [
            "8.55\n",
            "1.7e+308\n",
            "inf\n"
          ]
        }
      ]
    },
    {
      "cell_type": "code",
      "source": [
        "# Boolean -> is not text \n",
        "print(True)\n",
        "print(False)"
      ],
      "metadata": {
        "colab": {
          "base_uri": "https://localhost:8080/"
        },
        "id": "wZI0vlUtfY9Q",
        "outputId": "9e66c0d8-28a9-4b40-80f7-84298173bedf"
      },
      "execution_count": 11,
      "outputs": [
        {
          "output_type": "stream",
          "name": "stdout",
          "text": [
            "True\n",
            "False\n"
          ]
        }
      ]
    },
    {
      "cell_type": "code",
      "source": [
        "# Text / String\n",
        "print('Hello World')"
      ],
      "metadata": {
        "colab": {
          "base_uri": "https://localhost:8080/"
        },
        "id": "FG5nELD9frhW",
        "outputId": "383d8234-7b3a-4e60-fd47-187c566631fd"
      },
      "execution_count": 12,
      "outputs": [
        {
          "output_type": "stream",
          "name": "stdout",
          "text": [
            "Hello World\n"
          ]
        }
      ]
    },
    {
      "cell_type": "code",
      "source": [
        "# Complex Number \n",
        "print(5+6j)"
      ],
      "metadata": {
        "colab": {
          "base_uri": "https://localhost:8080/"
        },
        "id": "nnKBDV3Xf1fX",
        "outputId": "0d8e96b7-5bec-47ba-efee-13c7e4a2245a"
      },
      "execution_count": 13,
      "outputs": [
        {
          "output_type": "stream",
          "name": "stdout",
          "text": [
            "(5+6j)\n"
          ]
        }
      ]
    },
    {
      "cell_type": "code",
      "source": [
        "# List -> c -> Array\n",
        "\n",
        "print([1,2,3,4,5])"
      ],
      "metadata": {
        "colab": {
          "base_uri": "https://localhost:8080/"
        },
        "id": "eDXkoDpZf9HQ",
        "outputId": "fe9b5bff-8d1f-4182-cd99-e872e9ced524"
      },
      "execution_count": 14,
      "outputs": [
        {
          "output_type": "stream",
          "name": "stdout",
          "text": [
            "[1, 2, 3, 4, 5]\n"
          ]
        }
      ]
    },
    {
      "cell_type": "code",
      "source": [
        "# Tuple\n",
        "print((1,2,3,4,5))"
      ],
      "metadata": {
        "colab": {
          "base_uri": "https://localhost:8080/"
        },
        "id": "gCmoFu--gG5Y",
        "outputId": "81f14a9a-ac9b-4394-fb24-501198af77b9"
      },
      "execution_count": 15,
      "outputs": [
        {
          "output_type": "stream",
          "name": "stdout",
          "text": [
            "(1, 2, 3, 4, 5)\n"
          ]
        }
      ]
    },
    {
      "cell_type": "code",
      "source": [
        "# Sets\n",
        "print({1,2,3,4,5})"
      ],
      "metadata": {
        "colab": {
          "base_uri": "https://localhost:8080/"
        },
        "id": "otgfCNsvgLbQ",
        "outputId": "9a850273-e32b-446d-b704-5b22cd2a9df5"
      },
      "execution_count": 16,
      "outputs": [
        {
          "output_type": "stream",
          "name": "stdout",
          "text": [
            "{1, 2, 3, 4, 5}\n"
          ]
        }
      ]
    },
    {
      "cell_type": "code",
      "source": [
        "# Dictionary -> key value pair\n",
        "print({'name':'Rohan','gender':'male','weight':72})"
      ],
      "metadata": {
        "colab": {
          "base_uri": "https://localhost:8080/"
        },
        "id": "-dVnYYNTgP8P",
        "outputId": "0b3a6cf0-c580-4ee9-dc13-c458ef77271a"
      },
      "execution_count": 17,
      "outputs": [
        {
          "output_type": "stream",
          "name": "stdout",
          "text": [
            "{'name': 'Rohan', 'gender': 'male', 'weight': 72}\n"
          ]
        }
      ]
    },
    {
      "cell_type": "code",
      "source": [
        "# type\n",
        "print(type(3))\n",
        "print(type('3'))\n",
        "print(type(4.8))\n",
        "print(type('Rohan'))\n",
        "print(type([1,2,3,4,5]))"
      ],
      "metadata": {
        "colab": {
          "base_uri": "https://localhost:8080/"
        },
        "id": "tDu-qI9zhmGt",
        "outputId": "fd49894f-06ad-44ce-b301-039a224bd3dc"
      },
      "execution_count": 19,
      "outputs": [
        {
          "output_type": "stream",
          "name": "stdout",
          "text": [
            "<class 'int'>\n",
            "<class 'str'>\n",
            "<class 'float'>\n",
            "<class 'str'>\n",
            "<class 'list'>\n"
          ]
        }
      ]
    },
    {
      "cell_type": "markdown",
      "source": [
        "Variables -> (They are containers for future use)"
      ],
      "metadata": {
        "id": "jwyXIToahZl0"
      }
    },
    {
      "cell_type": "code",
      "source": [
        "name = 'Rohan'\n",
        "print(name)"
      ],
      "metadata": {
        "colab": {
          "base_uri": "https://localhost:8080/"
        },
        "id": "4ffoq5VChgN3",
        "outputId": "02e0cdab-b908-48ed-813d-f37e81f133a2"
      },
      "execution_count": 20,
      "outputs": [
        {
          "output_type": "stream",
          "name": "stdout",
          "text": [
            "Rohan\n"
          ]
        }
      ]
    },
    {
      "cell_type": "code",
      "source": [
        "a = 5\n",
        "b = 6\n",
        "\n",
        "print(a+b)"
      ],
      "metadata": {
        "colab": {
          "base_uri": "https://localhost:8080/"
        },
        "id": "Z2qNUs_Nghaw",
        "outputId": "596a0c14-ff97-4159-b192-9661a8525b7f"
      },
      "execution_count": 21,
      "outputs": [
        {
          "output_type": "stream",
          "name": "stdout",
          "text": [
            "11\n"
          ]
        }
      ]
    },
    {
      "cell_type": "code",
      "source": [
        "# Dynamic typing -> python iterpreter automatically \n",
        "#  Python allows one to add an integer and a floating point number, but adding an integer to a string produces error.\n",
        "a = 5 \n",
        "b = \"Rohan\"\n",
        "a+b"
      ],
      "metadata": {
        "colab": {
          "base_uri": "https://localhost:8080/",
          "height": 200
        },
        "id": "CqW4WDd2jFDB",
        "outputId": "92fed5d1-2101-4860-d21a-970681134092"
      },
      "execution_count": 22,
      "outputs": [
        {
          "output_type": "error",
          "ename": "TypeError",
          "evalue": "ignored",
          "traceback": [
            "\u001b[0;31m---------------------------------------------------------------------------\u001b[0m",
            "\u001b[0;31mTypeError\u001b[0m                                 Traceback (most recent call last)",
            "\u001b[0;32m<ipython-input-22-a01753bf91b6>\u001b[0m in \u001b[0;36m<cell line: 5>\u001b[0;34m()\u001b[0m\n\u001b[1;32m      3\u001b[0m \u001b[0ma\u001b[0m \u001b[0;34m=\u001b[0m \u001b[0;36m5\u001b[0m\u001b[0;34m\u001b[0m\u001b[0;34m\u001b[0m\u001b[0m\n\u001b[1;32m      4\u001b[0m \u001b[0mb\u001b[0m \u001b[0;34m=\u001b[0m \u001b[0;34m\"Rohan\"\u001b[0m\u001b[0;34m\u001b[0m\u001b[0;34m\u001b[0m\u001b[0m\n\u001b[0;32m----> 5\u001b[0;31m \u001b[0ma\u001b[0m\u001b[0;34m+\u001b[0m\u001b[0mb\u001b[0m\u001b[0;34m\u001b[0m\u001b[0;34m\u001b[0m\u001b[0m\n\u001b[0m",
            "\u001b[0;31mTypeError\u001b[0m: unsupported operand type(s) for +: 'int' and 'str'"
          ]
        }
      ]
    },
    {
      "cell_type": "code",
      "source": [
        "# static typing -> variable types are known at compile time\n",
        "# int a = 5\n"
      ],
      "metadata": {
        "colab": {
          "base_uri": "https://localhost:8080/",
          "height": 130
        },
        "id": "NegMCXQpkAa4",
        "outputId": "fce65d65-02cb-4fba-e5b3-0bd00cbce7e7"
      },
      "execution_count": 23,
      "outputs": [
        {
          "output_type": "error",
          "ename": "SyntaxError",
          "evalue": "ignored",
          "traceback": [
            "\u001b[0;36m  File \u001b[0;32m\"<ipython-input-23-f32e3f07ae4c>\"\u001b[0;36m, line \u001b[0;32m2\u001b[0m\n\u001b[0;31m    int a = 5\u001b[0m\n\u001b[0m        ^\u001b[0m\n\u001b[0;31mSyntaxError\u001b[0m\u001b[0;31m:\u001b[0m invalid syntax\n"
          ]
        }
      ]
    },
    {
      "cell_type": "code",
      "source": [
        "# dynamic binding -> when type of object is determined at run time \n",
        "a = 5\n",
        "print(a)\n",
        "a = \"Rohan\"\n",
        "print(a)"
      ],
      "metadata": {
        "colab": {
          "base_uri": "https://localhost:8080/"
        },
        "id": "jC9LFMrkkaJ-",
        "outputId": "743cfb63-39c4-4069-a3a2-a0cb183f5295"
      },
      "execution_count": 24,
      "outputs": [
        {
          "output_type": "stream",
          "name": "stdout",
          "text": [
            "5\n",
            "Rohan\n"
          ]
        }
      ]
    },
    {
      "cell_type": "code",
      "source": [
        "# static binding -> when type of object is determined at compiled time\n",
        "# int a = 5"
      ],
      "metadata": {
        "id": "Z_zRz3bBkrzW"
      },
      "execution_count": 25,
      "outputs": []
    },
    {
      "cell_type": "code",
      "source": [
        "a = 1\n",
        "b = 2 \n",
        "c = 3 \n",
        "print(a,b,c)"
      ],
      "metadata": {
        "colab": {
          "base_uri": "https://localhost:8080/"
        },
        "id": "38yM7vW2nWA3",
        "outputId": "aa052f26-430f-4165-83ee-700a60541043"
      },
      "execution_count": 26,
      "outputs": [
        {
          "output_type": "stream",
          "name": "stdout",
          "text": [
            "1 2 3\n"
          ]
        }
      ]
    },
    {
      "cell_type": "code",
      "source": [
        "a,b,c = 1,2,3\n",
        "print(a,b,c)"
      ],
      "metadata": {
        "colab": {
          "base_uri": "https://localhost:8080/"
        },
        "id": "wZDgzspsnbuT",
        "outputId": "ce6d9d43-8523-4924-e0cc-7f1cf36db744"
      },
      "execution_count": 27,
      "outputs": [
        {
          "output_type": "stream",
          "name": "stdout",
          "text": [
            "1 2 3\n"
          ]
        }
      ]
    },
    {
      "cell_type": "code",
      "source": [
        "a=b=c=5\n",
        "print(a,b,c)"
      ],
      "metadata": {
        "colab": {
          "base_uri": "https://localhost:8080/"
        },
        "id": "oU5mGGunnfqF",
        "outputId": "f0be39a7-51f9-49ab-cc1c-8888d47ed820"
      },
      "execution_count": 28,
      "outputs": [
        {
          "output_type": "stream",
          "name": "stdout",
          "text": [
            "5 5 5\n"
          ]
        }
      ]
    },
    {
      "cell_type": "markdown",
      "source": [
        "Keywords and Identifiers"
      ],
      "metadata": {
        "id": "rabSvY3PpiMX"
      }
    },
    {
      "cell_type": "code",
      "source": [
        "# keywords -> are the reserved words which have predefined meaning and functionality -> 32 words , e.g if,else,True,def,......\n",
        "# compilation -> a process where you convert your code into binary language "
      ],
      "metadata": {
        "id": "NsxF-GCUnqdG"
      },
      "execution_count": null,
      "outputs": []
    },
    {
      "cell_type": "code",
      "source": [
        "# Identifiers \n",
        "# variable,function -> you can start with a digit \n",
        "name1 = \"Rohan\"\n",
        "print(name1)\n",
        "# You can use special chars -> _\n",
        "first_name = \"Rohan\"\n",
        "# Identifiers can not be keywords"
      ],
      "metadata": {
        "colab": {
          "base_uri": "https://localhost:8080/"
        },
        "id": "CYuVhZ56rgsi",
        "outputId": "a49cd7c4-ceb6-4f35-96c3-bfe0e11eeb4a"
      },
      "execution_count": 29,
      "outputs": [
        {
          "output_type": "stream",
          "name": "stdout",
          "text": [
            "Rohan\n"
          ]
        }
      ]
    },
    {
      "cell_type": "markdown",
      "source": [
        "User Input"
      ],
      "metadata": {
        "id": "Y_8OkqLitU5n"
      }
    },
    {
      "cell_type": "code",
      "source": [
        "# static Vs Dynamic Software \n",
        "\n",
        "input(\"Enter your age\")"
      ],
      "metadata": {
        "colab": {
          "base_uri": "https://localhost:8080/",
          "height": 53
        },
        "id": "YDjdqrr3sy0N",
        "outputId": "38476e71-3b1d-47b4-ac25-d9734590acea"
      },
      "execution_count": 30,
      "outputs": [
        {
          "name": "stdout",
          "output_type": "stream",
          "text": [
            "Enter your age27\n"
          ]
        },
        {
          "output_type": "execute_result",
          "data": {
            "text/plain": [
              "'27'"
            ],
            "application/vnd.google.colaboratory.intrinsic+json": {
              "type": "string"
            }
          },
          "metadata": {},
          "execution_count": 30
        }
      ]
    },
    {
      "cell_type": "code",
      "source": [
        "# take input from users and store them in a variable\n",
        "fnum = input('Enter first Number')\n",
        "snum = input('Enter Second Number')\n",
        "print(type(fnum),type(snum))\n",
        "\n",
        "# add the two variable\n",
        "result = fnum + snum\n",
        "\n",
        "# print the result \n",
        "print(result)"
      ],
      "metadata": {
        "colab": {
          "base_uri": "https://localhost:8080/"
        },
        "id": "_P5Fs7Odt36Z",
        "outputId": "ee84a367-01c8-4846-ff0b-befa38daa49a"
      },
      "execution_count": 32,
      "outputs": [
        {
          "output_type": "stream",
          "name": "stdout",
          "text": [
            "Enter first Number56\n",
            "Enter Secon Number68\n",
            "<class 'str'> <class 'str'>\n",
            "5668\n"
          ]
        }
      ]
    },
    {
      "cell_type": "markdown",
      "source": [
        "Type Conversion"
      ],
      "metadata": {
        "id": "1bYPRblowVuO"
      }
    },
    {
      "cell_type": "code",
      "source": [
        "# Implicit Vs Explicit\n",
        "# Implicit type conversion is done automatically by the compiler, without being specified by the user, \n",
        "# when there is more than one data type in an expression.\n",
        "print(5+5.6)\n",
        "print(type(5),type(5.6))"
      ],
      "metadata": {
        "colab": {
          "base_uri": "https://localhost:8080/"
        },
        "id": "ChDrFbQYvT9N",
        "outputId": "2665ea07-ca8c-4b32-9dc7-b65631e977d9"
      },
      "execution_count": 33,
      "outputs": [
        {
          "output_type": "stream",
          "name": "stdout",
          "text": [
            "10.6\n",
            "<class 'int'> <class 'float'>\n"
          ]
        }
      ]
    },
    {
      "cell_type": "code",
      "source": [
        "print (4 + '4')"
      ],
      "metadata": {
        "colab": {
          "base_uri": "https://localhost:8080/",
          "height": 165
        },
        "id": "pbHARFH7wtQt",
        "outputId": "3bb4dda7-4bce-4c53-87c2-3dc4f71455fc"
      },
      "execution_count": 34,
      "outputs": [
        {
          "output_type": "error",
          "ename": "TypeError",
          "evalue": "ignored",
          "traceback": [
            "\u001b[0;31m---------------------------------------------------------------------------\u001b[0m",
            "\u001b[0;31mTypeError\u001b[0m                                 Traceback (most recent call last)",
            "\u001b[0;32m<ipython-input-34-90b070e8f74e>\u001b[0m in \u001b[0;36m<cell line: 1>\u001b[0;34m()\u001b[0m\n\u001b[0;32m----> 1\u001b[0;31m \u001b[0mprint\u001b[0m \u001b[0;34m(\u001b[0m\u001b[0;36m4\u001b[0m \u001b[0;34m+\u001b[0m \u001b[0;34m'4'\u001b[0m\u001b[0;34m)\u001b[0m\u001b[0;34m\u001b[0m\u001b[0;34m\u001b[0m\u001b[0m\n\u001b[0m",
            "\u001b[0;31mTypeError\u001b[0m: unsupported operand type(s) for +: 'int' and 'str'"
          ]
        }
      ]
    },
    {
      "cell_type": "code",
      "source": [
        "# explicitly defined by the user to temporarily change the datatype of a variable to some other datatype.\n",
        "# explicit \n",
        "int('4')"
      ],
      "metadata": {
        "colab": {
          "base_uri": "https://localhost:8080/"
        },
        "id": "E3DOQfTRxSqF",
        "outputId": "fa9ed3c8-25f8-4126-b7f3-94b965b4066e"
      },
      "execution_count": 35,
      "outputs": [
        {
          "output_type": "execute_result",
          "data": {
            "text/plain": [
              "4"
            ]
          },
          "metadata": {},
          "execution_count": 35
        }
      ]
    },
    {
      "cell_type": "code",
      "source": [
        "type(int('4'))"
      ],
      "metadata": {
        "colab": {
          "base_uri": "https://localhost:8080/"
        },
        "id": "LZn4eH8QxrmI",
        "outputId": "dd0f9a63-8607-4cb1-b312-21dbf9861502"
      },
      "execution_count": 36,
      "outputs": [
        {
          "output_type": "execute_result",
          "data": {
            "text/plain": [
              "int"
            ]
          },
          "metadata": {},
          "execution_count": 36
        }
      ]
    },
    {
      "cell_type": "code",
      "source": [
        "int(4.6)"
      ],
      "metadata": {
        "colab": {
          "base_uri": "https://localhost:8080/"
        },
        "id": "APdqNkUsxwEC",
        "outputId": "321e2653-a000-4536-9816-b33044b6e7b6"
      },
      "execution_count": 38,
      "outputs": [
        {
          "output_type": "execute_result",
          "data": {
            "text/plain": [
              "4"
            ]
          },
          "metadata": {},
          "execution_count": 38
        }
      ]
    },
    {
      "cell_type": "code",
      "source": [
        "int(4+5j)"
      ],
      "metadata": {
        "colab": {
          "base_uri": "https://localhost:8080/",
          "height": 165
        },
        "id": "LLPQh9I4x2F6",
        "outputId": "b03dbc28-934b-4116-cf35-a0c01ea2a565"
      },
      "execution_count": 39,
      "outputs": [
        {
          "output_type": "error",
          "ename": "TypeError",
          "evalue": "ignored",
          "traceback": [
            "\u001b[0;31m---------------------------------------------------------------------------\u001b[0m",
            "\u001b[0;31mTypeError\u001b[0m                                 Traceback (most recent call last)",
            "\u001b[0;32m<ipython-input-39-d76730f5fee0>\u001b[0m in \u001b[0;36m<cell line: 1>\u001b[0;34m()\u001b[0m\n\u001b[0;32m----> 1\u001b[0;31m \u001b[0mint\u001b[0m\u001b[0;34m(\u001b[0m\u001b[0;36m4\u001b[0m\u001b[0;34m+\u001b[0m\u001b[0;36m5j\u001b[0m\u001b[0;34m)\u001b[0m\u001b[0;34m\u001b[0m\u001b[0;34m\u001b[0m\u001b[0m\n\u001b[0m",
            "\u001b[0;31mTypeError\u001b[0m: int() argument must be a string, a bytes-like object or a real number, not 'complex'"
          ]
        }
      ]
    },
    {
      "cell_type": "code",
      "source": [
        "# int to string \n",
        "str(5)"
      ],
      "metadata": {
        "colab": {
          "base_uri": "https://localhost:8080/",
          "height": 35
        },
        "id": "6kaDTe1HyIbV",
        "outputId": "0ede898d-6a24-4dea-fa93-784f936b21c7"
      },
      "execution_count": 40,
      "outputs": [
        {
          "output_type": "execute_result",
          "data": {
            "text/plain": [
              "'5'"
            ],
            "application/vnd.google.colaboratory.intrinsic+json": {
              "type": "string"
            }
          },
          "metadata": {},
          "execution_count": 40
        }
      ]
    },
    {
      "cell_type": "code",
      "source": [
        "# float \n",
        "float(4)"
      ],
      "metadata": {
        "colab": {
          "base_uri": "https://localhost:8080/"
        },
        "id": "5mVEgsi-yZSP",
        "outputId": "f60487d2-e022-4aea-b67c-851b7b51ac54"
      },
      "execution_count": 41,
      "outputs": [
        {
          "output_type": "execute_result",
          "data": {
            "text/plain": [
              "4.0"
            ]
          },
          "metadata": {},
          "execution_count": 41
        }
      ]
    },
    {
      "cell_type": "code",
      "source": [
        "# take input from users and store them in a variable\n",
        "fnum = input('Enter first Number')\n",
        "snum = input('Enter Second Number')\n",
        "\n",
        "# add the two variable\n",
        "result = int(fnum) + int(snum)\n",
        "\n",
        "# print the result \n",
        "print(result)\n",
        "print(type(fnum))"
      ],
      "metadata": {
        "colab": {
          "base_uri": "https://localhost:8080/"
        },
        "id": "wYo1zu5Mywt3",
        "outputId": "c4d84bb5-c066-493f-f724-09cc189ddef2"
      },
      "execution_count": 44,
      "outputs": [
        {
          "output_type": "stream",
          "name": "stdout",
          "text": [
            "Enter first Number85\n",
            "Enter Second Number69\n",
            "154\n",
            "<class 'str'>\n"
          ]
        }
      ]
    },
    {
      "cell_type": "code",
      "source": [
        "# take input from users and store them in a variable\n",
        "fnum = int(input('Enter first Number'))\n",
        "snum = int(input('Enter Second Number'))\n",
        "\n",
        "# add the two variable\n",
        "result = fnum + snum\n",
        "\n",
        "# print the result \n",
        "print(result)\n",
        "print(type(fnum))"
      ],
      "metadata": {
        "colab": {
          "base_uri": "https://localhost:8080/"
        },
        "id": "0vd6iDlazCs5",
        "outputId": "820a07af-38bb-4398-88d7-484a7e64d671"
      },
      "execution_count": 46,
      "outputs": [
        {
          "output_type": "stream",
          "name": "stdout",
          "text": [
            "Enter first Number85\n",
            "Enter Second Number35\n",
            "120\n",
            "<class 'int'>\n"
          ]
        }
      ]
    },
    {
      "cell_type": "markdown",
      "source": [
        "Literals"
      ],
      "metadata": {
        "id": "1POREj4B0diV"
      }
    },
    {
      "cell_type": "code",
      "source": [
        "# variable ko jo value milti hai usse hum literal kehte hain \n",
        "\n",
        "# binary literal\n",
        "a = 0b010\n",
        "print(a)"
      ],
      "metadata": {
        "colab": {
          "base_uri": "https://localhost:8080/"
        },
        "id": "zhsZ96f80WWi",
        "outputId": "25d26621-3bd8-438b-c8bf-f5521c17625a"
      },
      "execution_count": 49,
      "outputs": [
        {
          "output_type": "stream",
          "name": "stdout",
          "text": [
            "2\n"
          ]
        }
      ]
    },
    {
      "cell_type": "code",
      "source": [
        "# octal literal \n",
        "b = 0o310\n",
        "print(b)"
      ],
      "metadata": {
        "colab": {
          "base_uri": "https://localhost:8080/"
        },
        "id": "uUDwAQm71B1K",
        "outputId": "4d9a2a49-6d1b-4bbb-972a-438999ff4368"
      },
      "execution_count": 50,
      "outputs": [
        {
          "output_type": "stream",
          "name": "stdout",
          "text": [
            "200\n"
          ]
        }
      ]
    },
    {
      "cell_type": "code",
      "source": [
        "# Hexadecimal literal\n",
        "c = 0x12c\n",
        "print(c)"
      ],
      "metadata": {
        "colab": {
          "base_uri": "https://localhost:8080/"
        },
        "id": "3E1esmYS1dZM",
        "outputId": "3f0b9f9f-a3e2-44fc-ef10-1ca948ab3734"
      },
      "execution_count": 51,
      "outputs": [
        {
          "output_type": "stream",
          "name": "stdout",
          "text": [
            "300\n"
          ]
        }
      ]
    },
    {
      "cell_type": "code",
      "source": [
        "# float literal \n",
        "float_1 = 10.5\n",
        "float_2 = 1.5e2 # 1.5 * 10^2\n",
        "print(1.5e2)"
      ],
      "metadata": {
        "colab": {
          "base_uri": "https://localhost:8080/"
        },
        "id": "DsHmnbxX1qDU",
        "outputId": "e59a7276-e7e0-463f-8a1d-b04f67b5d249"
      },
      "execution_count": 52,
      "outputs": [
        {
          "output_type": "stream",
          "name": "stdout",
          "text": [
            "150.0\n"
          ]
        }
      ]
    },
    {
      "cell_type": "code",
      "source": [
        "float_3 = 1.5e-3\n",
        "print(1.5e-3)"
      ],
      "metadata": {
        "colab": {
          "base_uri": "https://localhost:8080/"
        },
        "id": "iog_0LPI2JyZ",
        "outputId": "43af8c37-75b6-4360-fb1c-e63b13c3a909"
      },
      "execution_count": 53,
      "outputs": [
        {
          "output_type": "stream",
          "name": "stdout",
          "text": [
            "0.0015\n"
          ]
        }
      ]
    },
    {
      "cell_type": "code",
      "source": [
        "a = True + 4\n",
        "b = False + 10\n",
        "print(\"a:\",a)\n",
        "print(\"b:\",b)"
      ],
      "metadata": {
        "colab": {
          "base_uri": "https://localhost:8080/"
        },
        "id": "TDbAEe5U2VAr",
        "outputId": "56bc1bb3-380e-45c6-ec22-1a7f4b423ad5"
      },
      "execution_count": 55,
      "outputs": [
        {
          "output_type": "stream",
          "name": "stdout",
          "text": [
            "a: 5\n",
            "b: 10\n"
          ]
        }
      ]
    },
    {
      "cell_type": "code",
      "source": [
        "a = None \n",
        "print(a)"
      ],
      "metadata": {
        "colab": {
          "base_uri": "https://localhost:8080/"
        },
        "id": "GVP5XGaC_JR2",
        "outputId": "f72e87f3-6fe4-4822-9af1-aa37e67348d3"
      },
      "execution_count": 56,
      "outputs": [
        {
          "output_type": "stream",
          "name": "stdout",
          "text": [
            "None\n"
          ]
        }
      ]
    }
  ]
}