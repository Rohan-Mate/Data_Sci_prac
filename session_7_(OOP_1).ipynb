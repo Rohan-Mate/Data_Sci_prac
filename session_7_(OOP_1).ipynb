{
  "nbformat": 4,
  "nbformat_minor": 0,
  "metadata": {
    "colab": {
      "provenance": []
    },
    "kernelspec": {
      "name": "python3",
      "display_name": "Python 3"
    },
    "language_info": {
      "name": "python"
    }
  },
  "cells": [
    {
      "cell_type": "markdown",
      "source": [
        "Object Oriented Programming"
      ],
      "metadata": {
        "id": "dyF5C97SzXBb"
      }
    },
    {
      "cell_type": "code",
      "execution_count": 1,
      "metadata": {
        "colab": {
          "base_uri": "https://localhost:8080/",
          "height": 200
        },
        "id": "6Hb_58ZIzBAU",
        "outputId": "50d6decc-212f-47ae-ea5d-cf2ab42653dd"
      },
      "outputs": [
        {
          "output_type": "error",
          "ename": "AttributeError",
          "evalue": "ignored",
          "traceback": [
            "\u001b[0;31m---------------------------------------------------------------------------\u001b[0m",
            "\u001b[0;31mAttributeError\u001b[0m                            Traceback (most recent call last)",
            "\u001b[0;32m<ipython-input-1-af1f83522ab7>\u001b[0m in \u001b[0;36m<cell line: 3>\u001b[0;34m()\u001b[0m\n\u001b[1;32m      1\u001b[0m \u001b[0mL\u001b[0m \u001b[0;34m=\u001b[0m \u001b[0;34m[\u001b[0m\u001b[0;36m1\u001b[0m\u001b[0;34m,\u001b[0m\u001b[0;36m2\u001b[0m\u001b[0;34m,\u001b[0m\u001b[0;36m3\u001b[0m\u001b[0;34m]\u001b[0m\u001b[0;34m\u001b[0m\u001b[0;34m\u001b[0m\u001b[0m\n\u001b[1;32m      2\u001b[0m \u001b[0;34m\u001b[0m\u001b[0m\n\u001b[0;32m----> 3\u001b[0;31m \u001b[0mL\u001b[0m\u001b[0;34m.\u001b[0m\u001b[0mupper\u001b[0m\u001b[0;34m(\u001b[0m\u001b[0;34m)\u001b[0m\u001b[0;34m\u001b[0m\u001b[0;34m\u001b[0m\u001b[0m\n\u001b[0m",
            "\u001b[0;31mAttributeError\u001b[0m: 'list' object has no attribute 'upper'"
          ]
        }
      ],
      "source": [
        "L = [1,2,3]\n",
        "\n",
        "L.upper()"
      ]
    },
    {
      "cell_type": "code",
      "source": [
        "s = 'hello'\n",
        "s.append()"
      ],
      "metadata": {
        "colab": {
          "base_uri": "https://localhost:8080/",
          "height": 183
        },
        "id": "gptjAYxN0M27",
        "outputId": "3189d4c8-83c8-435a-d73e-00ee081a925b"
      },
      "execution_count": 2,
      "outputs": [
        {
          "output_type": "error",
          "ename": "AttributeError",
          "evalue": "ignored",
          "traceback": [
            "\u001b[0;31m---------------------------------------------------------------------------\u001b[0m",
            "\u001b[0;31mAttributeError\u001b[0m                            Traceback (most recent call last)",
            "\u001b[0;32m<ipython-input-2-f8b8cb5c8232>\u001b[0m in \u001b[0;36m<cell line: 2>\u001b[0;34m()\u001b[0m\n\u001b[1;32m      1\u001b[0m \u001b[0ms\u001b[0m \u001b[0;34m=\u001b[0m \u001b[0;34m'hello'\u001b[0m\u001b[0;34m\u001b[0m\u001b[0;34m\u001b[0m\u001b[0m\n\u001b[0;32m----> 2\u001b[0;31m \u001b[0ms\u001b[0m\u001b[0;34m.\u001b[0m\u001b[0mappend\u001b[0m\u001b[0;34m(\u001b[0m\u001b[0;34m)\u001b[0m\u001b[0;34m\u001b[0m\u001b[0;34m\u001b[0m\u001b[0m\n\u001b[0m",
            "\u001b[0;31mAttributeError\u001b[0m: 'str' object has no attribute 'append'"
          ]
        }
      ]
    },
    {
      "cell_type": "markdown",
      "source": [
        "string,list,int,tuple,set,dict -> all of these are python object         \n",
        "\n",
        "Everything in python is object"
      ],
      "metadata": {
        "id": "LTeSaLVu0tBO"
      }
    },
    {
      "cell_type": "markdown",
      "source": [
        "OOP -> The main power of oop is that oop gives a programmer the power to create his datatype            \n",
        "\n",
        "object is an instance of the class       "
      ],
      "metadata": {
        "id": "habVYGcv2Y4P"
      }
    },
    {
      "cell_type": "code",
      "source": [
        "L = [1,2,3]\n",
        "print(type(L))"
      ],
      "metadata": {
        "colab": {
          "base_uri": "https://localhost:8080/"
        },
        "id": "xLeZMzaF0a3f",
        "outputId": "8468e679-0f1b-44c1-a92e-cd84fb97615e"
      },
      "execution_count": 3,
      "outputs": [
        {
          "output_type": "stream",
          "name": "stdout",
          "text": [
            "<class 'list'>\n"
          ]
        }
      ]
    },
    {
      "cell_type": "code",
      "source": [
        "L.upper()"
      ],
      "metadata": {
        "colab": {
          "base_uri": "https://localhost:8080/",
          "height": 165
        },
        "id": "Rg9d1xxS4bzH",
        "outputId": "21e8dca7-e7df-494f-8f0f-7b257b811480"
      },
      "execution_count": 4,
      "outputs": [
        {
          "output_type": "error",
          "ename": "AttributeError",
          "evalue": "ignored",
          "traceback": [
            "\u001b[0;31m---------------------------------------------------------------------------\u001b[0m",
            "\u001b[0;31mAttributeError\u001b[0m                            Traceback (most recent call last)",
            "\u001b[0;32m<ipython-input-4-23af83e72fe0>\u001b[0m in \u001b[0;36m<cell line: 1>\u001b[0;34m()\u001b[0m\n\u001b[0;32m----> 1\u001b[0;31m \u001b[0mL\u001b[0m\u001b[0;34m.\u001b[0m\u001b[0mupper\u001b[0m\u001b[0;34m(\u001b[0m\u001b[0;34m)\u001b[0m\u001b[0;34m\u001b[0m\u001b[0;34m\u001b[0m\u001b[0m\n\u001b[0m",
            "\u001b[0;31mAttributeError\u001b[0m: 'list' object has no attribute 'upper'"
          ]
        }
      ]
    },
    {
      "cell_type": "markdown",
      "source": [
        "list,str,int,float,set,dict -> python built in class \n",
        "\n",
        "Uss class ko hamne L me store krr diya hain islye L is a object"
      ],
      "metadata": {
        "id": "W3h2qjNj4hU8"
      }
    },
    {
      "cell_type": "code",
      "source": [
        "# syntax to create an object\n",
        "\n",
        "# object_name = classname()"
      ],
      "metadata": {
        "id": "MNUzNmnY4dP1"
      },
      "execution_count": 5,
      "outputs": []
    },
    {
      "cell_type": "code",
      "source": [
        "# object literal \n",
        "L = [1,2,3]"
      ],
      "metadata": {
        "id": "eBA60dy98rR6"
      },
      "execution_count": 6,
      "outputs": []
    },
    {
      "cell_type": "code",
      "source": [
        "L = list()\n",
        "L"
      ],
      "metadata": {
        "colab": {
          "base_uri": "https://localhost:8080/"
        },
        "id": "XNpeVzSg8wUG",
        "outputId": "88664125-4a18-480a-fa85-4112eca84907"
      },
      "execution_count": 7,
      "outputs": [
        {
          "output_type": "execute_result",
          "data": {
            "text/plain": [
              "[]"
            ]
          },
          "metadata": {},
          "execution_count": 7
        }
      ]
    },
    {
      "cell_type": "code",
      "source": [
        "s = str()\n",
        "s"
      ],
      "metadata": {
        "colab": {
          "base_uri": "https://localhost:8080/",
          "height": 35
        },
        "id": "dpluR0wu8y8E",
        "outputId": "1442d144-b4ff-4e5a-debf-72dc292d8c5a"
      },
      "execution_count": 8,
      "outputs": [
        {
          "output_type": "execute_result",
          "data": {
            "text/plain": [
              "''"
            ],
            "application/vnd.google.colaboratory.intrinsic+json": {
              "type": "string"
            }
          },
          "metadata": {},
          "execution_count": 8
        }
      ]
    },
    {
      "cell_type": "code",
      "source": [
        "# pascal case \n",
        "# MyAtm,HelloWorld"
      ],
      "metadata": {
        "id": "lWSLjFbG9lSt"
      },
      "execution_count": 9,
      "outputs": []
    },
    {
      "cell_type": "code",
      "source": [
        "class Atm:\n",
        "\n",
        "  # constructor\n",
        "  def __init__(self):\n",
        "    self.pin = ''\n",
        "    self.balance = 0"
      ],
      "metadata": {
        "id": "uSdZXI8H84mt"
      },
      "execution_count": 10,
      "outputs": []
    },
    {
      "cell_type": "code",
      "source": [
        "obj = Atm()"
      ],
      "metadata": {
        "id": "G7oc6lEk_R-I"
      },
      "execution_count": 11,
      "outputs": []
    },
    {
      "cell_type": "code",
      "source": [
        "print(type(obj))"
      ],
      "metadata": {
        "colab": {
          "base_uri": "https://localhost:8080/"
        },
        "id": "551DsopT_UI2",
        "outputId": "e4b4842b-6f19-40c4-f341-01a328d65a92"
      },
      "execution_count": 12,
      "outputs": [
        {
          "output_type": "stream",
          "name": "stdout",
          "text": [
            "<class '__main__.Atm'>\n"
          ]
        }
      ]
    },
    {
      "cell_type": "markdown",
      "source": [
        "python two types classes              \n",
        "1.Builtin               \n",
        "2.user define"
      ],
      "metadata": {
        "id": "iWftEONP_iCY"
      }
    },
    {
      "cell_type": "code",
      "source": [
        "class Atm:\n",
        "\n",
        "  # constructor (special function)-> superpower->  A constructor is a unique function that gets called automatically when an object is created of a class. \n",
        "  def __init__(self):\n",
        "    self.pin = ''\n",
        "    self.balance = 0\n",
        "    self.menu()\n",
        "\n",
        "  def menu(self):\n",
        "    user_input = input(\"\"\"\n",
        "    Hi, how can  I help you ? \n",
        "    1. Press 1 to create pin       \n",
        "    2. Press 2 to change pin     \n",
        "    3. Press 3 to check balance\n",
        "    4. Press 4 to withdraw\n",
        "    5. Anything else to exit \n",
        "    \"\"\")  "
      ],
      "metadata": {
        "id": "NNJY52Hf_WVy"
      },
      "execution_count": 13,
      "outputs": []
    },
    {
      "cell_type": "code",
      "source": [
        "obj = Atm()"
      ],
      "metadata": {
        "colab": {
          "base_uri": "https://localhost:8080/"
        },
        "id": "FSypPWl8DEnS",
        "outputId": "b25786d6-a560-40f9-b1a1-59489907f900"
      },
      "execution_count": 14,
      "outputs": [
        {
          "name": "stdout",
          "output_type": "stream",
          "text": [
            "\n",
            "    Hi, how can  I help you ? \n",
            "    1. Press 1 to create pin       \n",
            "    2. Press 2 to change pin     \n",
            "    3. Press 3 to check balance\n",
            "    4. Press 4 to withdraw\n",
            "    5. Anything else to exit \n",
            "    3\n"
          ]
        }
      ]
    },
    {
      "cell_type": "code",
      "source": [
        "class Atm:\n",
        "\n",
        "  # constructor (special function)-> superpower->  A constructor is a unique function that gets called automatically when an object is created of a class. \n",
        "  def __init__(self):\n",
        "    self.pin = ''\n",
        "    self.balance = 0\n",
        "    self.menu()\n",
        "\n",
        "  def menu(self):\n",
        "    user_input = input(\"\"\"\n",
        "    Hi, how can  I help you ? \n",
        "    1. Press 1 to create pin       \n",
        "    2. Press 2 to change pin     \n",
        "    3. Press 3 to check balance\n",
        "    4. Press 4 to withdraw\n",
        "    5. Anything else to exit \n",
        "    \"\"\")  \n",
        "\n",
        "    if user_input == '1':\n",
        "      # create pin\n",
        "      self.create_pin()\n",
        "    elif user_input == '2':\n",
        "      # change pin\n",
        "      self.change_pin() \n",
        "    elif user_input == '3':\n",
        "      # check balance\n",
        "      self.check_balance()\n",
        "    elif user_input == '4':\n",
        "      # withdraw\n",
        "      self.withdrawl()\n",
        "    else:\n",
        "      exit()     \n",
        "\n",
        "  def create_pin(self):\n",
        "    user_pin = input('enter your pin')    \n",
        "    self.pin = user_pin\n",
        "\n",
        "    user_balance = int(input('enter balance'))\n",
        "    self.balance = user_balance\n",
        "    print('pin create successfully')\n",
        "    self.menu()\n",
        "\n",
        "  def change_pin(self):\n",
        "    old_pin = input('enter old pin')\n",
        "\n",
        "    if old_pin == self.pin:\n",
        "      # let him change the pin \n",
        "      new_pin = input('Enter new pin ')\n",
        "      self.pin = new_pin\n",
        "      print('pin chane successfully')\n",
        "      self.menu()\n",
        "    else:\n",
        "      print('nai karne de sakta re baba') \n",
        "      self.menu() \n",
        "\n",
        "  def check_balance(self):\n",
        "    user_pin = input('enter your pin')\n",
        "    if user_pin == self.pin:\n",
        "      print('Your balance is',self.balance)\n",
        "    else:\n",
        "      print('chal nika yahaan se')  \n",
        "      self.menu()\n",
        "\n",
        "  def withdrawl(self):\n",
        "    user_pin = input('enter the pin')      \n",
        "    if user_pin == self.pin:\n",
        "      amount = int(input('Enter the Amount'))\n",
        "\n",
        "      if amount <= self.balance:\n",
        "        self.balance = self.balance - amount\n",
        "        print('withdrawl successfull balance is',self.balance)\n",
        "        self.menu()\n",
        "      else:\n",
        "        print('abbe garib')\n",
        "\n",
        "    else:\n",
        "      print('sale chor')\n",
        "      self.menu()\n"
      ],
      "metadata": {
        "id": "kiL8Gk9UDG_O"
      },
      "execution_count": 3,
      "outputs": []
    },
    {
      "cell_type": "code",
      "source": [
        "obj = Atm()"
      ],
      "metadata": {
        "colab": {
          "base_uri": "https://localhost:8080/"
        },
        "id": "ieCGA6BYKRVS",
        "outputId": "c1b445a8-4d3a-4725-e2e8-6ec6af23c235"
      },
      "execution_count": 4,
      "outputs": [
        {
          "name": "stdout",
          "output_type": "stream",
          "text": [
            "\n",
            "    Hi, how can  I help you ? \n",
            "    1. Press 1 to create pin       \n",
            "    2. Press 2 to change pin     \n",
            "    3. Press 3 to check balance\n",
            "    4. Press 4 to withdraw\n",
            "    5. Anything else to exit \n",
            "    1\n",
            "enter your pin1234\n",
            "enter balance10000\n",
            "pin create successfully\n",
            "\n",
            "    Hi, how can  I help you ? \n",
            "    1. Press 1 to create pin       \n",
            "    2. Press 2 to change pin     \n",
            "    3. Press 3 to check balance\n",
            "    4. Press 4 to withdraw\n",
            "    5. Anything else to exit \n",
            "    2\n",
            "enter old pin5685\n",
            "nai karne de sakta re baba\n",
            "\n",
            "    Hi, how can  I help you ? \n",
            "    1. Press 1 to create pin       \n",
            "    2. Press 2 to change pin     \n",
            "    3. Press 3 to check balance\n",
            "    4. Press 4 to withdraw\n",
            "    5. Anything else to exit \n",
            "    1234\n"
          ]
        }
      ]
    },
    {
      "cell_type": "code",
      "source": [
        "obj1 = Atm()"
      ],
      "metadata": {
        "colab": {
          "base_uri": "https://localhost:8080/"
        },
        "id": "GVvbMk5gKl1p",
        "outputId": "05d11744-b1a7-4cca-821b-921e68b1546c"
      },
      "execution_count": 4,
      "outputs": [
        {
          "output_type": "stream",
          "name": "stdout",
          "text": [
            "\n",
            "    Hi, how can  I help you ? \n",
            "    1. Press 1 to create pin       \n",
            "    2. Press 2 to change pin     \n",
            "    3. Press 3 to check balance\n",
            "    4. Press 4 to withdraw\n",
            "    5. Anything else to exit \n",
            "    1\n",
            "enter your pin1234\n",
            "enter balance10000\n",
            "pin create successfully\n",
            "\n",
            "    Hi, how can  I help you ? \n",
            "    1. Press 1 to create pin       \n",
            "    2. Press 2 to change pin     \n",
            "    3. Press 3 to check balance\n",
            "    4. Press 4 to withdraw\n",
            "    5. Anything else to exit \n",
            "    4\n",
            "enter the pin1234\n",
            "Enter the Amount5000\n",
            "withdrawl successfull balance is 5000\n",
            "\n",
            "    Hi, how can  I help you ? \n",
            "    1. Press 1 to create pin       \n",
            "    2. Press 2 to change pin     \n",
            "    3. Press 3 to check balance\n",
            "    4. Press 4 to withdraw\n",
            "    5. Anything else to exit \n",
            "    3\n",
            "enter your pin1234\n",
            "Your balance is 5000\n"
          ]
        }
      ]
    },
    {
      "cell_type": "code",
      "source": [
        "L = [1,2,3]\n",
        "len(L)   # function -> boz it is outside the list class \n",
        "L.append(4)   # method -> boz it is inside the list class "
      ],
      "metadata": {
        "id": "wl_yOE3CM36V"
      },
      "execution_count": 5,
      "outputs": []
    },
    {
      "cell_type": "markdown",
      "source": [
        "imp, Why we use constructor ?                    \n",
        "jo bhi configurational task hain wo hum construct mein daal denge(eise task jo hum customer ko bina pucche automatically dena chahte hain)                 \n",
        "\n",
        "to write configurational releated code         \n",
        "\n",
        "constructor mein hum jo bhi daal rahe hain uska control user ke pass nahi hota hain..... \n"
      ],
      "metadata": {
        "id": "BdmTV0NLVo54"
      }
    },
    {
      "cell_type": "code",
      "source": [],
      "metadata": {
        "id": "OhCM5GGWVoIS"
      },
      "execution_count": null,
      "outputs": []
    },
    {
      "cell_type": "markdown",
      "source": [
        "Self"
      ],
      "metadata": {
        "id": "yHO1zZ6xZKuY"
      }
    },
    {
      "cell_type": "code",
      "source": [
        "class Atm:\n",
        "\n",
        "  def __init__(self):\n",
        "\n",
        "    print(id(self))\n",
        "    self.pin = ''\n",
        "    self.balance = 0\n"
      ],
      "metadata": {
        "id": "cM076HMZZMCN"
      },
      "execution_count": 6,
      "outputs": []
    },
    {
      "cell_type": "code",
      "source": [
        "obj3 = Atm()"
      ],
      "metadata": {
        "colab": {
          "base_uri": "https://localhost:8080/"
        },
        "id": "eu7621udZVYj",
        "outputId": "04a71c61-41f4-469e-91ec-d5f0cdc74ead"
      },
      "execution_count": 7,
      "outputs": [
        {
          "output_type": "stream",
          "name": "stdout",
          "text": [
            "140351030426736\n"
          ]
        }
      ]
    },
    {
      "cell_type": "code",
      "source": [
        "print(id(obj3))"
      ],
      "metadata": {
        "colab": {
          "base_uri": "https://localhost:8080/"
        },
        "id": "joQfLFk5ZYOA",
        "outputId": "e6a40a41-b578-45a0-f556-a015efa2a88a"
      },
      "execution_count": 8,
      "outputs": [
        {
          "output_type": "stream",
          "name": "stdout",
          "text": [
            "140351030426736\n"
          ]
        }
      ]
    },
    {
      "cell_type": "code",
      "source": [
        "# self hi hamara object hain -> id is same \n",
        "# self is nothing but current object -> oop golden rule is one function is not call by other function \n",
        "# if we require access of other function -> indirectly we use self "
      ],
      "metadata": {
        "id": "q1ncQY4_ZbiH"
      },
      "execution_count": 9,
      "outputs": []
    },
    {
      "cell_type": "code",
      "source": [
        "3/4*5/8\n",
        "# ans in decimal but we want in decimal "
      ],
      "metadata": {
        "colab": {
          "base_uri": "https://localhost:8080/"
        },
        "id": "u_c1tN0tauvr",
        "outputId": "ee02ab35-fc6c-4dec-e958-08ed7f79cd20"
      },
      "execution_count": 10,
      "outputs": [
        {
          "output_type": "execute_result",
          "data": {
            "text/plain": [
              "0.46875"
            ]
          },
          "metadata": {},
          "execution_count": 10
        }
      ]
    },
    {
      "cell_type": "code",
      "source": [
        "class Fraction:\n",
        "\n",
        "  # parameterized constructor -> hum ek isa constructor bana rahe hain jisse input ki jarrurat rehti hai, while object creation \n",
        "  def __init__(self,x,y):\n",
        "    self.num = x\n",
        "    self.den = y \n",
        "\n",
        "  def __str__ (self):\n",
        "    return '{}/{}'.format(self.num,self.den)\n"
      ],
      "metadata": {
        "id": "Oh77TSFwbi_u"
      },
      "execution_count": 14,
      "outputs": []
    },
    {
      "cell_type": "code",
      "source": [
        "fr1 = Fraction(3,4)"
      ],
      "metadata": {
        "id": "_LXp_p3Yc4uJ"
      },
      "execution_count": 15,
      "outputs": []
    },
    {
      "cell_type": "code",
      "source": [
        "print(fr1)"
      ],
      "metadata": {
        "colab": {
          "base_uri": "https://localhost:8080/"
        },
        "id": "wIH_rIjcdBYm",
        "outputId": "0d3ebfe8-4da5-4fb0-ca8d-d07e9344f748"
      },
      "execution_count": 16,
      "outputs": [
        {
          "output_type": "stream",
          "name": "stdout",
          "text": [
            "3/4\n"
          ]
        }
      ]
    },
    {
      "cell_type": "code",
      "source": [
        "fr2 = Fraction(1,2)"
      ],
      "metadata": {
        "id": "OHmznDctdLhn"
      },
      "execution_count": 17,
      "outputs": []
    },
    {
      "cell_type": "code",
      "source": [
        "print(fr2)"
      ],
      "metadata": {
        "colab": {
          "base_uri": "https://localhost:8080/"
        },
        "id": "9-3ZfUEfeE3j",
        "outputId": "1901d410-3e56-469f-d9fc-a5aadcfa1fff"
      },
      "execution_count": 18,
      "outputs": [
        {
          "output_type": "stream",
          "name": "stdout",
          "text": [
            "1/2\n"
          ]
        }
      ]
    },
    {
      "cell_type": "code",
      "source": [
        "fr1 * fr2"
      ],
      "metadata": {
        "colab": {
          "base_uri": "https://localhost:8080/",
          "height": 165
        },
        "id": "Zuf2ECBSeH2A",
        "outputId": "24a65580-751c-4941-f486-f93e2143fadd"
      },
      "execution_count": 19,
      "outputs": [
        {
          "output_type": "error",
          "ename": "TypeError",
          "evalue": "ignored",
          "traceback": [
            "\u001b[0;31m---------------------------------------------------------------------------\u001b[0m",
            "\u001b[0;31mTypeError\u001b[0m                                 Traceback (most recent call last)",
            "\u001b[0;32m<ipython-input-19-9ae0fe6116ad>\u001b[0m in \u001b[0;36m<cell line: 1>\u001b[0;34m()\u001b[0m\n\u001b[0;32m----> 1\u001b[0;31m \u001b[0mfr1\u001b[0m \u001b[0;34m*\u001b[0m \u001b[0mfr2\u001b[0m\u001b[0;34m\u001b[0m\u001b[0;34m\u001b[0m\u001b[0m\n\u001b[0m",
            "\u001b[0;31mTypeError\u001b[0m: unsupported operand type(s) for *: 'Fraction' and 'Fraction'"
          ]
        }
      ]
    },
    {
      "cell_type": "code",
      "source": [
        "class Fraction:\n",
        " \n",
        "  def __init__(self,x,y):\n",
        "    self.num = x\n",
        "    self.den = y \n",
        "\n",
        "  def __str__ (self):\n",
        "    return '{}/{}'.format(self.num,self.den)\n",
        "\n",
        "  def __add__ (self,other):\n",
        "    new_num = self.num*other.den + other.num*self.den\n",
        "    new_den = self.den*other.den\n",
        "\n",
        "    return '{}/{}'.format(new_num,new_den)\n",
        "\n",
        "  def __sub__ (self,other):\n",
        "    new_num = self.num*other.den - other.num*self.den\n",
        "    new_den = self.den*other.den\n",
        "\n",
        "    return '{}/{}'.format(new_num,new_den)\n",
        "\n",
        "  def __mul__ (self,other):\n",
        "    new_num = self.num*other.num\n",
        "    new_den = self.den*other.den\n",
        "\n",
        "    return '{}/{}'.format(new_num,new_den)\n",
        "\n",
        "  def __truediv__ (self,other):\n",
        "    new_num = self.num*other.den\n",
        "    new_den = self.den*other.num\n",
        "\n",
        "    return '{}/{}'.format(new_num,new_den)\n"
      ],
      "metadata": {
        "id": "NTiuzD9yeLX6"
      },
      "execution_count": 28,
      "outputs": []
    },
    {
      "cell_type": "code",
      "source": [
        "fr1 = Fraction(3,4)\n",
        "fr2 = Fraction(5,2)\n",
        "print(fr1+fr2)"
      ],
      "metadata": {
        "colab": {
          "base_uri": "https://localhost:8080/"
        },
        "id": "2XF8E8Rsfwpm",
        "outputId": "dfa62084-6860-4657-83ec-32a74d3737ab"
      },
      "execution_count": 29,
      "outputs": [
        {
          "output_type": "stream",
          "name": "stdout",
          "text": [
            "26/8\n"
          ]
        }
      ]
    },
    {
      "cell_type": "code",
      "source": [
        "fr1 = Fraction(3,4)\n",
        "fr2 = Fraction(5,2)\n",
        "print(fr1-fr2)"
      ],
      "metadata": {
        "colab": {
          "base_uri": "https://localhost:8080/"
        },
        "id": "sVOUsz5Uf83w",
        "outputId": "89bb55bd-ee70-44fc-e8b0-d4a8f3324582"
      },
      "execution_count": 30,
      "outputs": [
        {
          "output_type": "stream",
          "name": "stdout",
          "text": [
            "-14/8\n"
          ]
        }
      ]
    },
    {
      "cell_type": "code",
      "source": [
        "fr1 = Fraction(3,4)\n",
        "fr2 = Fraction(5,2)\n",
        "print(fr1*fr2)"
      ],
      "metadata": {
        "colab": {
          "base_uri": "https://localhost:8080/"
        },
        "id": "2DSoUqxwmHIP",
        "outputId": "9d690215-1da5-4f90-fef6-6a337f137109"
      },
      "execution_count": 31,
      "outputs": [
        {
          "output_type": "stream",
          "name": "stdout",
          "text": [
            "15/8\n"
          ]
        }
      ]
    },
    {
      "cell_type": "code",
      "source": [
        "fr1 = Fraction(3,4)\n",
        "fr2 = Fraction(5,2)\n",
        "print(fr1/fr2)"
      ],
      "metadata": {
        "colab": {
          "base_uri": "https://localhost:8080/"
        },
        "id": "otY62zmimJ2F",
        "outputId": "91609aec-73f6-40f5-ab86-c94391c5a491"
      },
      "execution_count": 32,
      "outputs": [
        {
          "output_type": "stream",
          "name": "stdout",
          "text": [
            "6/20\n"
          ]
        }
      ]
    },
    {
      "cell_type": "code",
      "source": [
        "class Fraction:\n",
        " \n",
        "  def __init__(self,x,y):\n",
        "    self.num = x\n",
        "    self.den = y \n",
        "\n",
        "  def __str__ (self):\n",
        "    return '{}/{}'.format(self.num,self.den)\n",
        "\n",
        "  def __add__ (self,other):\n",
        "    new_num = self.num*other.den + other.num*self.den\n",
        "    new_den = self.den*other.den\n",
        "\n",
        "    return '{}/{}'.format(new_num,new_den)\n",
        "\n",
        "  def __sub__ (self,other):\n",
        "    new_num = self.num*other.den - other.num*self.den\n",
        "    new_den = self.den*other.den\n",
        "\n",
        "    return '{}/{}'.format(new_num,new_den)\n",
        "\n",
        "  def __mul__ (self,other):\n",
        "    new_num = self.num*other.num\n",
        "    new_den = self.den*other.den\n",
        "\n",
        "    return '{}/{}'.format(new_num,new_den)\n",
        "\n",
        "  def __truediv__ (self,other):\n",
        "    new_num = self.num*other.den\n",
        "    new_den = self.den*other.num\n",
        "\n",
        "    return '{}/{}'.format(new_num,new_den)\n",
        "\n",
        "  def convert_to_decimal(self):\n",
        "    return self.num/self.den"
      ],
      "metadata": {
        "id": "o6gKrUbNmLqh"
      },
      "execution_count": 33,
      "outputs": []
    },
    {
      "cell_type": "code",
      "source": [
        "fr1 = Fraction(3,4)"
      ],
      "metadata": {
        "id": "mnGWFhcfm0wm"
      },
      "execution_count": 34,
      "outputs": []
    },
    {
      "cell_type": "code",
      "source": [
        "fr1.convert_to_decimal()"
      ],
      "metadata": {
        "colab": {
          "base_uri": "https://localhost:8080/"
        },
        "id": "IEDxZVCAnGOA",
        "outputId": "4dbd32d1-ab4f-4eca-c55c-59795cd8f248"
      },
      "execution_count": 35,
      "outputs": [
        {
          "output_type": "execute_result",
          "data": {
            "text/plain": [
              "0.75"
            ]
          },
          "metadata": {},
          "execution_count": 35
        }
      ]
    },
    {
      "cell_type": "code",
      "source": [],
      "metadata": {
        "id": "YTzcSiJ3nKCP"
      },
      "execution_count": null,
      "outputs": []
    }
  ]
}