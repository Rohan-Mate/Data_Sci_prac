{
  "nbformat": 4,
  "nbformat_minor": 0,
  "metadata": {
    "colab": {
      "provenance": []
    },
    "kernelspec": {
      "name": "python3",
      "display_name": "Python 3"
    },
    "language_info": {
      "name": "python"
    }
  },
  "cells": [
    {
      "cell_type": "code",
      "execution_count": 1,
      "metadata": {
        "colab": {
          "base_uri": "https://localhost:8080/"
        },
        "id": "Le0M2VG1SWDu",
        "outputId": "8ad483e2-5ef9-4863-c39a-ee1a1e0c2950"
      },
      "outputs": [
        {
          "output_type": "stream",
          "name": "stdout",
          "text": [
            "Enter the stringnitish\n",
            "length of the string is 6\n"
          ]
        }
      ],
      "source": [
        "# find the length of given string without using the len() function \n",
        "\n",
        "s = input('Enter the string')\n",
        "\n",
        "counter = 0\n",
        "\n",
        "for i in s:\n",
        "  counter += 1\n",
        "\n",
        "print('length of the string is',counter)  "
      ]
    },
    {
      "cell_type": "code",
      "source": [
        "# extract username from a given email.\n",
        "# Eg if the emal is nitish24singh@gmail.com\n",
        "# then the username should be nitish24singh\n",
        "\n",
        "s = input('enter the email')\n",
        "\n",
        "pos = s.index('@')\n",
        "print(s[0:pos])"
      ],
      "metadata": {
        "colab": {
          "base_uri": "https://localhost:8080/"
        },
        "id": "noZcFoeMTF51",
        "outputId": "80d4eb95-5ee2-40fb-8f7f-d12c3f561539"
      },
      "execution_count": 2,
      "outputs": [
        {
          "output_type": "stream",
          "name": "stdout",
          "text": [
            "enter the emailnitish@gmail.com\n",
            "nitish\n"
          ]
        }
      ]
    },
    {
      "cell_type": "code",
      "source": [
        "# count the frequency of particular character in a provided string\n",
        "# Eg 'hello how are you' is the string , the frequency of h in this string is 2 .\n",
        "\n",
        "s = input('enter the string')\n",
        "\n",
        "term = input('what would like to search for')\n",
        "\n",
        "counter = 0 \n",
        "for i in s :\n",
        "  if i == term:\n",
        "    counter += 1\n",
        "\n",
        "print('frequency',counter)    "
      ],
      "metadata": {
        "colab": {
          "base_uri": "https://localhost:8080/"
        },
        "id": "xj3RLmy7UCrp",
        "outputId": "e74a2d8f-8011-42f4-e712-3230a7eccdc2"
      },
      "execution_count": 4,
      "outputs": [
        {
          "output_type": "stream",
          "name": "stdout",
          "text": [
            "enter the stringhow are you\n",
            "what would like to search fora\n",
            "frequency 1\n"
          ]
        }
      ]
    },
    {
      "cell_type": "code",
      "source": [
        "# Write a program which can remove a particular character from a string \n",
        "s = input('enter the string')\n",
        "\n",
        "term = input('what would like to search for')\n",
        "\n",
        "result = ''\n",
        "\n",
        "for i in s:\n",
        "  if i !=term:\n",
        "    result = result + i \n",
        "\n",
        "print(result)    "
      ],
      "metadata": {
        "colab": {
          "base_uri": "https://localhost:8080/"
        },
        "id": "76c2HW_WVBnH",
        "outputId": "b7ce0bd1-1fab-49ce-df4d-d14f201d7904"
      },
      "execution_count": 5,
      "outputs": [
        {
          "output_type": "stream",
          "name": "stdout",
          "text": [
            "enter the stringnitish\n",
            "what would like to search fori\n",
            "ntsh\n"
          ]
        }
      ]
    },
    {
      "cell_type": "code",
      "source": [
        "# Write a programm that can check wheather a given string is palindrome or not.\n",
        "# palindrome if it remains the same on reading from both ends. \n",
        "\n",
        "s = input('enter the string')\n",
        "flag = True\n",
        "for i in range(0,len(s)//2):\n",
        "  if s[i] != s[len(s) - i - 1]:\n",
        "    flage = False\n",
        "    break\n",
        "\n",
        "if flag:\n",
        "  print('given string is palindrome')    "
      ],
      "metadata": {
        "colab": {
          "base_uri": "https://localhost:8080/"
        },
        "id": "fm3fdkemWVKq",
        "outputId": "99161636-bf9a-4379-c2f8-aaab44ea3b22"
      },
      "execution_count": 8,
      "outputs": [
        {
          "output_type": "stream",
          "name": "stdout",
          "text": [
            "enter the stringmalyalam\n",
            "given string is palindrome\n"
          ]
        }
      ]
    },
    {
      "cell_type": "code",
      "source": [
        "# Write a programm to count the number of words in a string without split()\n",
        "\n",
        "s = input('enter the string')\n",
        "L = []\n",
        "temp = ''\n",
        "\n",
        "for i in s:\n",
        "\n",
        "  if i != ' ':\n",
        "    temp = temp + i \n",
        "  else:\n",
        "    L.append(temp)\n",
        "    temp = ''\n",
        "\n",
        "L.append(temp)    \n",
        "print(L)    \n"
      ],
      "metadata": {
        "colab": {
          "base_uri": "https://localhost:8080/"
        },
        "id": "QwwV0HvfXqym",
        "outputId": "089a32b0-07f3-4535-e538-bcb93ab7330a"
      },
      "execution_count": 11,
      "outputs": [
        {
          "output_type": "stream",
          "name": "stdout",
          "text": [
            "enter the stringhi how are you \n",
            "['hi', 'how', 'are', 'you', '']\n"
          ]
        }
      ]
    },
    {
      "cell_type": "code",
      "source": [
        "# write a python program to convert a string to list case without using the title().\n",
        "\n",
        "s = input('enter the string')\n",
        "L = []\n",
        "for i in s.split():\n",
        "  L.append(i[0].upper() + i[1:].lower())\n",
        "\n",
        "print(\" \".join(L))\n",
        "  "
      ],
      "metadata": {
        "colab": {
          "base_uri": "https://localhost:8080/"
        },
        "id": "DxJLVNMOpxEL",
        "outputId": "71d55a3c-2d78-4ec6-bdd3-e77387092e08"
      },
      "execution_count": 13,
      "outputs": [
        {
          "output_type": "stream",
          "name": "stdout",
          "text": [
            "enter the stringhi my NAmE iS niTish\n",
            "Hi My Name Is Nitish\n"
          ]
        }
      ]
    },
    {
      "cell_type": "code",
      "source": [
        "# Write a program that can convert an integer to string.\n",
        "\n",
        "number = int(input('enter the number'))\n",
        "\n",
        "digits = '0123456789'\n",
        "result = ''\n",
        "while number != 0:\n",
        "  result = digits[number % 10] + result\n",
        "  number = number//10\n",
        "\n",
        "print(result) \n",
        "print(type(result)) "
      ],
      "metadata": {
        "colab": {
          "base_uri": "https://localhost:8080/"
        },
        "id": "XjzZES5ar10x",
        "outputId": "50042375-4a10-4574-9af8-b2beb17b121d"
      },
      "execution_count": 15,
      "outputs": [
        {
          "output_type": "stream",
          "name": "stdout",
          "text": [
            "enter the number12345678\n",
            "12345678\n",
            "<class 'str'>\n"
          ]
        }
      ]
    },
    {
      "cell_type": "code",
      "source": [],
      "metadata": {
        "id": "_f6PmbgRtFrX"
      },
      "execution_count": null,
      "outputs": []
    }
  ]
}