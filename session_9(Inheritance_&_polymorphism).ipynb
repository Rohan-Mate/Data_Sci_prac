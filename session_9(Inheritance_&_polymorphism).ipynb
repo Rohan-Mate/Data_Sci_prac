{
  "nbformat": 4,
  "nbformat_minor": 0,
  "metadata": {
    "colab": {
      "provenance": []
    },
    "kernelspec": {
      "name": "python3",
      "display_name": "Python 3"
    },
    "language_info": {
      "name": "python"
    }
  },
  "cells": [
    {
      "cell_type": "markdown",
      "source": [
        "Class Releationships                         \n",
        "\n",
        "*   Aggregation\n",
        "*   Inheritance\n",
        "\n"
      ],
      "metadata": {
        "id": "bT1WAGFh3po2"
      }
    },
    {
      "cell_type": "markdown",
      "source": [
        "Aggregation (Has A releationship)"
      ],
      "metadata": {
        "id": "6XFB9v5F3_es"
      }
    },
    {
      "cell_type": "code",
      "execution_count": 2,
      "metadata": {
        "colab": {
          "base_uri": "https://localhost:8080/"
        },
        "id": "UiwvyNtvuaa2",
        "outputId": "b9823669-59aa-42ce-b966-ed2c4af82129"
      },
      "outputs": [
        {
          "output_type": "stream",
          "name": "stdout",
          "text": [
            "haryana gurgaon 122011\n"
          ]
        }
      ],
      "source": [
        "# example \n",
        "\n",
        "class Customer:\n",
        "\n",
        "  def __init__(self,name,gender,address):\n",
        "    self.name = name\n",
        "    self.gender = gender\n",
        "    self.address = address \n",
        "\n",
        "  def print_address(self):\n",
        "    print(self.address.state,self.address.city,self.address.pin)\n",
        "\n",
        "class Address:\n",
        "\n",
        "  def __init__(self,state,city,pin):\n",
        "    self.state = state\n",
        "    self.city = city \n",
        "    self.pin = pin \n",
        "\n",
        "add1 = Address('haryana','gurgaon',122011)\n",
        "cust = Customer('nitish','male',add1) \n",
        "\n",
        "cust.print_address()"
      ]
    },
    {
      "cell_type": "code",
      "source": [
        "# city attribute ko private bana diya (iska matlab hum city ko direct access nahi krr sakte , to city ko access karne ke liye hamne getter ka use kiya)\n",
        "\n",
        "class Customer:\n",
        "\n",
        "  def __init__(self,name,gender,address):\n",
        "    self.name = name\n",
        "    self.gender = gender\n",
        "    self.address = address \n",
        "\n",
        "  def print_address(self):\n",
        "    print(self.address.state,self.address.get_city(),self.address.pin)\n",
        "\n",
        "class Address:\n",
        "\n",
        "  def __init__(self,state,city,pin):\n",
        "    self.state = state\n",
        "    self.__city = city \n",
        "    self.pin = pin \n",
        "  \n",
        "  def get_city(self):\n",
        "    return self.__city\n",
        "add1 = Address('haryana','gurgaon',122011)\n",
        "cust = Customer('nitish','male',add1) \n",
        "\n",
        "cust.print_address()"
      ],
      "metadata": {
        "colab": {
          "base_uri": "https://localhost:8080/"
        },
        "id": "GO4fSI2P8mA2",
        "outputId": "cb2d4be5-26f1-4a5a-b7fa-b60c5baee9dd"
      },
      "execution_count": 5,
      "outputs": [
        {
          "output_type": "stream",
          "name": "stdout",
          "text": [
            "haryana gurgaon 122011\n"
          ]
        }
      ]
    },
    {
      "cell_type": "code",
      "source": [
        "# city attribute ko private bana diya (iska matlab hum city ko direct access nahi krr sakte , to city ko access karne ke liye hamne getter ka use kiya)\n",
        "\n",
        "class Customer:\n",
        "\n",
        "  def __init__(self,name,gender,address):\n",
        "    self.name = name\n",
        "    self.gender = gender\n",
        "    self.address = address \n",
        "\n",
        "  def print_address(self):\n",
        "    print(self.address.state,self.address.get_city(),self.address.pin)\n",
        "\n",
        "  def edit_profile(self,new_name,new_city,new_pin,new_state):\n",
        "    self.name = new_name\n",
        "    self.address.edit_address(new_state,new_city,new_pin)\n",
        "\n",
        "\n",
        "class Address:\n",
        "\n",
        "  def __init__(self,state,city,pin):\n",
        "    self.state = state\n",
        "    self.__city = city \n",
        "    self.pin = pin \n",
        "  \n",
        "  def get_city(self):\n",
        "    return self.__city\n",
        "\n",
        "  def edit_address(self,new_state,new_city,new_pin):\n",
        "    self.__city = new_city\n",
        "    self.pin = new_pin \n",
        "    self.state = new_state\n",
        "\n",
        "add1 = Address('haryana','gurgaon',122011)\n",
        "cust = Customer('nitish','male',add1) \n",
        "\n",
        "cust.print_address()\n",
        "\n",
        "cust.edit_profile('Rohan','Maharashtra','Pune',411024)\n",
        "cust.print_address()"
      ],
      "metadata": {
        "colab": {
          "base_uri": "https://localhost:8080/"
        },
        "id": "Mtb9BJVg-sVg",
        "outputId": "d7aac85f-ff4c-4715-be53-50c56e85b524"
      },
      "execution_count": 6,
      "outputs": [
        {
          "output_type": "stream",
          "name": "stdout",
          "text": [
            "haryana gurgaon 122011\n",
            "411024 Maharashtra Pune\n"
          ]
        }
      ]
    },
    {
      "cell_type": "markdown",
      "source": [
        "Inheritance\n",
        "\n",
        "*   What is inheritance\n",
        "\n",
        "*   Example\n",
        "*   What get inherited?\n",
        "\n"
      ],
      "metadata": {
        "id": "xdzF2tKwDeDG"
      }
    },
    {
      "cell_type": "code",
      "source": [
        "# Example \n",
        "\n",
        "# Parent class\n",
        "class User:\n",
        "\n",
        "  def __init__(self):\n",
        "    self.name = 'nitish'\n",
        "    self.gender = 'male'\n",
        "    \n",
        "  def login(self):\n",
        "    print('login') \n",
        "\n",
        "# child class\n",
        "class Student(User):\n",
        "\n",
        "  def __init__(self):\n",
        "    self.rollno = 100\n",
        "\n",
        "  def enroll(self):\n",
        "    print('enroll into the course')     \n",
        "\n",
        "u = User()\n",
        "s = Student()\n",
        "\n",
        "print(s.name)\n",
        "print(s.rollno)\n",
        "s.login()\n",
        "s.enroll()\n",
        "\n",
        "# code crack ho gaya -> reason is agar child class ke pass constructor hain to wo parent class ko call nahi karta hain "
      ],
      "metadata": {
        "colab": {
          "base_uri": "https://localhost:8080/",
          "height": 235
        },
        "id": "5y2XQVfzB9V5",
        "outputId": "a6e793eb-8b76-4ea0-de9f-8b858f24323b"
      },
      "execution_count": 11,
      "outputs": [
        {
          "output_type": "error",
          "ename": "AttributeError",
          "evalue": "ignored",
          "traceback": [
            "\u001b[0;31m---------------------------------------------------------------------------\u001b[0m",
            "\u001b[0;31mAttributeError\u001b[0m                            Traceback (most recent call last)",
            "\u001b[0;32m<ipython-input-11-44d492f9b5f5>\u001b[0m in \u001b[0;36m<cell line: 25>\u001b[0;34m()\u001b[0m\n\u001b[1;32m     23\u001b[0m \u001b[0ms\u001b[0m \u001b[0;34m=\u001b[0m \u001b[0mStudent\u001b[0m\u001b[0;34m(\u001b[0m\u001b[0;34m)\u001b[0m\u001b[0;34m\u001b[0m\u001b[0;34m\u001b[0m\u001b[0m\n\u001b[1;32m     24\u001b[0m \u001b[0;34m\u001b[0m\u001b[0m\n\u001b[0;32m---> 25\u001b[0;31m \u001b[0mprint\u001b[0m\u001b[0;34m(\u001b[0m\u001b[0ms\u001b[0m\u001b[0;34m.\u001b[0m\u001b[0mname\u001b[0m\u001b[0;34m)\u001b[0m\u001b[0;34m\u001b[0m\u001b[0;34m\u001b[0m\u001b[0m\n\u001b[0m\u001b[1;32m     26\u001b[0m \u001b[0mprint\u001b[0m\u001b[0;34m(\u001b[0m\u001b[0ms\u001b[0m\u001b[0;34m.\u001b[0m\u001b[0mrollno\u001b[0m\u001b[0;34m)\u001b[0m\u001b[0;34m\u001b[0m\u001b[0;34m\u001b[0m\u001b[0m\n\u001b[1;32m     27\u001b[0m \u001b[0ms\u001b[0m\u001b[0;34m.\u001b[0m\u001b[0mlogin\u001b[0m\u001b[0;34m(\u001b[0m\u001b[0;34m)\u001b[0m\u001b[0;34m\u001b[0m\u001b[0;34m\u001b[0m\u001b[0m\n",
            "\u001b[0;31mAttributeError\u001b[0m: 'Student' object has no attribute 'name'"
          ]
        }
      ]
    },
    {
      "cell_type": "code",
      "source": [
        "# Example \n",
        "\n",
        "# Parent class\n",
        "class User:\n",
        "\n",
        "  def __init__(self):\n",
        "    self.name = 'nitish'\n",
        "    self.gender = 'male'\n",
        "    \n",
        "  def login(self):\n",
        "    print('login') \n",
        "\n",
        "# child class\n",
        "class Student(User):\n",
        "\n",
        "  def enroll(self):\n",
        "    print('enroll into the course')     \n",
        "\n",
        "u = User()\n",
        "s = Student()\n",
        "\n",
        "print(s.name)\n",
        "s.login()\n",
        "s.enroll()"
      ],
      "metadata": {
        "colab": {
          "base_uri": "https://localhost:8080/"
        },
        "id": "wIlxkX9OJpc2",
        "outputId": "efc711da-e013-4c50-c022-83b4437a8273"
      },
      "execution_count": 12,
      "outputs": [
        {
          "output_type": "stream",
          "name": "stdout",
          "text": [
            "nitish\n",
            "login\n",
            "enroll into the course\n"
          ]
        }
      ]
    },
    {
      "cell_type": "markdown",
      "source": [
        "What gets inherited ? \n",
        "\n",
        "*   Constructor\n",
        "\n",
        "*   Non private attribute\n",
        "*   Non private method"
      ],
      "metadata": {
        "id": "04E44z9mH0OK"
      }
    },
    {
      "cell_type": "code",
      "source": [
        "# constructor example \n",
        "\n",
        "class Phone:\n",
        "  \n",
        "  def __init__(self,price,brand,camera):\n",
        "    print('Inside phone constructor')\n",
        "    self.price = price\n",
        "    self.brand = brand\n",
        "    self.camera = camera\n",
        "\n",
        "  def buy(self):\n",
        "    print('Buying a phone')\n",
        "\n",
        "class Smartphone(Phone):\n",
        "  pass\n",
        "\n",
        "\n",
        "s = Smartphone(20000,'apple',13)        \n",
        "s.buy()"
      ],
      "metadata": {
        "colab": {
          "base_uri": "https://localhost:8080/"
        },
        "id": "YF3pcoaOG0Pl",
        "outputId": "68b7523b-fd20-4343-bc90-5f7b596b6580"
      },
      "execution_count": 15,
      "outputs": [
        {
          "output_type": "stream",
          "name": "stdout",
          "text": [
            "Inside phone constructor\n",
            "Buying a phone\n"
          ]
        }
      ]
    },
    {
      "cell_type": "code",
      "source": [
        "# constructor example 2 \n",
        "\n",
        "class Phone:\n",
        "\n",
        "  def __init__(self,price,brand,camera):\n",
        "    print('Inside phone constructor')\n",
        "    self.__price = price \n",
        "    self.brand = brand \n",
        "    self.camera = camera\n",
        "\n",
        "  def buy(self):\n",
        "    print('Buying a phone')\n",
        "\n",
        "class Smartphone(Phone):\n",
        "\n",
        "  def __init__(self,os,ram):\n",
        "    self.os = os \n",
        "    self.ram = ram \n",
        "    print('Inside smartphone constructor')\n",
        "\n",
        "  def buy(self):\n",
        "    print('Buying a smartphone')  \n",
        "\n",
        "s = Smartphone('Android',2)    \n",
        "s.brand\n",
        "# child ke pass khud ka constructor hain to parent ka constructor call nahi hoga \n",
        "# to (s) hamara object -> parent class ke variable ko access karega hi nahi "
      ],
      "metadata": {
        "colab": {
          "base_uri": "https://localhost:8080/",
          "height": 252
        },
        "id": "MEZhH5arL_jw",
        "outputId": "b4a80121-a2fa-4147-bf3f-e1ec270ffa47"
      },
      "execution_count": 19,
      "outputs": [
        {
          "output_type": "stream",
          "name": "stdout",
          "text": [
            "Inside smartphone constructor\n"
          ]
        },
        {
          "output_type": "error",
          "ename": "AttributeError",
          "evalue": "ignored",
          "traceback": [
            "\u001b[0;31m---------------------------------------------------------------------------\u001b[0m",
            "\u001b[0;31mAttributeError\u001b[0m                            Traceback (most recent call last)",
            "\u001b[0;32m<ipython-input-19-065fe937958e>\u001b[0m in \u001b[0;36m<cell line: 25>\u001b[0;34m()\u001b[0m\n\u001b[1;32m     23\u001b[0m \u001b[0;34m\u001b[0m\u001b[0m\n\u001b[1;32m     24\u001b[0m \u001b[0ms\u001b[0m \u001b[0;34m=\u001b[0m \u001b[0mSmartphone\u001b[0m\u001b[0;34m(\u001b[0m\u001b[0;34m'Android'\u001b[0m\u001b[0;34m,\u001b[0m\u001b[0;36m2\u001b[0m\u001b[0;34m)\u001b[0m\u001b[0;34m\u001b[0m\u001b[0;34m\u001b[0m\u001b[0m\n\u001b[0;32m---> 25\u001b[0;31m \u001b[0ms\u001b[0m\u001b[0;34m.\u001b[0m\u001b[0mbrand\u001b[0m\u001b[0;34m\u001b[0m\u001b[0;34m\u001b[0m\u001b[0m\n\u001b[0m\u001b[1;32m     26\u001b[0m \u001b[0;31m# child ke pass khud ka constructor hain to parent ka constructor call nahi hoga\u001b[0m\u001b[0;34m\u001b[0m\u001b[0;34m\u001b[0m\u001b[0m\n\u001b[1;32m     27\u001b[0m \u001b[0;31m# to (s) hamara object -> parent class ke variable ko access karega hi nahi\u001b[0m\u001b[0;34m\u001b[0m\u001b[0;34m\u001b[0m\u001b[0m\n",
            "\u001b[0;31mAttributeError\u001b[0m: 'Smartphone' object has no attribute 'brand'"
          ]
        }
      ]
    },
    {
      "cell_type": "code",
      "source": [
        "# child can't access private members of the class\n",
        "\n",
        "class Phone:\n",
        "\n",
        "  def __init__(self,price,brand,camera):\n",
        "    print('Inside phone constructor')\n",
        "    self.__price = price \n",
        "    self.brand = brand \n",
        "    self.camera = camera\n",
        "\n",
        "  def show(self):\n",
        "    print(self.__price)\n",
        "\n",
        "class Smartphone(Phone):\n",
        "\n",
        "  def check(self):\n",
        "    print(self.brand)\n",
        "   \n",
        "    print(self.__price)\n",
        "   \n",
        "   \n",
        "\n",
        "s = Smartphone(20000,'apple',13)    \n",
        "s.check()"
      ],
      "metadata": {
        "colab": {
          "base_uri": "https://localhost:8080/",
          "height": 356
        },
        "id": "CvoXt1tzOIIN",
        "outputId": "84550bac-4fa8-4402-fe58-4c16811cd529"
      },
      "execution_count": 24,
      "outputs": [
        {
          "output_type": "stream",
          "name": "stdout",
          "text": [
            "Inside phone constructor\n",
            "apple\n"
          ]
        },
        {
          "output_type": "error",
          "ename": "AttributeError",
          "evalue": "ignored",
          "traceback": [
            "\u001b[0;31m---------------------------------------------------------------------------\u001b[0m",
            "\u001b[0;31mAttributeError\u001b[0m                            Traceback (most recent call last)",
            "\u001b[0;32m<ipython-input-24-52c6c6ae1902>\u001b[0m in \u001b[0;36m<cell line: 24>\u001b[0;34m()\u001b[0m\n\u001b[1;32m     22\u001b[0m \u001b[0;34m\u001b[0m\u001b[0m\n\u001b[1;32m     23\u001b[0m \u001b[0ms\u001b[0m \u001b[0;34m=\u001b[0m \u001b[0mSmartphone\u001b[0m\u001b[0;34m(\u001b[0m\u001b[0;36m20000\u001b[0m\u001b[0;34m,\u001b[0m\u001b[0;34m'apple'\u001b[0m\u001b[0;34m,\u001b[0m\u001b[0;36m13\u001b[0m\u001b[0;34m)\u001b[0m\u001b[0;34m\u001b[0m\u001b[0;34m\u001b[0m\u001b[0m\n\u001b[0;32m---> 24\u001b[0;31m \u001b[0ms\u001b[0m\u001b[0;34m.\u001b[0m\u001b[0mcheck\u001b[0m\u001b[0;34m(\u001b[0m\u001b[0;34m)\u001b[0m\u001b[0;34m\u001b[0m\u001b[0;34m\u001b[0m\u001b[0m\n\u001b[0m",
            "\u001b[0;32m<ipython-input-24-52c6c6ae1902>\u001b[0m in \u001b[0;36mcheck\u001b[0;34m(self)\u001b[0m\n\u001b[1;32m     17\u001b[0m     \u001b[0mprint\u001b[0m\u001b[0;34m(\u001b[0m\u001b[0mself\u001b[0m\u001b[0;34m.\u001b[0m\u001b[0mbrand\u001b[0m\u001b[0;34m)\u001b[0m\u001b[0;34m\u001b[0m\u001b[0;34m\u001b[0m\u001b[0m\n\u001b[1;32m     18\u001b[0m \u001b[0;34m\u001b[0m\u001b[0m\n\u001b[0;32m---> 19\u001b[0;31m     \u001b[0mprint\u001b[0m\u001b[0;34m(\u001b[0m\u001b[0mself\u001b[0m\u001b[0;34m.\u001b[0m\u001b[0m__price\u001b[0m\u001b[0;34m)\u001b[0m\u001b[0;34m\u001b[0m\u001b[0;34m\u001b[0m\u001b[0m\n\u001b[0m\u001b[1;32m     20\u001b[0m \u001b[0;34m\u001b[0m\u001b[0m\n\u001b[1;32m     21\u001b[0m \u001b[0;34m\u001b[0m\u001b[0m\n",
            "\u001b[0;31mAttributeError\u001b[0m: 'Smartphone' object has no attribute '_Smartphone__price'"
          ]
        }
      ]
    },
    {
      "cell_type": "code",
      "source": [
        "# child can't access private members of the class\n",
        "# we can access private function through getter \n",
        "\n",
        "class Phone:\n",
        "\n",
        "  def __init__(self,price,brand,camera):\n",
        "    print('Inside phone constructor')\n",
        "    self.__price = price \n",
        "    self.brand = brand \n",
        "    self.camera = camera\n",
        "   \n",
        "  # getter function \n",
        "  def show(self):\n",
        "    print(self.__price)\n",
        "\n",
        "class Smartphone(Phone):\n",
        "\n",
        "  def check(self):\n",
        "    print(self.brand)\n",
        "   \n",
        "    print(self.__price)\n",
        "   \n",
        "   \n",
        "\n",
        "s = Smartphone(20000,'apple',13)    \n",
        "s.show()"
      ],
      "metadata": {
        "colab": {
          "base_uri": "https://localhost:8080/"
        },
        "id": "Sru5id2IP3px",
        "outputId": "e0f7566d-9509-4b44-f81c-c30cddcef223"
      },
      "execution_count": 25,
      "outputs": [
        {
          "output_type": "stream",
          "name": "stdout",
          "text": [
            "Inside phone constructor\n",
            "20000\n"
          ]
        }
      ]
    },
    {
      "cell_type": "code",
      "source": [
        "class Parent:\n",
        "\n",
        "  def __init__(self,num):\n",
        "    self.__num = num \n",
        "\n",
        "  def get_num(self):\n",
        "    return self.__num\n",
        "\n",
        "class Child(Parent):\n",
        "\n",
        "  def show(self):\n",
        "    print('This is in child class')\n",
        "\n",
        "son = Child(100)          \n",
        "print(son.get_num())\n",
        "son.show()"
      ],
      "metadata": {
        "colab": {
          "base_uri": "https://localhost:8080/"
        },
        "id": "Bj0FLEtkSXTm",
        "outputId": "09b2e4f7-409f-4c38-9002-a847d40570bd"
      },
      "execution_count": 26,
      "outputs": [
        {
          "output_type": "stream",
          "name": "stdout",
          "text": [
            "100\n",
            "This is in child class\n"
          ]
        }
      ]
    },
    {
      "cell_type": "code",
      "source": [
        "class Parent:\n",
        "\n",
        "  def __init__(self,num):\n",
        "    self.__num = num \n",
        "\n",
        "  def get_num(self):\n",
        "    return self.__num\n",
        "\n",
        "class Child(Parent):\n",
        "\n",
        "  def __init__(self,val,num):\n",
        "    self.__val = val\n",
        "\n",
        "  def get_val(self):\n",
        "    return self.__val\n",
        "\n",
        "son = Child(100,10)          \n",
        "print('parent : num ',son.get_num())\n",
        "print('child : val', son.get_val())"
      ],
      "metadata": {
        "colab": {
          "base_uri": "https://localhost:8080/",
          "height": 339
        },
        "id": "QV5zIlnXTNWc",
        "outputId": "1bfe061b-c506-4047-d907-be7f05f1462c"
      },
      "execution_count": 27,
      "outputs": [
        {
          "output_type": "error",
          "ename": "AttributeError",
          "evalue": "ignored",
          "traceback": [
            "\u001b[0;31m---------------------------------------------------------------------------\u001b[0m",
            "\u001b[0;31mAttributeError\u001b[0m                            Traceback (most recent call last)",
            "\u001b[0;32m<ipython-input-27-db76256cd66d>\u001b[0m in \u001b[0;36m<cell line: 18>\u001b[0;34m()\u001b[0m\n\u001b[1;32m     16\u001b[0m \u001b[0;34m\u001b[0m\u001b[0m\n\u001b[1;32m     17\u001b[0m \u001b[0mson\u001b[0m \u001b[0;34m=\u001b[0m \u001b[0mChild\u001b[0m\u001b[0;34m(\u001b[0m\u001b[0;36m100\u001b[0m\u001b[0;34m,\u001b[0m\u001b[0;36m10\u001b[0m\u001b[0;34m)\u001b[0m\u001b[0;34m\u001b[0m\u001b[0;34m\u001b[0m\u001b[0m\n\u001b[0;32m---> 18\u001b[0;31m \u001b[0mprint\u001b[0m\u001b[0;34m(\u001b[0m\u001b[0;34m'parent : num '\u001b[0m\u001b[0;34m,\u001b[0m\u001b[0mson\u001b[0m\u001b[0;34m.\u001b[0m\u001b[0mget_num\u001b[0m\u001b[0;34m(\u001b[0m\u001b[0;34m)\u001b[0m\u001b[0;34m)\u001b[0m\u001b[0;34m\u001b[0m\u001b[0;34m\u001b[0m\u001b[0m\n\u001b[0m\u001b[1;32m     19\u001b[0m \u001b[0mprint\u001b[0m\u001b[0;34m(\u001b[0m\u001b[0;34m'child : val'\u001b[0m\u001b[0;34m,\u001b[0m \u001b[0mson\u001b[0m\u001b[0;34m.\u001b[0m\u001b[0mget_val\u001b[0m\u001b[0;34m(\u001b[0m\u001b[0;34m)\u001b[0m\u001b[0;34m)\u001b[0m\u001b[0;34m\u001b[0m\u001b[0;34m\u001b[0m\u001b[0m\n",
            "\u001b[0;32m<ipython-input-27-db76256cd66d>\u001b[0m in \u001b[0;36mget_num\u001b[0;34m(self)\u001b[0m\n\u001b[1;32m      5\u001b[0m \u001b[0;34m\u001b[0m\u001b[0m\n\u001b[1;32m      6\u001b[0m   \u001b[0;32mdef\u001b[0m \u001b[0mget_num\u001b[0m\u001b[0;34m(\u001b[0m\u001b[0mself\u001b[0m\u001b[0;34m)\u001b[0m\u001b[0;34m:\u001b[0m\u001b[0;34m\u001b[0m\u001b[0;34m\u001b[0m\u001b[0m\n\u001b[0;32m----> 7\u001b[0;31m     \u001b[0;32mreturn\u001b[0m \u001b[0mself\u001b[0m\u001b[0;34m.\u001b[0m\u001b[0m__num\u001b[0m\u001b[0;34m\u001b[0m\u001b[0;34m\u001b[0m\u001b[0m\n\u001b[0m\u001b[1;32m      8\u001b[0m \u001b[0;34m\u001b[0m\u001b[0m\n\u001b[1;32m      9\u001b[0m \u001b[0;32mclass\u001b[0m \u001b[0mChild\u001b[0m\u001b[0;34m(\u001b[0m\u001b[0mParent\u001b[0m\u001b[0;34m)\u001b[0m\u001b[0;34m:\u001b[0m\u001b[0;34m\u001b[0m\u001b[0;34m\u001b[0m\u001b[0m\n",
            "\u001b[0;31mAttributeError\u001b[0m: 'Child' object has no attribute '_Parent__num'"
          ]
        }
      ]
    },
    {
      "cell_type": "code",
      "source": [
        "class A:\n",
        "\n",
        "  def __init__(self):\n",
        "    self.var1 = 100\n",
        "\n",
        "  def display1(self,var1):\n",
        "    print('class A :',self.var1)\n",
        "\n",
        "class B(A):\n",
        "\n",
        "  def display2(self,var1):\n",
        "    print('class B :',self.var1) \n",
        "\n",
        "obj = B() \n",
        "obj.display1(200)      "
      ],
      "metadata": {
        "colab": {
          "base_uri": "https://localhost:8080/"
        },
        "id": "0-JJ63zzUixk",
        "outputId": "251cf31a-cf86-4886-f69b-8056a01f20bd"
      },
      "execution_count": 29,
      "outputs": [
        {
          "output_type": "stream",
          "name": "stdout",
          "text": [
            "class A : 100\n"
          ]
        }
      ]
    },
    {
      "cell_type": "code",
      "source": [
        "# method Overriding -> if there is inheritance & dono hi class me same naam se method hain to hamesha child class ka execute hoga \n",
        "\n",
        "class Phone:\n",
        "  def __init__(self,price,brand,camera):\n",
        "    print('Inside phone constructor')\n",
        "    self.__price = price \n",
        "    self.brand = brand \n",
        "    self.camera = camera\n",
        "\n",
        "  def buy(self):\n",
        "    print('Buying a phone')\n",
        "\n",
        "class Smartphone(Phone):\n",
        "\n",
        "  def buy(self):\n",
        "    print('Buying a smartphone')\n",
        "\n",
        "s = Smartphone(20000,'apple',13) \n",
        "s.buy()"
      ],
      "metadata": {
        "colab": {
          "base_uri": "https://localhost:8080/"
        },
        "id": "BBbOmRV4VycR",
        "outputId": "30c1c788-24c5-40a0-8f2f-b42d1cd54ecb"
      },
      "execution_count": 32,
      "outputs": [
        {
          "output_type": "stream",
          "name": "stdout",
          "text": [
            "Inside phone constructor\n",
            "Buying a smartphone\n"
          ]
        }
      ]
    },
    {
      "cell_type": "markdown",
      "source": [
        "Super Keyword"
      ],
      "metadata": {
        "id": "hQ9KCArEYEX2"
      }
    },
    {
      "cell_type": "code",
      "source": [
        "class Phone:\n",
        "  def __init__(self,price,brand,camera):\n",
        "    print('Inside phone constructor')\n",
        "    self.__price = price \n",
        "    self.brand = brand \n",
        "    self.camera = camera\n",
        "\n",
        "  def buy(self):\n",
        "    print('Buying a phone')\n",
        "\n",
        "class Smartphone(Phone):\n",
        "\n",
        "  def buy(self):\n",
        "    print('Buying a smartphone')\n",
        "    # syntax to call parent ka buy method \n",
        "    super().buy()\n",
        "\n",
        "s = Smartphone(20000,'apple',13) \n",
        "s.buy()"
      ],
      "metadata": {
        "colab": {
          "base_uri": "https://localhost:8080/"
        },
        "id": "jriJJVsFXDFV",
        "outputId": "bdea9b34-698f-41a5-d47f-82e72735a31e"
      },
      "execution_count": 33,
      "outputs": [
        {
          "output_type": "stream",
          "name": "stdout",
          "text": [
            "Inside phone constructor\n",
            "Buying a smartphone\n",
            "Buying a phone\n"
          ]
        }
      ]
    },
    {
      "cell_type": "code",
      "source": [
        "class Phone:\n",
        "  def __init__(self,price,brand,camera):\n",
        "    print('Inside phone constructor')\n",
        "    self.__price = price \n",
        "    self.brand = brand \n",
        "    self.camera = camera\n",
        "\n",
        "class Smartphone(Phone):\n",
        "\n",
        "   def __init__(self,price,brand,camera,os,ram):\n",
        "    print('Inside Smartphone constructor')   \n",
        "    super().__init__(price,brand,camera)\n",
        "    self.os = os \n",
        "    self.ram = ram \n",
        "    print('Inside Smartphone constructor')   \n",
        "\n",
        "s = Smartphone(20000,'Samsung',12,'Android',2) \n",
        "\n",
        "print(s.os)\n",
        "print(s.brand)"
      ],
      "metadata": {
        "colab": {
          "base_uri": "https://localhost:8080/"
        },
        "id": "hRdsDhKnYsm4",
        "outputId": "99908533-d803-4932-c4de-ab134240ee72"
      },
      "execution_count": 36,
      "outputs": [
        {
          "output_type": "stream",
          "name": "stdout",
          "text": [
            "Inside Smartphone constructor\n",
            "Inside phone constructor\n",
            "Inside Smartphone constructor\n",
            "Android\n",
            "Samsung\n"
          ]
        }
      ]
    },
    {
      "cell_type": "code",
      "source": [
        "class Phone:\n",
        "  def __init__(self,price,brand,camera):\n",
        "    print('Inside phone constructor')\n",
        "    self.__price = price \n",
        "    self.brand = brand \n",
        "    self.camera = camera\n",
        "\n",
        "  def buy(self):\n",
        "    print('Buying a phone')\n",
        "\n",
        "class Smartphone(Phone):\n",
        "\n",
        "  def buy(self):\n",
        "    print('Buying a smartphone')\n",
        "   \n",
        "\n",
        "s = Smartphone(20000,'apple',13) \n",
        "s.super().buy()\n",
        "\n",
        "# hamesha super ko child class ke andar rakhenge usse bahar rakhne se code crack hoga "
      ],
      "metadata": {
        "colab": {
          "base_uri": "https://localhost:8080/",
          "height": 252
        },
        "id": "c7WSEja6Z-v2",
        "outputId": "1c85bd70-dcc2-4bb5-8d6e-f07075277b30"
      },
      "execution_count": 37,
      "outputs": [
        {
          "output_type": "stream",
          "name": "stdout",
          "text": [
            "Inside phone constructor\n"
          ]
        },
        {
          "output_type": "error",
          "ename": "AttributeError",
          "evalue": "ignored",
          "traceback": [
            "\u001b[0;31m---------------------------------------------------------------------------\u001b[0m",
            "\u001b[0;31mAttributeError\u001b[0m                            Traceback (most recent call last)",
            "\u001b[0;32m<ipython-input-37-83efc0a13afb>\u001b[0m in \u001b[0;36m<cell line: 18>\u001b[0;34m()\u001b[0m\n\u001b[1;32m     16\u001b[0m \u001b[0;34m\u001b[0m\u001b[0m\n\u001b[1;32m     17\u001b[0m \u001b[0ms\u001b[0m \u001b[0;34m=\u001b[0m \u001b[0mSmartphone\u001b[0m\u001b[0;34m(\u001b[0m\u001b[0;36m20000\u001b[0m\u001b[0;34m,\u001b[0m\u001b[0;34m'apple'\u001b[0m\u001b[0;34m,\u001b[0m\u001b[0;36m13\u001b[0m\u001b[0;34m)\u001b[0m\u001b[0;34m\u001b[0m\u001b[0;34m\u001b[0m\u001b[0m\n\u001b[0;32m---> 18\u001b[0;31m \u001b[0ms\u001b[0m\u001b[0;34m.\u001b[0m\u001b[0msuper\u001b[0m\u001b[0;34m(\u001b[0m\u001b[0;34m)\u001b[0m\u001b[0;34m.\u001b[0m\u001b[0mbuy\u001b[0m\u001b[0;34m(\u001b[0m\u001b[0;34m)\u001b[0m\u001b[0;34m\u001b[0m\u001b[0;34m\u001b[0m\u001b[0m\n\u001b[0m\u001b[1;32m     19\u001b[0m \u001b[0;34m\u001b[0m\u001b[0m\n\u001b[1;32m     20\u001b[0m \u001b[0;31m# hamesha super ko child class ke andar rakhenge usse bahar rakhne se code crack hoga\u001b[0m\u001b[0;34m\u001b[0m\u001b[0;34m\u001b[0m\u001b[0m\n",
            "\u001b[0;31mAttributeError\u001b[0m: 'Smartphone' object has no attribute 'super'"
          ]
        }
      ]
    },
    {
      "cell_type": "code",
      "source": [
        "class Phone:\n",
        "  def __init__(self,price,brand,camera):\n",
        "    print('Inside phone constructor')\n",
        "    self.__price = price \n",
        "    self.brand = brand \n",
        "    self.camera = camera\n",
        "\n",
        "  def buy(self):\n",
        "    print('Buying a phone')\n",
        "\n",
        "class Smartphone(Phone):\n",
        "\n",
        "  def buy(self):\n",
        "    print('Buying a smartphone')\n",
        "    # syntax to call parent ka buy method \n",
        "    print(super().brand)\n",
        "\n",
        "s = Smartphone(20000,'apple',13) \n",
        "s.buy()\n",
        "\n",
        "# hum attribute ko access nahi krr sakte , method ko access krr sakte hain "
      ],
      "metadata": {
        "colab": {
          "base_uri": "https://localhost:8080/",
          "height": 391
        },
        "id": "uW0yRURJcCx0",
        "outputId": "59353969-c761-4114-8b45-078ccd7521d8"
      },
      "execution_count": 38,
      "outputs": [
        {
          "output_type": "stream",
          "name": "stdout",
          "text": [
            "Inside phone constructor\n",
            "Buying a smartphone\n"
          ]
        },
        {
          "output_type": "error",
          "ename": "AttributeError",
          "evalue": "ignored",
          "traceback": [
            "\u001b[0;31m---------------------------------------------------------------------------\u001b[0m",
            "\u001b[0;31mAttributeError\u001b[0m                            Traceback (most recent call last)",
            "\u001b[0;32m<ipython-input-38-c5fb61dd7dc1>\u001b[0m in \u001b[0;36m<cell line: 19>\u001b[0;34m()\u001b[0m\n\u001b[1;32m     17\u001b[0m \u001b[0;34m\u001b[0m\u001b[0m\n\u001b[1;32m     18\u001b[0m \u001b[0ms\u001b[0m \u001b[0;34m=\u001b[0m \u001b[0mSmartphone\u001b[0m\u001b[0;34m(\u001b[0m\u001b[0;36m20000\u001b[0m\u001b[0;34m,\u001b[0m\u001b[0;34m'apple'\u001b[0m\u001b[0;34m,\u001b[0m\u001b[0;36m13\u001b[0m\u001b[0;34m)\u001b[0m\u001b[0;34m\u001b[0m\u001b[0;34m\u001b[0m\u001b[0m\n\u001b[0;32m---> 19\u001b[0;31m \u001b[0ms\u001b[0m\u001b[0;34m.\u001b[0m\u001b[0mbuy\u001b[0m\u001b[0;34m(\u001b[0m\u001b[0;34m)\u001b[0m\u001b[0;34m\u001b[0m\u001b[0;34m\u001b[0m\u001b[0m\n\u001b[0m\u001b[1;32m     20\u001b[0m \u001b[0;34m\u001b[0m\u001b[0m\n\u001b[1;32m     21\u001b[0m \u001b[0;31m# hum attribute ko access nahi krr sakte , method ko access krr sakte hain\u001b[0m\u001b[0;34m\u001b[0m\u001b[0;34m\u001b[0m\u001b[0m\n",
            "\u001b[0;32m<ipython-input-38-c5fb61dd7dc1>\u001b[0m in \u001b[0;36mbuy\u001b[0;34m(self)\u001b[0m\n\u001b[1;32m     14\u001b[0m     \u001b[0mprint\u001b[0m\u001b[0;34m(\u001b[0m\u001b[0;34m'Buying a smartphone'\u001b[0m\u001b[0;34m)\u001b[0m\u001b[0;34m\u001b[0m\u001b[0;34m\u001b[0m\u001b[0m\n\u001b[1;32m     15\u001b[0m     \u001b[0;31m# syntax to call parent ka buy method\u001b[0m\u001b[0;34m\u001b[0m\u001b[0;34m\u001b[0m\u001b[0m\n\u001b[0;32m---> 16\u001b[0;31m     \u001b[0mprint\u001b[0m\u001b[0;34m(\u001b[0m\u001b[0msuper\u001b[0m\u001b[0;34m(\u001b[0m\u001b[0;34m)\u001b[0m\u001b[0;34m.\u001b[0m\u001b[0mbrand\u001b[0m\u001b[0;34m)\u001b[0m\u001b[0;34m\u001b[0m\u001b[0;34m\u001b[0m\u001b[0m\n\u001b[0m\u001b[1;32m     17\u001b[0m \u001b[0;34m\u001b[0m\u001b[0m\n\u001b[1;32m     18\u001b[0m \u001b[0ms\u001b[0m \u001b[0;34m=\u001b[0m \u001b[0mSmartphone\u001b[0m\u001b[0;34m(\u001b[0m\u001b[0;36m20000\u001b[0m\u001b[0;34m,\u001b[0m\u001b[0;34m'apple'\u001b[0m\u001b[0;34m,\u001b[0m\u001b[0;36m13\u001b[0m\u001b[0;34m)\u001b[0m\u001b[0;34m\u001b[0m\u001b[0;34m\u001b[0m\u001b[0m\n",
            "\u001b[0;31mAttributeError\u001b[0m: 'super' object has no attribute 'brand'"
          ]
        }
      ]
    },
    {
      "cell_type": "markdown",
      "source": [
        "1. super cannot access variable \n",
        "2. super cannot be used outside the class\n",
        "3. super is used inside the child class"
      ],
      "metadata": {
        "id": "Qh5taz_RckS_"
      }
    },
    {
      "cell_type": "markdown",
      "source": [
        "Inheritance in summary             \n",
        "A class can inherit from another class.             \n",
        "\n",
        "Inheritance improves code reuse          \n",
        "    \n",
        "Constructor, attributes, methods get inherited to the child class       \n",
        "\n",
        "The parent has no access to the child class         \n",
        "\n",
        "Private properties of parent are not accessible directly in child class     \n",
        "\n",
        "Child class can override the attributes or methods. This is called method \n",
        "overriding           \n",
        "\n",
        "super() is an inbuilt function which is used to invoke the parent class methods and constructor             "
      ],
      "metadata": {
        "id": "71FB2pI4dnm0"
      }
    },
    {
      "cell_type": "code",
      "source": [
        "class Parent:\n",
        "\n",
        "    def __init__(self,num):\n",
        "      self.__num=num\n",
        "\n",
        "    def get_num(self):\n",
        "      return self.__num\n",
        "\n",
        "class Child(Parent):\n",
        "  \n",
        "    def __init__(self,num,val):\n",
        "      super().__init__(num)\n",
        "      self.__val=val\n",
        "\n",
        "    def get_val(self):\n",
        "      return self.__val\n",
        "      \n",
        "son=Child(100,200)\n",
        "print(son.get_num())\n",
        "print(son.get_val())"
      ],
      "metadata": {
        "colab": {
          "base_uri": "https://localhost:8080/"
        },
        "id": "rAP9EufXchyF",
        "outputId": "deaf23ad-286e-4688-8795-f7d900fda5c0"
      },
      "execution_count": 39,
      "outputs": [
        {
          "output_type": "stream",
          "name": "stdout",
          "text": [
            "100\n",
            "200\n"
          ]
        }
      ]
    },
    {
      "cell_type": "code",
      "source": [
        "class Parent:\n",
        "    def __init__(self):\n",
        "        self.num=100\n",
        "\n",
        "class Child(Parent):\n",
        "\n",
        "    def __init__(self):\n",
        "        super().__init__()\n",
        "        self.var=200\n",
        "        \n",
        "    def show(self):\n",
        "        print(self.num)\n",
        "        print(self.var)\n",
        "\n",
        "son=Child()\n",
        "son.show()"
      ],
      "metadata": {
        "colab": {
          "base_uri": "https://localhost:8080/"
        },
        "id": "MxJu4H74fXoU",
        "outputId": "a0116609-2d2f-445f-c18b-761a12888d9a"
      },
      "execution_count": 40,
      "outputs": [
        {
          "output_type": "stream",
          "name": "stdout",
          "text": [
            "100\n",
            "200\n"
          ]
        }
      ]
    },
    {
      "cell_type": "code",
      "source": [
        "class Parent:\n",
        "    def __init__(self):\n",
        "        self.__num=100\n",
        "\n",
        "    def show(self):\n",
        "        print(\"Parent:\",self.__num)\n",
        "\n",
        "class Child(Parent):\n",
        "    def __init__(self):\n",
        "        super().__init__()\n",
        "        self.__var=10\n",
        "\n",
        "    def show(self):\n",
        "        print(\"Child:\",self.__var)\n",
        "\n",
        "obj=Child()\n",
        "obj.show()"
      ],
      "metadata": {
        "colab": {
          "base_uri": "https://localhost:8080/"
        },
        "id": "Jtsr9qRXfe02",
        "outputId": "b5150793-5c01-403c-8626-c4a01c32899d"
      },
      "execution_count": 41,
      "outputs": [
        {
          "output_type": "stream",
          "name": "stdout",
          "text": [
            "Child: 10\n"
          ]
        }
      ]
    },
    {
      "cell_type": "code",
      "source": [
        "class Parent:\n",
        "    def __init__(self):\n",
        "        self.__num=100\n",
        "\n",
        "    def show(self):\n",
        "        print(\"Parent:\",self.__num)\n",
        "\n",
        "class Child(Parent):\n",
        "    def __init__(self):\n",
        "        super().__init__()\n",
        "        self.__var=10\n",
        "\n",
        "    def show(self):\n",
        "        print(\"Child:\",self.__var)\n",
        "\n",
        "obj=Child()\n",
        "obj.show()"
      ],
      "metadata": {
        "colab": {
          "base_uri": "https://localhost:8080/"
        },
        "id": "OJjWFqZFfhnn",
        "outputId": "07ac0003-afea-4dfb-cff0-726d2964f4cd"
      },
      "execution_count": 42,
      "outputs": [
        {
          "output_type": "stream",
          "name": "stdout",
          "text": [
            "Child: 10\n"
          ]
        }
      ]
    },
    {
      "cell_type": "markdown",
      "source": [
        "Types of Inheritance                 \n",
        "Single Inheritance              \n",
        "Multilevel Inheritance                \n",
        "Hierarchical Inheritance                   \n",
        "Multiple Inheritance(Diamond Problem)                 \n",
        "Hybrid Inheritance"
      ],
      "metadata": {
        "id": "VZPvWKuMfpIc"
      }
    },
    {
      "cell_type": "code",
      "source": [
        "# single inheritance\n",
        "class Phone:\n",
        "    def __init__(self, price, brand, camera):\n",
        "        print (\"Inside phone constructor\")\n",
        "        self.__price = price\n",
        "        self.brand = brand\n",
        "        self.camera = camera\n",
        "\n",
        "    def buy(self):\n",
        "        print (\"Buying a phone\")\n",
        "\n",
        "class SmartPhone(Phone):\n",
        "    pass\n",
        "\n",
        "SmartPhone(1000,\"Apple\",\"13px\").buy()"
      ],
      "metadata": {
        "colab": {
          "base_uri": "https://localhost:8080/"
        },
        "id": "5E_oYjsKfkV3",
        "outputId": "145d7f52-803f-48b4-86c8-b09fbd4f6a0a"
      },
      "execution_count": 43,
      "outputs": [
        {
          "output_type": "stream",
          "name": "stdout",
          "text": [
            "Inside phone constructor\n",
            "Buying a phone\n"
          ]
        }
      ]
    },
    {
      "cell_type": "code",
      "source": [
        "# multilevel\n",
        "class Product:\n",
        "    def review(self):\n",
        "        print (\"Product customer review\")\n",
        "\n",
        "class Phone(Product):\n",
        "    def __init__(self, price, brand, camera):\n",
        "        print (\"Inside phone constructor\")\n",
        "        self.__price = price\n",
        "        self.brand = brand\n",
        "        self.camera = camera\n",
        "\n",
        "    def buy(self):\n",
        "        print (\"Buying a phone\")\n",
        "\n",
        "class SmartPhone(Phone):\n",
        "    pass\n",
        "\n",
        "s=SmartPhone(20000, \"Apple\", 12)\n",
        "\n",
        "s.buy()\n",
        "s.review()"
      ],
      "metadata": {
        "colab": {
          "base_uri": "https://localhost:8080/"
        },
        "id": "51UuYBskfxtM",
        "outputId": "a5e1fd94-1cf1-42f8-f1e2-a48a20c69f37"
      },
      "execution_count": 44,
      "outputs": [
        {
          "output_type": "stream",
          "name": "stdout",
          "text": [
            "Inside phone constructor\n",
            "Buying a phone\n",
            "Product customer review\n"
          ]
        }
      ]
    },
    {
      "cell_type": "code",
      "source": [
        "# Hierarchical\n",
        "class Phone:\n",
        "    def __init__(self, price, brand, camera):\n",
        "        print (\"Inside phone constructor\")\n",
        "        self.__price = price\n",
        "        self.brand = brand\n",
        "        self.camera = camera\n",
        "\n",
        "    def buy(self):\n",
        "        print (\"Buying a phone\")\n",
        "\n",
        "class SmartPhone(Phone):\n",
        "    pass\n",
        "\n",
        "class FeaturePhone(Phone):\n",
        "    pass\n",
        "\n",
        "SmartPhone(1000,\"Apple\",\"13px\").buy()\n",
        "FeaturePhone(10,\"Lava\",\"1px\").buy()"
      ],
      "metadata": {
        "colab": {
          "base_uri": "https://localhost:8080/"
        },
        "id": "rbr5JuFJf0FO",
        "outputId": "5856c2ca-9bc5-41c5-c579-6baa27b260f2"
      },
      "execution_count": 45,
      "outputs": [
        {
          "output_type": "stream",
          "name": "stdout",
          "text": [
            "Inside phone constructor\n",
            "Buying a phone\n",
            "Inside phone constructor\n",
            "Buying a phone\n"
          ]
        }
      ]
    },
    {
      "cell_type": "code",
      "source": [
        "# Multiple\n",
        "class Phone:\n",
        "    def __init__(self, price, brand, camera):\n",
        "        print (\"Inside phone constructor\")\n",
        "        self.__price = price\n",
        "        self.brand = brand\n",
        "        self.camera = camera\n",
        "\n",
        "    def buy(self):\n",
        "        print (\"Buying a phone\")\n",
        "\n",
        "class Product:\n",
        "    def review(self):\n",
        "        print (\"Customer review\")\n",
        "\n",
        "class SmartPhone(Phone, Product):\n",
        "    pass\n",
        "\n",
        "s=SmartPhone(20000, \"Apple\", 12)\n",
        "\n",
        "s.buy()\n",
        "s.review()\n"
      ],
      "metadata": {
        "colab": {
          "base_uri": "https://localhost:8080/"
        },
        "id": "Rlhyyvw6f2sl",
        "outputId": "ce5da3dd-b190-4f4a-9b1d-51d402204e07"
      },
      "execution_count": 46,
      "outputs": [
        {
          "output_type": "stream",
          "name": "stdout",
          "text": [
            "Inside phone constructor\n",
            "Buying a phone\n",
            "Customer review\n"
          ]
        }
      ]
    },
    {
      "cell_type": "code",
      "source": [
        "# the diamond problem\n",
        "# https://stackoverflow.com/questions/56361048/what-is-the-diamond-problem-in-python-and-why-its-not-appear-in-python2\n",
        "class Phone:\n",
        "    def __init__(self, price, brand, camera):\n",
        "        print (\"Inside phone constructor\")\n",
        "        self.__price = price\n",
        "        self.brand = brand\n",
        "        self.camera = camera\n",
        "\n",
        "    def buy(self):\n",
        "        print (\"Buying a phone\")\n",
        "\n",
        "class Product:\n",
        "    def buy(self):\n",
        "        print (\"Product buy method\")\n",
        "\n",
        "# Method resolution order\n",
        "class SmartPhone(Phone,Product):\n",
        "    pass\n",
        "\n",
        "s=SmartPhone(20000, \"Apple\", 12)\n",
        "\n",
        "s.buy()"
      ],
      "metadata": {
        "colab": {
          "base_uri": "https://localhost:8080/"
        },
        "id": "yhrOt9k4f5fN",
        "outputId": "935cbc41-2e2c-45f9-87b5-57d6ec825ab7"
      },
      "execution_count": 47,
      "outputs": [
        {
          "output_type": "stream",
          "name": "stdout",
          "text": [
            "Inside phone constructor\n",
            "Buying a phone\n"
          ]
        }
      ]
    },
    {
      "cell_type": "code",
      "source": [
        "class A:\n",
        "\n",
        "    def m1(self):\n",
        "        return 20\n",
        "\n",
        "class B(A):\n",
        "\n",
        "    def m1(self):\n",
        "        return 30\n",
        "\n",
        "    def m2(self):\n",
        "        return 40\n",
        "\n",
        "class C(B):\n",
        "  \n",
        "    def m2(self):\n",
        "        return 20\n",
        "obj1=A()\n",
        "obj2=B()\n",
        "obj3=C()\n",
        "print(obj1.m1() + obj3.m1()+ obj3.m2())"
      ],
      "metadata": {
        "colab": {
          "base_uri": "https://localhost:8080/"
        },
        "id": "Ox4Cf5Jvf8lx",
        "outputId": "cda5548e-05d3-4ea9-eaa2-297a2222a3e9"
      },
      "execution_count": 48,
      "outputs": [
        {
          "output_type": "stream",
          "name": "stdout",
          "text": [
            "70\n"
          ]
        }
      ]
    },
    {
      "cell_type": "code",
      "source": [
        "class A:\n",
        "\n",
        "    def m1(self):\n",
        "        return 20\n",
        "\n",
        "class B(A):\n",
        "\n",
        "    def m1(self):\n",
        "        val=super().m1()+30\n",
        "        return val\n",
        "\n",
        "class C(B):\n",
        "  \n",
        "    def m1(self):\n",
        "        val=self.m1()+20\n",
        "        return val\n",
        "obj=C()\n",
        "print(obj.m1())"
      ],
      "metadata": {
        "colab": {
          "base_uri": "https://localhost:8080/",
          "height": 380
        },
        "id": "l278F1YAf_n_",
        "outputId": "2f8a1f10-e869-46d0-e60d-48d15af1240e"
      },
      "execution_count": 49,
      "outputs": [
        {
          "output_type": "error",
          "ename": "RecursionError",
          "evalue": "ignored",
          "traceback": [
            "\u001b[0;31m---------------------------------------------------------------------------\u001b[0m",
            "\u001b[0;31mRecursionError\u001b[0m                            Traceback (most recent call last)",
            "\u001b[0;32m<ipython-input-49-bb3659d52487>\u001b[0m in \u001b[0;36m<cell line: 18>\u001b[0;34m()\u001b[0m\n\u001b[1;32m     16\u001b[0m         \u001b[0;32mreturn\u001b[0m \u001b[0mval\u001b[0m\u001b[0;34m\u001b[0m\u001b[0;34m\u001b[0m\u001b[0m\n\u001b[1;32m     17\u001b[0m \u001b[0mobj\u001b[0m\u001b[0;34m=\u001b[0m\u001b[0mC\u001b[0m\u001b[0;34m(\u001b[0m\u001b[0;34m)\u001b[0m\u001b[0;34m\u001b[0m\u001b[0;34m\u001b[0m\u001b[0m\n\u001b[0;32m---> 18\u001b[0;31m \u001b[0mprint\u001b[0m\u001b[0;34m(\u001b[0m\u001b[0mobj\u001b[0m\u001b[0;34m.\u001b[0m\u001b[0mm1\u001b[0m\u001b[0;34m(\u001b[0m\u001b[0;34m)\u001b[0m\u001b[0;34m)\u001b[0m\u001b[0;34m\u001b[0m\u001b[0;34m\u001b[0m\u001b[0m\n\u001b[0m",
            "\u001b[0;32m<ipython-input-49-bb3659d52487>\u001b[0m in \u001b[0;36mm1\u001b[0;34m(self)\u001b[0m\n\u001b[1;32m     13\u001b[0m \u001b[0;34m\u001b[0m\u001b[0m\n\u001b[1;32m     14\u001b[0m     \u001b[0;32mdef\u001b[0m \u001b[0mm1\u001b[0m\u001b[0;34m(\u001b[0m\u001b[0mself\u001b[0m\u001b[0;34m)\u001b[0m\u001b[0;34m:\u001b[0m\u001b[0;34m\u001b[0m\u001b[0;34m\u001b[0m\u001b[0m\n\u001b[0;32m---> 15\u001b[0;31m         \u001b[0mval\u001b[0m\u001b[0;34m=\u001b[0m\u001b[0mself\u001b[0m\u001b[0;34m.\u001b[0m\u001b[0mm1\u001b[0m\u001b[0;34m(\u001b[0m\u001b[0;34m)\u001b[0m\u001b[0;34m+\u001b[0m\u001b[0;36m20\u001b[0m\u001b[0;34m\u001b[0m\u001b[0;34m\u001b[0m\u001b[0m\n\u001b[0m\u001b[1;32m     16\u001b[0m         \u001b[0;32mreturn\u001b[0m \u001b[0mval\u001b[0m\u001b[0;34m\u001b[0m\u001b[0;34m\u001b[0m\u001b[0m\n\u001b[1;32m     17\u001b[0m \u001b[0mobj\u001b[0m\u001b[0;34m=\u001b[0m\u001b[0mC\u001b[0m\u001b[0;34m(\u001b[0m\u001b[0;34m)\u001b[0m\u001b[0;34m\u001b[0m\u001b[0;34m\u001b[0m\u001b[0m\n",
            "... last 1 frames repeated, from the frame below ...\n",
            "\u001b[0;32m<ipython-input-49-bb3659d52487>\u001b[0m in \u001b[0;36mm1\u001b[0;34m(self)\u001b[0m\n\u001b[1;32m     13\u001b[0m \u001b[0;34m\u001b[0m\u001b[0m\n\u001b[1;32m     14\u001b[0m     \u001b[0;32mdef\u001b[0m \u001b[0mm1\u001b[0m\u001b[0;34m(\u001b[0m\u001b[0mself\u001b[0m\u001b[0;34m)\u001b[0m\u001b[0;34m:\u001b[0m\u001b[0;34m\u001b[0m\u001b[0;34m\u001b[0m\u001b[0m\n\u001b[0;32m---> 15\u001b[0;31m         \u001b[0mval\u001b[0m\u001b[0;34m=\u001b[0m\u001b[0mself\u001b[0m\u001b[0;34m.\u001b[0m\u001b[0mm1\u001b[0m\u001b[0;34m(\u001b[0m\u001b[0;34m)\u001b[0m\u001b[0;34m+\u001b[0m\u001b[0;36m20\u001b[0m\u001b[0;34m\u001b[0m\u001b[0;34m\u001b[0m\u001b[0m\n\u001b[0m\u001b[1;32m     16\u001b[0m         \u001b[0;32mreturn\u001b[0m \u001b[0mval\u001b[0m\u001b[0;34m\u001b[0m\u001b[0;34m\u001b[0m\u001b[0m\n\u001b[1;32m     17\u001b[0m \u001b[0mobj\u001b[0m\u001b[0;34m=\u001b[0m\u001b[0mC\u001b[0m\u001b[0;34m(\u001b[0m\u001b[0;34m)\u001b[0m\u001b[0;34m\u001b[0m\u001b[0;34m\u001b[0m\u001b[0m\n",
            "\u001b[0;31mRecursionError\u001b[0m: maximum recursion depth exceeded"
          ]
        }
      ]
    },
    {
      "cell_type": "markdown",
      "source": [
        "Polymorphism              \n",
        "Method Overriding             \n",
        "Method Overloading            \n",
        "Operator Overloading              "
      ],
      "metadata": {
        "id": "tY62P5vmgGTU"
      }
    },
    {
      "cell_type": "code",
      "source": [
        "class Shape:\n",
        "\n",
        "  def area(self,a,b=0):\n",
        "    if b == 0:\n",
        "      return 3.14*a*a\n",
        "    else:\n",
        "      return a*b\n",
        "\n",
        "s = Shape()\n",
        "\n",
        "print(s.area(2))\n",
        "print(s.area(3,4))"
      ],
      "metadata": {
        "colab": {
          "base_uri": "https://localhost:8080/"
        },
        "id": "-2scOPyngCU0",
        "outputId": "cf9efec1-8715-4647-c9a1-e8078ee33045"
      },
      "execution_count": 50,
      "outputs": [
        {
          "output_type": "stream",
          "name": "stdout",
          "text": [
            "12.56\n",
            "12\n"
          ]
        }
      ]
    },
    {
      "cell_type": "code",
      "source": [
        "'hello' + 'world'"
      ],
      "metadata": {
        "colab": {
          "base_uri": "https://localhost:8080/",
          "height": 35
        },
        "id": "rdFww-LggMls",
        "outputId": "29d4bbca-7917-42e9-d92e-1f2e0cfa20b2"
      },
      "execution_count": 51,
      "outputs": [
        {
          "output_type": "execute_result",
          "data": {
            "text/plain": [
              "'helloworld'"
            ],
            "application/vnd.google.colaboratory.intrinsic+json": {
              "type": "string"
            }
          },
          "metadata": {},
          "execution_count": 51
        }
      ]
    },
    {
      "cell_type": "code",
      "source": [
        "4 + 5"
      ],
      "metadata": {
        "colab": {
          "base_uri": "https://localhost:8080/"
        },
        "id": "StE5bZYHgQJk",
        "outputId": "6c7fdbdd-bf44-48d3-a9fd-891264e36d02"
      },
      "execution_count": 52,
      "outputs": [
        {
          "output_type": "execute_result",
          "data": {
            "text/plain": [
              "9"
            ]
          },
          "metadata": {},
          "execution_count": 52
        }
      ]
    },
    {
      "cell_type": "code",
      "source": [
        "[1,2,3] + [4,5]"
      ],
      "metadata": {
        "colab": {
          "base_uri": "https://localhost:8080/"
        },
        "id": "DJ9KVkoJgTQz",
        "outputId": "364ffacc-f6bb-4532-e1d2-68a2e41bc226"
      },
      "execution_count": 53,
      "outputs": [
        {
          "output_type": "execute_result",
          "data": {
            "text/plain": [
              "[1, 2, 3, 4, 5]"
            ]
          },
          "metadata": {},
          "execution_count": 53
        }
      ]
    },
    {
      "cell_type": "markdown",
      "source": [
        "Abstraction"
      ],
      "metadata": {
        "id": "_vEh1DzCgbU5"
      }
    },
    {
      "cell_type": "code",
      "source": [
        "from abc import ABC,abstractmethod\n",
        "class BankApp(ABC):\n",
        "\n",
        "  def database(self):\n",
        "    print('connected to database')\n",
        "\n",
        "  @abstractmethod\n",
        "  def security(self):\n",
        "    pass\n",
        "\n",
        "  @abstractmethod\n",
        "  def display(self):\n",
        "    pass\n"
      ],
      "metadata": {
        "id": "9Ma6w6MGgVgV"
      },
      "execution_count": 54,
      "outputs": []
    },
    {
      "cell_type": "code",
      "source": [
        "class MobileApp(BankApp):\n",
        "\n",
        "  def mobile_login(self):\n",
        "    print('login into mobile')\n",
        "\n",
        "  def security(self):\n",
        "    print('mobile security')\n",
        "\n",
        "  def display(self):\n",
        "    print('display')"
      ],
      "metadata": {
        "id": "G3HgAR6Rgev8"
      },
      "execution_count": 55,
      "outputs": []
    },
    {
      "cell_type": "code",
      "source": [
        "mob = MobileApp()"
      ],
      "metadata": {
        "id": "wsplZYTjghmb"
      },
      "execution_count": 56,
      "outputs": []
    },
    {
      "cell_type": "code",
      "source": [
        "mob.security()"
      ],
      "metadata": {
        "colab": {
          "base_uri": "https://localhost:8080/"
        },
        "id": "R0IRZbflgkyb",
        "outputId": "aeff259a-f7d1-4b92-ffc2-0cc7ec65d5d5"
      },
      "execution_count": 57,
      "outputs": [
        {
          "output_type": "stream",
          "name": "stdout",
          "text": [
            "mobile security\n"
          ]
        }
      ]
    },
    {
      "cell_type": "code",
      "source": [
        "obj = BankApp()"
      ],
      "metadata": {
        "colab": {
          "base_uri": "https://localhost:8080/",
          "height": 165
        },
        "id": "GwEMG8QBgnEz",
        "outputId": "be51b506-193d-42b2-914c-63d5b176a14c"
      },
      "execution_count": 58,
      "outputs": [
        {
          "output_type": "error",
          "ename": "TypeError",
          "evalue": "ignored",
          "traceback": [
            "\u001b[0;31m---------------------------------------------------------------------------\u001b[0m",
            "\u001b[0;31mTypeError\u001b[0m                                 Traceback (most recent call last)",
            "\u001b[0;32m<ipython-input-58-0aa75fd04378>\u001b[0m in \u001b[0;36m<cell line: 1>\u001b[0;34m()\u001b[0m\n\u001b[0;32m----> 1\u001b[0;31m \u001b[0mobj\u001b[0m \u001b[0;34m=\u001b[0m \u001b[0mBankApp\u001b[0m\u001b[0;34m(\u001b[0m\u001b[0;34m)\u001b[0m\u001b[0;34m\u001b[0m\u001b[0;34m\u001b[0m\u001b[0m\n\u001b[0m",
            "\u001b[0;31mTypeError\u001b[0m: Can't instantiate abstract class BankApp with abstract methods display, security"
          ]
        }
      ]
    },
    {
      "cell_type": "code",
      "source": [],
      "metadata": {
        "id": "8_SPZUYVgt5i"
      },
      "execution_count": null,
      "outputs": []
    }
  ]
}