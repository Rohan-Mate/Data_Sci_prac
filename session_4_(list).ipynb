{
  "nbformat": 4,
  "nbformat_minor": 0,
  "metadata": {
    "colab": {
      "provenance": []
    },
    "kernelspec": {
      "name": "python3",
      "display_name": "Python 3"
    },
    "language_info": {
      "name": "python"
    }
  },
  "cells": [
    {
      "cell_type": "markdown",
      "source": [
        "List"
      ],
      "metadata": {
        "id": "e4DyhQJRvPND"
      }
    },
    {
      "cell_type": "markdown",
      "source": [
        "What are lists ?           \n",
        "List is a data type where you can store multiple items under 1 name. More technically,list act like dynamic arrays which means you can add more items on the fly."
      ],
      "metadata": {
        "id": "gOtCwQBtwGKN"
      }
    },
    {
      "cell_type": "code",
      "execution_count": null,
      "metadata": {
        "id": "DjRi9YI5udT6"
      },
      "outputs": [],
      "source": [
        "L = [20,'jessa',37.5,[1,2,34]]"
      ]
    },
    {
      "cell_type": "markdown",
      "source": [
        "Array Vs List            \n",
        "\n",
        "\n",
        "*   Fixed Vs dyanmic size \n",
        "*   Convenience -> Heterogenous\n",
        "*   speed of execution\n",
        "*   Memory \n",
        "\n",
        "\n",
        "\n"
      ],
      "metadata": {
        "id": "Ahpciyvkwo7g"
      }
    },
    {
      "cell_type": "code",
      "source": [
        "L = [1,2,3]\n",
        "\n",
        "print(id(L))\n",
        "print(id(L[0]))\n",
        "print(id(L[1]))\n",
        "print(id(L[2]))\n",
        "print(id(1))\n",
        "print(id(2))\n",
        "print(id(3))"
      ],
      "metadata": {
        "colab": {
          "base_uri": "https://localhost:8080/"
        },
        "id": "XKRB6aHBwmp6",
        "outputId": "5ec1ab83-55d1-4611-da0b-e05e7e0183ab"
      },
      "execution_count": null,
      "outputs": [
        {
          "output_type": "stream",
          "name": "stdout",
          "text": [
            "140683999949312\n",
            "140685098549488\n",
            "140685098549520\n",
            "140685098549552\n",
            "140685098549488\n",
            "140685098549520\n",
            "140685098549552\n"
          ]
        }
      ]
    },
    {
      "cell_type": "markdown",
      "source": [
        "Creating a list "
      ],
      "metadata": {
        "id": "yC2POjfL4H3t"
      }
    },
    {
      "cell_type": "code",
      "source": [
        "# Empty \n",
        "print([])\n",
        "# 1D -> Homogenous\n",
        "print([1,2,3,4,5])\n",
        "# 2D -> Heterogenous\n",
        "print([1,2,3,[4,5]])\n",
        "# 3D -> Homogenous\n",
        "print([[[1,2],[3,4]],[[5,6],[7,8]]])\n",
        "# Heterogenous \n",
        "print([1,True,5.6,5+6j,'hello'])\n",
        "# Using type conversion \n",
        "print(list('hello'))"
      ],
      "metadata": {
        "colab": {
          "base_uri": "https://localhost:8080/"
        },
        "id": "bUclJvl5zlqr",
        "outputId": "2f079817-1324-4912-b03f-e9568dc34bbe"
      },
      "execution_count": null,
      "outputs": [
        {
          "output_type": "stream",
          "name": "stdout",
          "text": [
            "[]\n",
            "[1, 2, 3, 4, 5]\n",
            "[1, 2, 3, [4, 5]]\n",
            "[[[1, 2], [3, 4]], [[5, 6], [7, 8]]]\n",
            "[1, True, 5.6, (5+6j), 'hello']\n",
            "['h', 'e', 'l', 'l', 'o']\n"
          ]
        }
      ]
    },
    {
      "cell_type": "markdown",
      "source": [
        "Acessing items from a list "
      ],
      "metadata": {
        "id": "92vLkFYO6Nj5"
      }
    },
    {
      "cell_type": "code",
      "source": [
        "# Indexing \n",
        "L = [1,2,3,4,5]\n",
        "# positive \n",
        "print(L[0])\n",
        "# Negative\n",
        "print(L[-3])"
      ],
      "metadata": {
        "colab": {
          "base_uri": "https://localhost:8080/"
        },
        "id": "dw9RvPbx5rV3",
        "outputId": "c878fec9-ac1b-4b10-9e32-746a2777d89d"
      },
      "execution_count": null,
      "outputs": [
        {
          "output_type": "stream",
          "name": "stdout",
          "text": [
            "1\n",
            "3\n"
          ]
        }
      ]
    },
    {
      "cell_type": "code",
      "source": [
        "L = [1,2,3,[4,5]]\n",
        "print(L[3][-2])\n",
        "print(L[3][0])"
      ],
      "metadata": {
        "colab": {
          "base_uri": "https://localhost:8080/"
        },
        "id": "yfxsgbml6ivA",
        "outputId": "0be1d0ea-c8ea-4a40-a5e9-0ce9bb17c4ce"
      },
      "execution_count": null,
      "outputs": [
        {
          "output_type": "stream",
          "name": "stdout",
          "text": [
            "4\n",
            "4\n"
          ]
        }
      ]
    },
    {
      "cell_type": "code",
      "source": [
        "L = [[[1,2],[3,4]],[[5,6],[7,8]]]\n",
        "\n",
        "print(L[0])\n",
        "print(L[1])\n",
        "print(L[0][1])\n",
        "print(L[0][1][0])"
      ],
      "metadata": {
        "colab": {
          "base_uri": "https://localhost:8080/"
        },
        "id": "14HYw8KY7Vb4",
        "outputId": "8121e531-1c13-46a5-ae24-6ef02c175a87"
      },
      "execution_count": null,
      "outputs": [
        {
          "output_type": "stream",
          "name": "stdout",
          "text": [
            "[[1, 2], [3, 4]]\n",
            "[[5, 6], [7, 8]]\n",
            "[3, 4]\n",
            "3\n"
          ]
        }
      ]
    },
    {
      "cell_type": "markdown",
      "source": [
        "Slicing"
      ],
      "metadata": {
        "id": "2c30iMyX9Mmz"
      }
    },
    {
      "cell_type": "code",
      "source": [
        "L = [1,2,3,4,5,6,78,9]\n",
        "print(L[:])\n",
        "print(L[::])\n",
        "print(L[0:3])\n",
        "print(L[-3:])\n",
        "print(L[0::2])\n",
        "print(L[-5:-2:2])\n",
        "print(L[::-1])"
      ],
      "metadata": {
        "colab": {
          "base_uri": "https://localhost:8080/"
        },
        "id": "I29iisHr798t",
        "outputId": "9f1bba03-c1b4-41fc-dec8-a682d44877cc"
      },
      "execution_count": null,
      "outputs": [
        {
          "output_type": "stream",
          "name": "stdout",
          "text": [
            "[1, 2, 3, 4, 5, 6, 78, 9]\n",
            "[1, 2, 3, 4, 5, 6, 78, 9]\n",
            "[1, 2, 3]\n",
            "[6, 78, 9]\n",
            "[1, 3, 5, 78]\n",
            "[4, 6]\n",
            "[9, 78, 6, 5, 4, 3, 2, 1]\n"
          ]
        }
      ]
    },
    {
      "cell_type": "markdown",
      "source": [
        "Adding items to a list "
      ],
      "metadata": {
        "id": "krCA7Hl8-o0c"
      }
    },
    {
      "cell_type": "code",
      "source": [
        "# append -> last mein ja ke ek single item ko append karta hain \n",
        "L = [1,2,3,4,5]\n",
        "L.append(6)\n",
        "print(L)"
      ],
      "metadata": {
        "colab": {
          "base_uri": "https://localhost:8080/"
        },
        "id": "ajQltWGC9Sb-",
        "outputId": "109f0ba6-251b-4380-d9e2-af0204528877"
      },
      "execution_count": null,
      "outputs": [
        {
          "output_type": "stream",
          "name": "stdout",
          "text": [
            "[1, 2, 3, 4, 5, 6]\n"
          ]
        }
      ]
    },
    {
      "cell_type": "code",
      "source": [
        "# extend -> last mein - use multiple items to add \n",
        "L = [1,2,3,4,5] \n",
        "L.extend([6,7,8,9])\n",
        "print(L)"
      ],
      "metadata": {
        "colab": {
          "base_uri": "https://localhost:8080/"
        },
        "id": "QOFlY2xq-77q",
        "outputId": "a7bf8a85-9b0d-4220-85d1-0b8ed5fd1f3e"
      },
      "execution_count": null,
      "outputs": [
        {
          "output_type": "stream",
          "name": "stdout",
          "text": [
            "[1, 2, 3, 4, 5, 6, 7, 8, 9]\n"
          ]
        }
      ]
    },
    {
      "cell_type": "code",
      "source": [
        "L = [1,2,3,4] \n",
        "L.append([5,6,7])\n",
        "print(L)"
      ],
      "metadata": {
        "colab": {
          "base_uri": "https://localhost:8080/"
        },
        "id": "uJuo9xx4_QmI",
        "outputId": "78d7cf2a-ad0c-4e5d-ae22-eb8ca09bfc6b"
      },
      "execution_count": null,
      "outputs": [
        {
          "output_type": "stream",
          "name": "stdout",
          "text": [
            "[1, 2, 3, 4, [5, 6, 7]]\n"
          ]
        }
      ]
    },
    {
      "cell_type": "code",
      "source": [
        "L = [1,2,3]\n",
        "L.extend('delhi')\n",
        "print(L)"
      ],
      "metadata": {
        "colab": {
          "base_uri": "https://localhost:8080/"
        },
        "id": "crhv7MlH_nm7",
        "outputId": "c3d873b0-f82e-43f8-9246-faf002701a22"
      },
      "execution_count": null,
      "outputs": [
        {
          "output_type": "stream",
          "name": "stdout",
          "text": [
            "[1, 2, 3, 'd', 'e', 'l', 'h', 'i']\n"
          ]
        }
      ]
    },
    {
      "cell_type": "code",
      "source": [
        "# insert -> desired index pe add karna hain \n",
        "L = [1,2,3,4] \n",
        "L.insert(1,100)\n",
        "print(L)"
      ],
      "metadata": {
        "colab": {
          "base_uri": "https://localhost:8080/"
        },
        "id": "LjTxVWyK_8Td",
        "outputId": "1abfc480-a13e-4f4b-d2cf-a31e08dd07be"
      },
      "execution_count": null,
      "outputs": [
        {
          "output_type": "stream",
          "name": "stdout",
          "text": [
            "[1, 100, 2, 3, 4]\n"
          ]
        }
      ]
    },
    {
      "cell_type": "markdown",
      "source": [
        "Editing items in a list                \n",
        "\n",
        "List are mutable datatype"
      ],
      "metadata": {
        "id": "Wvj7WVAcg_2C"
      }
    },
    {
      "cell_type": "code",
      "source": [
        "L = [1,2,3,4,5]\n",
        "\n",
        "# Editing with indexing\n",
        "L[-1] = 500\n",
        "print(L)\n",
        "\n",
        "# Editing with slicing\n",
        "L[1:4] = [200,300,400]\n",
        "print(L)"
      ],
      "metadata": {
        "id": "kzwpttwQAYN4",
        "colab": {
          "base_uri": "https://localhost:8080/"
        },
        "outputId": "25f5820b-00d8-4b65-e53f-5383994bd160"
      },
      "execution_count": 3,
      "outputs": [
        {
          "output_type": "stream",
          "name": "stdout",
          "text": [
            "[1, 2, 3, 4, 500]\n",
            "[1, 200, 300, 400, 500]\n"
          ]
        }
      ]
    },
    {
      "cell_type": "markdown",
      "source": [
        "Deleting items from a list"
      ],
      "metadata": {
        "id": "6f7_UfPfiiZ5"
      }
    },
    {
      "cell_type": "code",
      "source": [
        "# del \n",
        "L = [1,2,3,4,5]\n",
        "del L \n",
        "print(L)"
      ],
      "metadata": {
        "colab": {
          "base_uri": "https://localhost:8080/",
          "height": 200
        },
        "id": "_e4DwZ48haXX",
        "outputId": "1c91c294-8a15-4f3d-d10c-813b7dd406e6"
      },
      "execution_count": 5,
      "outputs": [
        {
          "output_type": "error",
          "ename": "NameError",
          "evalue": "ignored",
          "traceback": [
            "\u001b[0;31m---------------------------------------------------------------------------\u001b[0m",
            "\u001b[0;31mNameError\u001b[0m                                 Traceback (most recent call last)",
            "\u001b[0;32m<ipython-input-5-63bdff82ceb7>\u001b[0m in \u001b[0;36m<cell line: 4>\u001b[0;34m()\u001b[0m\n\u001b[1;32m      2\u001b[0m \u001b[0mL\u001b[0m \u001b[0;34m=\u001b[0m \u001b[0;34m[\u001b[0m\u001b[0;36m1\u001b[0m\u001b[0;34m,\u001b[0m\u001b[0;36m2\u001b[0m\u001b[0;34m,\u001b[0m\u001b[0;36m3\u001b[0m\u001b[0;34m,\u001b[0m\u001b[0;36m4\u001b[0m\u001b[0;34m,\u001b[0m\u001b[0;36m5\u001b[0m\u001b[0;34m]\u001b[0m\u001b[0;34m\u001b[0m\u001b[0;34m\u001b[0m\u001b[0m\n\u001b[1;32m      3\u001b[0m \u001b[0;32mdel\u001b[0m \u001b[0mL\u001b[0m\u001b[0;34m\u001b[0m\u001b[0;34m\u001b[0m\u001b[0m\n\u001b[0;32m----> 4\u001b[0;31m \u001b[0mprint\u001b[0m\u001b[0;34m(\u001b[0m\u001b[0mL\u001b[0m\u001b[0;34m)\u001b[0m\u001b[0;34m\u001b[0m\u001b[0;34m\u001b[0m\u001b[0m\n\u001b[0m",
            "\u001b[0;31mNameError\u001b[0m: name 'L' is not defined"
          ]
        }
      ]
    },
    {
      "cell_type": "code",
      "source": [
        "L = [1,2,3,4,5]\n",
        "# indexing\n",
        "del L[-1]\n",
        "print(L)\n",
        "# slicing\n",
        "del L[1:3]\n",
        "print(L)"
      ],
      "metadata": {
        "colab": {
          "base_uri": "https://localhost:8080/"
        },
        "id": "RnD2uwBUi2nb",
        "outputId": "e22b379e-26f6-4af2-b6b1-97b4a7e143c2"
      },
      "execution_count": 7,
      "outputs": [
        {
          "output_type": "stream",
          "name": "stdout",
          "text": [
            "[1, 2, 3, 4]\n",
            "[1, 4]\n"
          ]
        }
      ]
    },
    {
      "cell_type": "code",
      "source": [
        "# remove -> item ko value ke hisab se delete karna hain to \n",
        "L =[1,2,3,4,5]\n",
        "L.remove(5)\n",
        "print(L)"
      ],
      "metadata": {
        "colab": {
          "base_uri": "https://localhost:8080/"
        },
        "id": "SJ5TAFIijDuA",
        "outputId": "2f7e7261-0472-43d8-da4c-2a22c5d9a4a8"
      },
      "execution_count": 8,
      "outputs": [
        {
          "output_type": "stream",
          "name": "stdout",
          "text": [
            "[1, 2, 3, 4]\n"
          ]
        }
      ]
    },
    {
      "cell_type": "code",
      "source": [
        "# pop ->\n",
        "L =[1,2,3,4,5]\n",
        "L.pop(0)\n",
        "print(L)"
      ],
      "metadata": {
        "colab": {
          "base_uri": "https://localhost:8080/"
        },
        "id": "Gc1UTOAwj_gQ",
        "outputId": "7fb16fd0-1b8c-4589-eb55-b05658db1de6"
      },
      "execution_count": 9,
      "outputs": [
        {
          "output_type": "stream",
          "name": "stdout",
          "text": [
            "[2, 3, 4, 5]\n"
          ]
        }
      ]
    },
    {
      "cell_type": "code",
      "source": [
        "L =[1,2,3,4,5]\n",
        "L.pop()\n",
        "print(L)"
      ],
      "metadata": {
        "colab": {
          "base_uri": "https://localhost:8080/"
        },
        "id": "Vl1XFrWpkOGx",
        "outputId": "ffd54de4-8c6a-409a-c75c-2b93dede59e9"
      },
      "execution_count": 10,
      "outputs": [
        {
          "output_type": "stream",
          "name": "stdout",
          "text": [
            "[1, 2, 3, 4]\n"
          ]
        }
      ]
    },
    {
      "cell_type": "code",
      "source": [
        "# clear \n",
        "L =[1,2,3,4,5]\n",
        "L.clear()\n",
        "print(L)"
      ],
      "metadata": {
        "colab": {
          "base_uri": "https://localhost:8080/"
        },
        "id": "kD7GGwYwkSrA",
        "outputId": "2b99128b-ace5-4d0d-e660-585e83a41e53"
      },
      "execution_count": 11,
      "outputs": [
        {
          "output_type": "stream",
          "name": "stdout",
          "text": [
            "[]\n"
          ]
        }
      ]
    },
    {
      "cell_type": "markdown",
      "source": [
        "Operations on lists\n",
        "\n",
        "\n",
        "*   Airthmetic\n",
        "*   Membership\n",
        "\n",
        "*   Loop\n",
        "\n",
        "\n",
        "\n",
        "\n"
      ],
      "metadata": {
        "id": "mbJ2EY51kpWD"
      }
    },
    {
      "cell_type": "code",
      "source": [
        "# Airthmetic (+ *)\n",
        "L1 = [1,2,3,4]\n",
        "L2 = [5,6,7,8]\n",
        "\n",
        "# concatenation/Merge\n",
        "print(L1+L2)"
      ],
      "metadata": {
        "colab": {
          "base_uri": "https://localhost:8080/"
        },
        "id": "9EOTO310kec4",
        "outputId": "aaec4924-b0b3-4193-c938-e9becd4a2b1a"
      },
      "execution_count": 13,
      "outputs": [
        {
          "output_type": "stream",
          "name": "stdout",
          "text": [
            "[1, 2, 3, 4, 5, 6, 7, 8]\n"
          ]
        }
      ]
    },
    {
      "cell_type": "code",
      "source": [
        "print(L1*3)"
      ],
      "metadata": {
        "colab": {
          "base_uri": "https://localhost:8080/"
        },
        "id": "wWN0UByKlDiz",
        "outputId": "2a0a3921-bf2e-43de-8069-c9d67af31411"
      },
      "execution_count": 14,
      "outputs": [
        {
          "output_type": "stream",
          "name": "stdout",
          "text": [
            "[1, 2, 3, 4, 1, 2, 3, 4, 1, 2, 3, 4]\n"
          ]
        }
      ]
    },
    {
      "cell_type": "code",
      "source": [
        "# Membership\n",
        "L1 =[1,2,3,4,5]\n",
        "L2 =[1,2,3,4,[5,6]]\n",
        "\n",
        "print(5 in L1)\n",
        "print(5 not in L1)"
      ],
      "metadata": {
        "colab": {
          "base_uri": "https://localhost:8080/"
        },
        "id": "iCOR_5ljlR5l",
        "outputId": "f766e3c5-7de7-4254-8211-5fed1b521898"
      },
      "execution_count": 15,
      "outputs": [
        {
          "output_type": "stream",
          "name": "stdout",
          "text": [
            "True\n",
            "False\n"
          ]
        }
      ]
    },
    {
      "cell_type": "code",
      "source": [
        "print(5 in L2)\n",
        "print([5,6] in L2)"
      ],
      "metadata": {
        "colab": {
          "base_uri": "https://localhost:8080/"
        },
        "id": "vjaPtDnLlsTy",
        "outputId": "97a70c58-8d60-41be-cdbb-3a135b325c05"
      },
      "execution_count": 17,
      "outputs": [
        {
          "output_type": "stream",
          "name": "stdout",
          "text": [
            "False\n",
            "True\n"
          ]
        }
      ]
    },
    {
      "cell_type": "code",
      "source": [
        "# loop \n",
        "L1 =[1,2,3,4,5]\n",
        "L2 =[1,2,3,4,[5,6]]\n",
        "\n",
        "for i in L1:\n",
        "  print(i)"
      ],
      "metadata": {
        "colab": {
          "base_uri": "https://localhost:8080/"
        },
        "id": "2i0dIpGplyb6",
        "outputId": "4d2ed7d9-2f73-47ef-85df-17af5e8c997a"
      },
      "execution_count": 18,
      "outputs": [
        {
          "output_type": "stream",
          "name": "stdout",
          "text": [
            "1\n",
            "2\n",
            "3\n",
            "4\n",
            "5\n"
          ]
        }
      ]
    },
    {
      "cell_type": "code",
      "source": [
        "L3 = [[[1,2],[3,4]],[[5,6],[7,8]]]\n",
        "\n",
        "for i in L3:\n",
        "  print(i)"
      ],
      "metadata": {
        "colab": {
          "base_uri": "https://localhost:8080/"
        },
        "id": "BFCVNzd0mNU2",
        "outputId": "0b7bb90a-3b25-49e8-945b-abbdb4547644"
      },
      "execution_count": 20,
      "outputs": [
        {
          "output_type": "stream",
          "name": "stdout",
          "text": [
            "[[1, 2], [3, 4]]\n",
            "[[5, 6], [7, 8]]\n"
          ]
        }
      ]
    },
    {
      "cell_type": "markdown",
      "source": [
        "List function"
      ],
      "metadata": {
        "id": "kPZ5QvNynO3_"
      }
    },
    {
      "cell_type": "code",
      "source": [
        "# len/max/min/sorted\n",
        "L =[2,1,5,7,0]\n",
        "\n",
        "print(len(L))\n",
        "print(min(L))\n",
        "print(max(L))\n",
        "print(sorted(L))"
      ],
      "metadata": {
        "colab": {
          "base_uri": "https://localhost:8080/"
        },
        "id": "HIRQ1ZtDmyLZ",
        "outputId": "6fdb3974-2cab-4df8-bd6e-ee1aea63a132"
      },
      "execution_count": 22,
      "outputs": [
        {
          "output_type": "stream",
          "name": "stdout",
          "text": [
            "5\n",
            "0\n",
            "7\n",
            "[0, 1, 2, 5, 7]\n"
          ]
        }
      ]
    },
    {
      "cell_type": "code",
      "source": [
        "# count\n",
        "L = [1,2,1,3,4,5,1]\n",
        "L.count(1)\n",
        "L.count(5)"
      ],
      "metadata": {
        "colab": {
          "base_uri": "https://localhost:8080/"
        },
        "id": "wJ7Y8XM0nku3",
        "outputId": "bb0cf2a5-cd18-4338-e253-0212f5ac47a0"
      },
      "execution_count": 23,
      "outputs": [
        {
          "output_type": "execute_result",
          "data": {
            "text/plain": [
              "1"
            ]
          },
          "metadata": {},
          "execution_count": 23
        }
      ]
    },
    {
      "cell_type": "code",
      "source": [
        "# index\n",
        "L = [1,2,1,3,4,5,1,2]\n",
        "L.index(5)\n",
        "L.index(2) # output is first occurance"
      ],
      "metadata": {
        "colab": {
          "base_uri": "https://localhost:8080/"
        },
        "id": "1Wbe32a5n3kV",
        "outputId": "7abad077-c77d-452e-8fa1-c534222d4224"
      },
      "execution_count": 25,
      "outputs": [
        {
          "output_type": "execute_result",
          "data": {
            "text/plain": [
              "1"
            ]
          },
          "metadata": {},
          "execution_count": 25
        }
      ]
    },
    {
      "cell_type": "code",
      "source": [
        "# reverse\n",
        "L = [2,1,5,7,0]\n",
        "# permanently reverses the list\n",
        "L.reverse()\n",
        "print(L)"
      ],
      "metadata": {
        "colab": {
          "base_uri": "https://localhost:8080/"
        },
        "id": "Zd8rV5HBoCcO",
        "outputId": "04446c29-a65b-42bb-9fbd-4b921180bcd9"
      },
      "execution_count": 27,
      "outputs": [
        {
          "output_type": "stream",
          "name": "stdout",
          "text": [
            "[0, 7, 5, 1, 2]\n"
          ]
        }
      ]
    },
    {
      "cell_type": "code",
      "source": [
        "# sort (vs sorted)\n",
        "L = [2,1,5,7,0]\n",
        "print(L)\n",
        "print(sorted(L))\n",
        "print(L)\n",
        "L.sort()\n",
        "print(L)"
      ],
      "metadata": {
        "colab": {
          "base_uri": "https://localhost:8080/"
        },
        "id": "HPueRs8XohPh",
        "outputId": "02b98eb6-a154-44fe-d509-685a9d24295c"
      },
      "execution_count": 28,
      "outputs": [
        {
          "output_type": "stream",
          "name": "stdout",
          "text": [
            "[2, 1, 5, 7, 0]\n",
            "[0, 1, 2, 5, 7]\n",
            "[2, 1, 5, 7, 0]\n",
            "[0, 1, 2, 5, 7]\n"
          ]
        }
      ]
    },
    {
      "cell_type": "code",
      "source": [
        "# copy -> shallow copy\n",
        "L = [2,1,5,7,0]\n",
        "print(L)\n",
        "print(id(L))\n",
        "L1 = L.copy()\n",
        "print(L1)\n",
        "print(id(L1))"
      ],
      "metadata": {
        "colab": {
          "base_uri": "https://localhost:8080/"
        },
        "id": "HEwif3GrpGRC",
        "outputId": "f1adc92c-45e7-4073-d4fb-69383aa2f07e"
      },
      "execution_count": 30,
      "outputs": [
        {
          "output_type": "stream",
          "name": "stdout",
          "text": [
            "[2, 1, 5, 7, 0]\n",
            "140621794657344\n",
            "[2, 1, 5, 7, 0]\n",
            "140622216889408\n"
          ]
        }
      ]
    },
    {
      "cell_type": "markdown",
      "source": [
        "# List Comprehension\n",
        "\n",
        "list comprehension provides a concise way of creating lists.\n",
        "\n",
        "newlist = [expression for item in iterable if condition == True]\n",
        "\n",
        "Advantage\n",
        "*   more time efficient and space efficient than loops \n",
        "*   require fewer lines of code\n",
        "*   transforms iterative statement into a formula \n",
        "\n",
        "\n"
      ],
      "metadata": {
        "id": "ue7hzjyFqSbk"
      }
    },
    {
      "cell_type": "code",
      "source": [
        "# add 1 to 10 numbers to a list \n",
        "\n",
        "L = []\n",
        "\n",
        "for i in range(1,11):\n",
        "  L.append(i)\n",
        "\n",
        "print(L)  "
      ],
      "metadata": {
        "colab": {
          "base_uri": "https://localhost:8080/"
        },
        "id": "UapEMz4UppJu",
        "outputId": "b7905915-81f2-4694-d8c6-693bc9013c4c"
      },
      "execution_count": 31,
      "outputs": [
        {
          "output_type": "stream",
          "name": "stdout",
          "text": [
            "[1, 2, 3, 4, 5, 6, 7, 8, 9, 10]\n"
          ]
        }
      ]
    },
    {
      "cell_type": "code",
      "source": [
        "L = [i for i in range(1,11)]\n",
        "print(L)"
      ],
      "metadata": {
        "colab": {
          "base_uri": "https://localhost:8080/"
        },
        "id": "akIZ2KkOuqtS",
        "outputId": "7307c3a8-187e-4159-e633-a3414d5ef0ad"
      },
      "execution_count": 32,
      "outputs": [
        {
          "output_type": "stream",
          "name": "stdout",
          "text": [
            "[1, 2, 3, 4, 5, 6, 7, 8, 9, 10]\n"
          ]
        }
      ]
    },
    {
      "cell_type": "code",
      "source": [
        "# scaler multiplication on a vector \n",
        "v = [2,3,4]\n",
        "s = 3\n",
        "# hame output chahiye -> v * s [6,9,12]\n",
        "print(v*s)\n",
        "\n",
        "# loop \n",
        "x = []\n",
        "for i in v:\n",
        "  x.append(i*s)\n",
        "\n",
        "print(x)  "
      ],
      "metadata": {
        "colab": {
          "base_uri": "https://localhost:8080/"
        },
        "id": "x4fijnNQu3ga",
        "outputId": "22bb4381-7718-4f4a-bd1e-fae5d75fe350"
      },
      "execution_count": 35,
      "outputs": [
        {
          "output_type": "stream",
          "name": "stdout",
          "text": [
            "[2, 3, 4, 2, 3, 4, 2, 3, 4]\n",
            "[6, 9, 12]\n"
          ]
        }
      ]
    },
    {
      "cell_type": "code",
      "source": [
        "# list comprehension\n",
        "[s*i for i in v]"
      ],
      "metadata": {
        "colab": {
          "base_uri": "https://localhost:8080/"
        },
        "id": "hQrJLVxPvKTF",
        "outputId": "f698c640-d890-4958-d63c-c4971a649c6d"
      },
      "execution_count": 36,
      "outputs": [
        {
          "output_type": "execute_result",
          "data": {
            "text/plain": [
              "[6, 9, 12]"
            ]
          },
          "metadata": {},
          "execution_count": 36
        }
      ]
    },
    {
      "cell_type": "code",
      "source": [
        "# Add square\n",
        "L = [1,2,3,4,5]\n",
        "\n",
        "[i**2 for i in L]"
      ],
      "metadata": {
        "colab": {
          "base_uri": "https://localhost:8080/"
        },
        "id": "HltKAloivxwb",
        "outputId": "40ef4cc9-37f4-4576-b18a-cae6360ec4e0"
      },
      "execution_count": 37,
      "outputs": [
        {
          "output_type": "execute_result",
          "data": {
            "text/plain": [
              "[1, 4, 9, 16, 25]"
            ]
          },
          "metadata": {},
          "execution_count": 37
        }
      ]
    },
    {
      "cell_type": "code",
      "source": [
        "# print all numbers divisible by 5 in the range of 1 to 50\n",
        "\n",
        "[i for i in range(1,51) if i%5 == 0]"
      ],
      "metadata": {
        "colab": {
          "base_uri": "https://localhost:8080/"
        },
        "id": "y-mAVKInwARu",
        "outputId": "eb17d8db-a6bf-49c5-c995-8de0fcc230a8"
      },
      "execution_count": 38,
      "outputs": [
        {
          "output_type": "execute_result",
          "data": {
            "text/plain": [
              "[5, 10, 15, 20, 25, 30, 35, 40, 45, 50]"
            ]
          },
          "metadata": {},
          "execution_count": 38
        }
      ]
    },
    {
      "cell_type": "code",
      "source": [
        "# find languages with start with letter p\n",
        "languages = ['java','python','php','c','javascript']\n",
        "\n",
        "# [i for i in languages if i.startswith('p')]\n",
        "[language for language in languages if language.startswith('p')]"
      ],
      "metadata": {
        "colab": {
          "base_uri": "https://localhost:8080/"
        },
        "id": "EUCpq1Zqwc3H",
        "outputId": "350eafeb-6f4b-44cd-a68f-f7f9372dd2c7"
      },
      "execution_count": 44,
      "outputs": [
        {
          "output_type": "execute_result",
          "data": {
            "text/plain": [
              "['python', 'php']"
            ]
          },
          "metadata": {},
          "execution_count": 44
        }
      ]
    },
    {
      "cell_type": "code",
      "source": [
        "# Nested if with list comprehension\n",
        "basket = ['apple','guava','cherry','banana']\n",
        "my_fruits = ['apple','kiwi','grapes','banana']\n",
        "\n",
        "# add new list from my_fruits and items if the fruits exists in basket and also startswith 'a'\n",
        "\n",
        "[fruit for fruit in my_fruits if fruit in basket if fruit.startswith('a')]"
      ],
      "metadata": {
        "colab": {
          "base_uri": "https://localhost:8080/"
        },
        "id": "RHjdyAqQxGTH",
        "outputId": "636a25ab-00bd-457d-8884-53a0414077a3"
      },
      "execution_count": 45,
      "outputs": [
        {
          "output_type": "execute_result",
          "data": {
            "text/plain": [
              "['apple']"
            ]
          },
          "metadata": {},
          "execution_count": 45
        }
      ]
    },
    {
      "cell_type": "code",
      "source": [
        "# print a (3,3) matrix using list comprehension -> nested list comprehension\n",
        "\n",
        "[[i*j for i in range(1,4)] for j in range(1,4)]"
      ],
      "metadata": {
        "colab": {
          "base_uri": "https://localhost:8080/"
        },
        "id": "pMo6OZHQy_BL",
        "outputId": "4a106f3d-376e-4557-da72-81bfc8364d9d"
      },
      "execution_count": 46,
      "outputs": [
        {
          "output_type": "execute_result",
          "data": {
            "text/plain": [
              "[[1, 2, 3], [2, 4, 6], [3, 6, 9]]"
            ]
          },
          "metadata": {},
          "execution_count": 46
        }
      ]
    },
    {
      "cell_type": "code",
      "source": [
        "# cartesian products -> list comprehension on 2 lists together\n",
        "L1 = [1,2,3,4]\n",
        "L2 = [5,6,7,8]\n",
        "\n",
        "[i*j for i in L1 for j in L2]"
      ],
      "metadata": {
        "colab": {
          "base_uri": "https://localhost:8080/"
        },
        "id": "-BefikM5zbWW",
        "outputId": "ac91188a-2942-4fe5-e39b-e0046b8afda6"
      },
      "execution_count": 47,
      "outputs": [
        {
          "output_type": "execute_result",
          "data": {
            "text/plain": [
              "[5, 6, 7, 8, 10, 12, 14, 16, 15, 18, 21, 24, 20, 24, 28, 32]"
            ]
          },
          "metadata": {},
          "execution_count": 47
        }
      ]
    },
    {
      "cell_type": "markdown",
      "source": [
        "# 2 Ways to traverse a list\n",
        "\n",
        "*   itemwise\n",
        "*   indexwise\n",
        "\n"
      ],
      "metadata": {
        "id": "Ow6gER8s2jkD"
      }
    },
    {
      "cell_type": "code",
      "source": [
        "# itemwise \n",
        "L = [1,2,3,4]\n",
        "\n",
        "for i in L:\n",
        "  print(i)"
      ],
      "metadata": {
        "colab": {
          "base_uri": "https://localhost:8080/"
        },
        "id": "Uys2JJMk2H5e",
        "outputId": "2e217010-daaa-4c82-93dc-5e73e54b0482"
      },
      "execution_count": 48,
      "outputs": [
        {
          "output_type": "stream",
          "name": "stdout",
          "text": [
            "1\n",
            "2\n",
            "3\n",
            "4\n"
          ]
        }
      ]
    },
    {
      "cell_type": "code",
      "source": [
        "# Indexwise -> output is -> position of index\n",
        "L = [1,2,3,4]\n",
        "\n",
        "for i in range(0,len(L)):\n",
        "  print(i)"
      ],
      "metadata": {
        "colab": {
          "base_uri": "https://localhost:8080/"
        },
        "id": "ukjM_T8z3WiB",
        "outputId": "5e93c24b-5401-4705-dcdb-3377cf867f53"
      },
      "execution_count": 49,
      "outputs": [
        {
          "output_type": "stream",
          "name": "stdout",
          "text": [
            "0\n",
            "1\n",
            "2\n",
            "3\n"
          ]
        }
      ]
    },
    {
      "cell_type": "code",
      "source": [
        "L = [1,2,3,4]\n",
        "\n",
        "for i in range(0,len(L)):\n",
        "  print(L[i])"
      ],
      "metadata": {
        "colab": {
          "base_uri": "https://localhost:8080/"
        },
        "id": "sgQpnOvE3yOR",
        "outputId": "7c905a27-5678-4336-9850-726c046005d8"
      },
      "execution_count": 51,
      "outputs": [
        {
          "output_type": "stream",
          "name": "stdout",
          "text": [
            "1\n",
            "2\n",
            "3\n",
            "4\n"
          ]
        }
      ]
    },
    {
      "cell_type": "markdown",
      "source": [
        "# Zip\n",
        "\n",
        "The zip() function returns a zip object, which is an iterator of tuples where the first item in each passed interior is paired together, and then the second item in each passed iterator are paired together.       \n",
        "if the passed iterator have different lengths, the iterator with the least items decides the length of the new iterator."
      ],
      "metadata": {
        "id": "u3uf_9KW4UCA"
      }
    },
    {
      "cell_type": "code",
      "source": [
        "# write a programm to add items of 2 lists indexwise\n",
        "\n",
        "L1 = [1,2,3,4]\n",
        "L2 = [-1,-2,-3,-4]\n",
        "\n",
        "list(zip(L1,L2))\n",
        "\n",
        "[i + j for i, j in zip(L1,L2)]"
      ],
      "metadata": {
        "colab": {
          "base_uri": "https://localhost:8080/"
        },
        "id": "01WLwF9y4ORo",
        "outputId": "6d1e7944-c928-4430-c2a0-d8e91e76900f"
      },
      "execution_count": 53,
      "outputs": [
        {
          "output_type": "execute_result",
          "data": {
            "text/plain": [
              "[0, 0, 0, 0]"
            ]
          },
          "metadata": {},
          "execution_count": 53
        }
      ]
    },
    {
      "cell_type": "code",
      "source": [
        "L = [1,2,print,type,input]\n",
        "print(L)"
      ],
      "metadata": {
        "colab": {
          "base_uri": "https://localhost:8080/"
        },
        "id": "X5FsmS4I5wX6",
        "outputId": "5a9289a7-73cf-44ec-ded1-8827ab6dbcf0"
      },
      "execution_count": 54,
      "outputs": [
        {
          "output_type": "stream",
          "name": "stdout",
          "text": [
            "[1, 2, <built-in function print>, <class 'type'>, <bound method Kernel.raw_input of <google.colab._kernel.Kernel object at 0x7fe552c8f130>>]\n"
          ]
        }
      ]
    },
    {
      "cell_type": "markdown",
      "source": [
        "###  Disadvantage of python list \n",
        "*   slow\n",
        "*   Risky Usage\n",
        "*   Eats up more memory \n",
        "\n",
        "\n",
        "\n"
      ],
      "metadata": {
        "id": "GVWFpHHf8WMk"
      }
    },
    {
      "cell_type": "code",
      "source": [
        "# risky usage\n",
        "a =[1,2,3]\n",
        "b = a\n",
        "\n",
        "print(a)\n",
        "print(b)\n",
        "\n",
        "a.append(4)\n",
        "print(a)\n",
        "print(b)\n",
        "# Lists are mutable"
      ],
      "metadata": {
        "colab": {
          "base_uri": "https://localhost:8080/"
        },
        "id": "fnIwtTgA6ouU",
        "outputId": "fa531e3c-256f-4f02-c30b-39bdb1cfc611"
      },
      "execution_count": 55,
      "outputs": [
        {
          "output_type": "stream",
          "name": "stdout",
          "text": [
            "[1, 2, 3]\n",
            "[1, 2, 3]\n",
            "[1, 2, 3, 4]\n",
            "[1, 2, 3, 4]\n"
          ]
        }
      ]
    },
    {
      "cell_type": "code",
      "source": [
        "# risky usage\n",
        "a =[1,2,3]\n",
        "b = a.copy()\n",
        "\n",
        "print(a)\n",
        "print(b)\n",
        "\n",
        "a.append(4)\n",
        "print(a)\n",
        "print(b)\n",
        "# Lists are mutable"
      ],
      "metadata": {
        "colab": {
          "base_uri": "https://localhost:8080/"
        },
        "id": "SGuwRFiC9cRL",
        "outputId": "b1fff2b4-3997-4f35-bab7-efc8b85a05af"
      },
      "execution_count": 56,
      "outputs": [
        {
          "output_type": "stream",
          "name": "stdout",
          "text": [
            "[1, 2, 3]\n",
            "[1, 2, 3]\n",
            "[1, 2, 3, 4]\n",
            "[1, 2, 3]\n"
          ]
        }
      ]
    },
    {
      "cell_type": "code",
      "source": [],
      "metadata": {
        "id": "-6UTIb3a91jl"
      },
      "execution_count": null,
      "outputs": []
    }
  ]
}