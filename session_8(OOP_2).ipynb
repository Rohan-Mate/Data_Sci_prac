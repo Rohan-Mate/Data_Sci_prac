{
  "nbformat": 4,
  "nbformat_minor": 0,
  "metadata": {
    "colab": {
      "provenance": []
    },
    "kernelspec": {
      "name": "python3",
      "display_name": "Python 3"
    },
    "language_info": {
      "name": "python"
    }
  },
  "cells": [
    {
      "cell_type": "markdown",
      "source": [
        "Write OOP classes to handle the following scenario:\n",
        "\n",
        "\n",
        "\n",
        "*   A user can create and view 2D coordinates\n",
        "\n",
        "*   A user can find out the distance between 2 coordinates\n",
        "*   A user can find the distance of coordinate from origin\n",
        "\n",
        "\n",
        "*   A user can check if a point lies on a given line \n",
        "\n",
        "\n",
        "*   A user can find the distance between a given 2D point and a given line \n",
        "\n"
      ],
      "metadata": {
        "id": "E_HySR7lqWXK"
      }
    },
    {
      "cell_type": "code",
      "source": [
        "class Point:\n",
        "\n",
        "  def __init__(self,x,y):\n",
        "    self.x_cod = x\n",
        "    self.y_cod = y \n",
        "\n",
        "  def __str__ (self):\n",
        "    return '<{},{}>'.format(self.x_cod,self.y_cod) \n",
        "\n",
        "  def euclidean_distance(self,other):\n",
        "    return ((self.x_cod - other.x_cod)**2 + (self.y_cod - other.y_cod)**2)**0.5"
      ],
      "metadata": {
        "id": "M7Z6KSb8rlHi"
      },
      "execution_count": null,
      "outputs": []
    },
    {
      "cell_type": "code",
      "source": [
        "p1 = Point(0,0)\n",
        "p2 = Point(10,10)\n",
        "# <x,y>\n",
        "p1.euclidean_distance(p2)"
      ],
      "metadata": {
        "colab": {
          "base_uri": "https://localhost:8080/"
        },
        "id": "MQnxzMrZx79f",
        "outputId": "2e92ed86-44a0-4b0f-d752-cd66b46db132"
      },
      "execution_count": null,
      "outputs": [
        {
          "output_type": "execute_result",
          "data": {
            "text/plain": [
              "14.142135623730951"
            ]
          },
          "metadata": {},
          "execution_count": 9
        }
      ]
    },
    {
      "cell_type": "code",
      "source": [
        "class Point:\n",
        "\n",
        "  def __init__(self,x,y):\n",
        "    self.x_cod = x\n",
        "    self.y_cod = y \n",
        "\n",
        "  def __str__ (self):\n",
        "    return '<{},{}>'.format(self.x_cod,self.y_cod) \n",
        "\n",
        "  def euclidean_distance(self,other):\n",
        "    return ((self.x_cod - other.x_cod)**2 + (self.y_cod - other.y_cod)**2)**0.5\n",
        "\n",
        "  def distance_from_origin(self):\n",
        "    return (self.x_cod**2 + self.y_cod**2)**0.5\n",
        "    # return self.euclidean_distance(Point(0,0))  "
      ],
      "metadata": {
        "id": "qa012ro8x9_k"
      },
      "execution_count": null,
      "outputs": []
    },
    {
      "cell_type": "code",
      "source": [
        "p1= Point(5,5)\n",
        "p1.distance_from_origin()"
      ],
      "metadata": {
        "colab": {
          "base_uri": "https://localhost:8080/"
        },
        "id": "pC6CwpZj00Z5",
        "outputId": "64bd8263-f8ec-4c05-9501-ed3b90af948c"
      },
      "execution_count": null,
      "outputs": [
        {
          "output_type": "execute_result",
          "data": {
            "text/plain": [
              "7.0710678118654755"
            ]
          },
          "metadata": {},
          "execution_count": 15
        }
      ]
    },
    {
      "cell_type": "code",
      "source": [
        "class Line:\n",
        "\n",
        "  def __init__(self,A,B,C):\n",
        "    self.A = A \n",
        "    self.B = B \n",
        "    self.C = C \n",
        "\n",
        "  def __str__ (self):\n",
        "    return '{}x + {}y + {} = 0'.format(self.A,self.B,self.C)    "
      ],
      "metadata": {
        "id": "fAW-hVa71da2"
      },
      "execution_count": null,
      "outputs": []
    },
    {
      "cell_type": "code",
      "source": [
        "l1 = Line(3,4,5)\n",
        "print(l1)"
      ],
      "metadata": {
        "colab": {
          "base_uri": "https://localhost:8080/"
        },
        "id": "oOT1gJop2-QH",
        "outputId": "996f6cfd-7abf-4696-a710-d880c7821b83"
      },
      "execution_count": null,
      "outputs": [
        {
          "output_type": "stream",
          "name": "stdout",
          "text": [
            "3x + 4y + 5 = 0\n"
          ]
        }
      ]
    },
    {
      "cell_type": "code",
      "source": [
        "class Line:\n",
        "\n",
        "  def __init__(self,A,B,C):\n",
        "    self.A = A \n",
        "    self.B = B \n",
        "    self.C = C \n",
        "\n",
        "  def __str__ (self):\n",
        "    return '{}x + {}y + {} = 0'.format(self.A,self.B,self.C)    \n",
        "\n",
        "  def point_on_line (line,point):\n",
        "    if line.A*point.x_cod + line.B*point.y_cod + line.C == 0:\n",
        "      return \"lies on the line\" \n",
        "    else:\n",
        "      return \"does not lie on the line\"     "
      ],
      "metadata": {
        "id": "XC9FT3iK3HEA"
      },
      "execution_count": null,
      "outputs": []
    },
    {
      "cell_type": "code",
      "source": [
        "l1 =Line(1,1,-2)\n",
        "p1 = Point(1,1)\n",
        "print(l1)\n",
        "print(p1)\n",
        "l1.point_on_line(p1)"
      ],
      "metadata": {
        "colab": {
          "base_uri": "https://localhost:8080/",
          "height": 70
        },
        "id": "4xZUQXBa4h-s",
        "outputId": "0ef3bfd3-9857-46b7-8997-cf416adcc362"
      },
      "execution_count": null,
      "outputs": [
        {
          "output_type": "stream",
          "name": "stdout",
          "text": [
            "1x + 1y + -2 = 0\n",
            "<1,1>\n"
          ]
        },
        {
          "output_type": "execute_result",
          "data": {
            "text/plain": [
              "'lies on the line'"
            ],
            "application/vnd.google.colaboratory.intrinsic+json": {
              "type": "string"
            }
          },
          "metadata": {},
          "execution_count": 24
        }
      ]
    },
    {
      "cell_type": "code",
      "source": [
        "l1 =Line(2,1,-2)\n",
        "p1 = Point(1,1)\n",
        "print(l1)\n",
        "print(p1)\n",
        "l1.point_on_line(p1)"
      ],
      "metadata": {
        "colab": {
          "base_uri": "https://localhost:8080/",
          "height": 70
        },
        "id": "oyvIIlxA44n9",
        "outputId": "fb6976ce-b3e8-4e53-c648-992ceb4de1ec"
      },
      "execution_count": null,
      "outputs": [
        {
          "output_type": "stream",
          "name": "stdout",
          "text": [
            "2x + 1y + -2 = 0\n",
            "<1,1>\n"
          ]
        },
        {
          "output_type": "execute_result",
          "data": {
            "text/plain": [
              "'does not lie on the line'"
            ],
            "application/vnd.google.colaboratory.intrinsic+json": {
              "type": "string"
            }
          },
          "metadata": {},
          "execution_count": 25
        }
      ]
    },
    {
      "cell_type": "code",
      "source": [
        "class Line:\n",
        "\n",
        "  def __init__(self,A,B,C):\n",
        "    self.A = A \n",
        "    self.B = B \n",
        "    self.C = C \n",
        "\n",
        "  def __str__ (self):\n",
        "    return '{}x + {}y + {} = 0'.format(self.A,self.B,self.C)    \n",
        "\n",
        "  def point_on_line (line,point):\n",
        "    if line.A*point.x_cod + line.B*point.y_cod + line.C == 0:\n",
        "      return \"lies on the line\" \n",
        "    else:\n",
        "      return \"does not lie on the line\"     \n",
        "\n",
        "  def shortest_distance(line,point):\n",
        "    return abs(line.A * point.x_cod + line.B*point.y_cod + line.C)/(line.A**2 + line.B**2)      "
      ],
      "metadata": {
        "id": "vUXGyBlH5BXh"
      },
      "execution_count": null,
      "outputs": []
    },
    {
      "cell_type": "code",
      "source": [
        "l1 =Line(1,1,-2)\n",
        "p1 = Point(1,1)\n",
        "print(l1)\n",
        "print(p1)\n",
        "\n",
        "l1.shortest_distance(p1)"
      ],
      "metadata": {
        "colab": {
          "base_uri": "https://localhost:8080/"
        },
        "id": "SOueKa4T7-Wz",
        "outputId": "91a246dc-ed2b-4019-a331-a00924c9c803"
      },
      "execution_count": null,
      "outputs": [
        {
          "output_type": "stream",
          "name": "stdout",
          "text": [
            "1x + 1y + -2 = 0\n",
            "<1,1>\n"
          ]
        },
        {
          "output_type": "execute_result",
          "data": {
            "text/plain": [
              "0.0"
            ]
          },
          "metadata": {},
          "execution_count": 33
        }
      ]
    },
    {
      "cell_type": "code",
      "source": [
        "l1 =Line(1,1,-2)\n",
        "p1 = Point(5,1)\n",
        "print(l1)\n",
        "print(p1)\n",
        "\n",
        "l1.shortest_distance(p1)"
      ],
      "metadata": {
        "colab": {
          "base_uri": "https://localhost:8080/"
        },
        "id": "63OkkhyC8Ksd",
        "outputId": "30d104fe-01d2-4d2b-ae8b-f96f25958b41"
      },
      "execution_count": null,
      "outputs": [
        {
          "output_type": "stream",
          "name": "stdout",
          "text": [
            "1x + 1y + -2 = 0\n",
            "<5,1>\n"
          ]
        },
        {
          "output_type": "execute_result",
          "data": {
            "text/plain": [
              "2.0"
            ]
          },
          "metadata": {},
          "execution_count": 34
        }
      ]
    },
    {
      "cell_type": "markdown",
      "source": [
        "How objects access attributes "
      ],
      "metadata": {
        "id": "k7uC0CcE9oc0"
      }
    },
    {
      "cell_type": "code",
      "source": [
        "class Person:\n",
        "  \n",
        "  def __init__ (self,name_input,country_input):\n",
        "    self.name = name_input\n",
        "    self.country = country_input\n",
        "\n",
        "  def greet(self):\n",
        "    if self.country == 'India':\n",
        "      print('Namaste',self.name) \n",
        "    else:\n",
        "      print('Hello',self.name)   "
      ],
      "metadata": {
        "id": "A_G44rbr8P9d"
      },
      "execution_count": null,
      "outputs": []
    },
    {
      "cell_type": "code",
      "source": [
        "# How to access attribute \n",
        "p = Person('Nitish','India')"
      ],
      "metadata": {
        "id": "FNG5sXZj-h95"
      },
      "execution_count": null,
      "outputs": []
    },
    {
      "cell_type": "code",
      "source": [
        "p.greet()"
      ],
      "metadata": {
        "colab": {
          "base_uri": "https://localhost:8080/"
        },
        "id": "mRP_LP-N_CzE",
        "outputId": "e671f469-f78f-47ec-b84b-1e3974fcb5a7"
      },
      "execution_count": null,
      "outputs": [
        {
          "output_type": "stream",
          "name": "stdout",
          "text": [
            "Namaste Nitish\n"
          ]
        }
      ]
    },
    {
      "cell_type": "code",
      "source": [
        "# What if i try to access non existent attributes \n",
        "p.gender"
      ],
      "metadata": {
        "colab": {
          "base_uri": "https://localhost:8080/",
          "height": 183
        },
        "id": "d4voh09g_FgV",
        "outputId": "a5e150cb-e09e-4f7f-d5af-653f850dd898"
      },
      "execution_count": null,
      "outputs": [
        {
          "output_type": "error",
          "ename": "AttributeError",
          "evalue": "ignored",
          "traceback": [
            "\u001b[0;31m---------------------------------------------------------------------------\u001b[0m",
            "\u001b[0;31mAttributeError\u001b[0m                            Traceback (most recent call last)",
            "\u001b[0;32m<ipython-input-39-c03838bb7d6b>\u001b[0m in \u001b[0;36m<cell line: 2>\u001b[0;34m()\u001b[0m\n\u001b[1;32m      1\u001b[0m \u001b[0;31m# What if i try to access non existent attributes\u001b[0m\u001b[0;34m\u001b[0m\u001b[0;34m\u001b[0m\u001b[0m\n\u001b[0;32m----> 2\u001b[0;31m \u001b[0mp\u001b[0m\u001b[0;34m.\u001b[0m\u001b[0mgender\u001b[0m\u001b[0;34m\u001b[0m\u001b[0;34m\u001b[0m\u001b[0m\n\u001b[0m",
            "\u001b[0;31mAttributeError\u001b[0m: 'Person' object has no attribute 'gender'"
          ]
        }
      ]
    },
    {
      "cell_type": "markdown",
      "source": [
        "Attribute creation from outside of the class"
      ],
      "metadata": {
        "id": "UzQNmM0E_g1R"
      }
    },
    {
      "cell_type": "code",
      "source": [
        "p.gender = 'male'"
      ],
      "metadata": {
        "id": "iXf-vgwT_fl6"
      },
      "execution_count": null,
      "outputs": []
    },
    {
      "cell_type": "code",
      "source": [
        "p.gender"
      ],
      "metadata": {
        "colab": {
          "base_uri": "https://localhost:8080/",
          "height": 35
        },
        "id": "eJtqt497_o1M",
        "outputId": "88dc909d-f85c-4701-9930-0b1e486ed1d9"
      },
      "execution_count": null,
      "outputs": [
        {
          "output_type": "execute_result",
          "data": {
            "text/plain": [
              "'male'"
            ],
            "application/vnd.google.colaboratory.intrinsic+json": {
              "type": "string"
            }
          },
          "metadata": {},
          "execution_count": 41
        }
      ]
    },
    {
      "cell_type": "code",
      "source": [
        "# using object -> hum class ke bahar se bhi attribute bana sakte hain with the help of object "
      ],
      "metadata": {
        "id": "13xNVHjx_unz"
      },
      "execution_count": null,
      "outputs": []
    },
    {
      "cell_type": "code",
      "source": [],
      "metadata": {
        "id": "wY4r1VCx_7CT"
      },
      "execution_count": null,
      "outputs": []
    },
    {
      "cell_type": "markdown",
      "source": [
        "Refrence Variable\n",
        "\n",
        "*   Refrence variables hold the objects \n",
        "*   We can create objects without refrence variable as well \n",
        "*   An object can have multiple refrence variable\n",
        "*   Assigning a new refrence variable to an existing object does not create a new object \n",
        "\n"
      ],
      "metadata": {
        "id": "tFmPG1oD_8gM"
      }
    },
    {
      "cell_type": "code",
      "source": [
        "# object without a refrence\n",
        "\n",
        "class Person:\n",
        "\n",
        "  def __init__ (self):\n",
        "    self.name = 'nitish'\n",
        "    self.gender = 'male'\n",
        "\n",
        "Person()    "
      ],
      "metadata": {
        "colab": {
          "base_uri": "https://localhost:8080/"
        },
        "id": "lrk8Dm22AkAd",
        "outputId": "c951115a-6402-4179-dba0-a1f54f3ba05a"
      },
      "execution_count": null,
      "outputs": [
        {
          "output_type": "execute_result",
          "data": {
            "text/plain": [
              "<__main__.Person at 0x7f0dcadc6770>"
            ]
          },
          "metadata": {},
          "execution_count": 43
        }
      ]
    },
    {
      "cell_type": "code",
      "source": [
        "p = Person()     # refrence variable "
      ],
      "metadata": {
        "id": "OlNIS4SSBMAl"
      },
      "execution_count": null,
      "outputs": []
    },
    {
      "cell_type": "code",
      "source": [
        "# Multiple refrence \n",
        "q = p \n",
        "\n",
        "print(id(p))\n",
        "print(id(q))"
      ],
      "metadata": {
        "colab": {
          "base_uri": "https://localhost:8080/"
        },
        "id": "x9Ubebv9BbSs",
        "outputId": "e7e91d03-676c-4e7b-de98-8aa6420d44b7"
      },
      "execution_count": null,
      "outputs": [
        {
          "output_type": "stream",
          "name": "stdout",
          "text": [
            "139697214738000\n",
            "139697214738000\n"
          ]
        }
      ]
    },
    {
      "cell_type": "code",
      "source": [
        "# change attribute value with the help of 2nd object "
      ],
      "metadata": {
        "id": "R5x9jXCeBk3C"
      },
      "execution_count": null,
      "outputs": []
    },
    {
      "cell_type": "code",
      "source": [
        "print(p.name)\n",
        "print(q.name)"
      ],
      "metadata": {
        "colab": {
          "base_uri": "https://localhost:8080/"
        },
        "id": "LSAANgHuDNXf",
        "outputId": "f17d50c2-24ef-47e3-b56d-b0f0bdebf33a"
      },
      "execution_count": null,
      "outputs": [
        {
          "output_type": "stream",
          "name": "stdout",
          "text": [
            "nitish\n",
            "nitish\n"
          ]
        }
      ]
    },
    {
      "cell_type": "code",
      "source": [
        "q.name = 'Ankit'\n",
        "print(p.name)\n",
        "print(q.name)"
      ],
      "metadata": {
        "colab": {
          "base_uri": "https://localhost:8080/"
        },
        "id": "T36ekwV4DVJX",
        "outputId": "16ed3b69-a06e-4bad-d0e9-15ae20d23a89"
      },
      "execution_count": null,
      "outputs": [
        {
          "output_type": "stream",
          "name": "stdout",
          "text": [
            "Ankit\n",
            "Ankit\n"
          ]
        }
      ]
    },
    {
      "cell_type": "markdown",
      "source": [
        "Pass by refrence "
      ],
      "metadata": {
        "id": "D5ZqXknkEUyL"
      }
    },
    {
      "cell_type": "code",
      "source": [
        "class Person:\n",
        "\n",
        "  def __init__(self,name,gender):\n",
        "    self.name = name \n",
        "    self.gender = gender\n",
        "\n",
        "# outside the class hence it is -> function\n",
        "def greet(person):\n",
        "  print('Hi my name is',person.name,'and i an a',person.gender)\n",
        "  p1 = Person('Ankita','Female')\n",
        "  return p1\n",
        "\n",
        "p = Person('nitish','male')\n",
        "x = greet(p)\n",
        "print(x.name)\n",
        "print(x.gender)"
      ],
      "metadata": {
        "colab": {
          "base_uri": "https://localhost:8080/"
        },
        "id": "5BcaTEY8DfwE",
        "outputId": "509419ec-ba30-41cb-fd13-5d59a487659a"
      },
      "execution_count": null,
      "outputs": [
        {
          "output_type": "stream",
          "name": "stdout",
          "text": [
            "Hi my name is nitish and i an a male\n",
            "Ankita\n",
            "Female\n"
          ]
        }
      ]
    },
    {
      "cell_type": "markdown",
      "source": [
        "Object Mutability              \n",
        "       \n",
        "oops mein jo user define class hote hain wo mutable hote hain      "
      ],
      "metadata": {
        "id": "lmTfFYRIVqv_"
      }
    },
    {
      "cell_type": "code",
      "source": [
        "class Person:\n",
        "\n",
        "  def __init__(self,name,gender):\n",
        "    self.name = name \n",
        "    self.gender = gender\n",
        "\n",
        "# outside the class hence it is -> function\n",
        "def greet(person):\n",
        "  person.name = 'ankit'\n",
        "  return person\n",
        "\n",
        "\n",
        "p = Person('nitish','male')\n",
        "print(id(p))\n",
        "p1 = greet(p)\n",
        "print(id(p))"
      ],
      "metadata": {
        "id": "PTx9vM8tFCOE",
        "colab": {
          "base_uri": "https://localhost:8080/"
        },
        "outputId": "d6bc162c-41d6-47a7-dd22-573badd73c3a"
      },
      "execution_count": null,
      "outputs": [
        {
          "output_type": "stream",
          "name": "stdout",
          "text": [
            "140134494728688\n",
            "140134494728688\n"
          ]
        }
      ]
    },
    {
      "cell_type": "markdown",
      "source": [
        "Encapsulation"
      ],
      "metadata": {
        "id": "mWaDFdUwXrYm"
      }
    },
    {
      "cell_type": "code",
      "source": [
        "# instance var -> python tutor ->  If the value of a variable varies from object to object\n",
        "\n",
        "class Person:\n",
        "\n",
        "  def __init__(self,name_input,country_input):\n",
        "    self.name = name_input \n",
        "    self.country = country_input \n",
        "\n",
        "p1 = Person('Nitish','India')\n",
        "p2 = Person('Steve','Australia')"
      ],
      "metadata": {
        "id": "NEWohfcpW_GC"
      },
      "execution_count": null,
      "outputs": []
    },
    {
      "cell_type": "code",
      "source": [
        "p1.name\n",
        "# ek hi object ke 2 value hain"
      ],
      "metadata": {
        "colab": {
          "base_uri": "https://localhost:8080/",
          "height": 35
        },
        "id": "iE10DbVqYTC2",
        "outputId": "74b3d1c4-ba0f-4782-a2ec-817b99b30d2e"
      },
      "execution_count": null,
      "outputs": [
        {
          "output_type": "execute_result",
          "data": {
            "text/plain": [
              "'Nitish'"
            ],
            "application/vnd.google.colaboratory.intrinsic+json": {
              "type": "string"
            }
          },
          "metadata": {},
          "execution_count": 6
        }
      ]
    },
    {
      "cell_type": "code",
      "source": [
        "p2.name"
      ],
      "metadata": {
        "colab": {
          "base_uri": "https://localhost:8080/",
          "height": 35
        },
        "id": "H4wfs6LsZvv5",
        "outputId": "37284cad-e0c0-4b70-b89d-3e8bd33520f7"
      },
      "execution_count": null,
      "outputs": [
        {
          "output_type": "execute_result",
          "data": {
            "text/plain": [
              "'Steve'"
            ],
            "application/vnd.google.colaboratory.intrinsic+json": {
              "type": "string"
            }
          },
          "metadata": {},
          "execution_count": 7
        }
      ]
    },
    {
      "cell_type": "code",
      "source": [
        "class Atm:\n",
        "\n",
        "  # constructor (special function)-> superpower->  A constructor is a unique function that gets called automatically when an object is created of a class. \n",
        "  def __init__(self):\n",
        "    self.pin = ''\n",
        "    self.balance = 0\n",
        "    \n",
        "\n",
        "  def menu(self):\n",
        "    user_input = input(\"\"\"\n",
        "    Hi, how can  I help you ? \n",
        "    1. Press 1 to create pin       \n",
        "    2. Press 2 to change pin     \n",
        "    3. Press 3 to check balance\n",
        "    4. Press 4 to withdraw\n",
        "    5. Anything else to exit \n",
        "    \"\"\")  \n",
        "\n",
        "    if user_input == '1':\n",
        "      # create pin\n",
        "      self.create_pin()\n",
        "    elif user_input == '2':\n",
        "      # change pin\n",
        "      self.change_pin() \n",
        "    elif user_input == '3':\n",
        "      # check balance\n",
        "      self.check_balance()\n",
        "    elif user_input == '4':\n",
        "      # withdraw\n",
        "      self.withdrawl()\n",
        "    else:\n",
        "      exit()     \n",
        "\n",
        "  def create_pin(self):\n",
        "    user_pin = input('enter your pin')    \n",
        "    self.pin = user_pin\n",
        "\n",
        "    user_balance = int(input('enter balance'))\n",
        "    self.balance = user_balance\n",
        "    print('pin create successfully')\n",
        "    \n",
        "\n",
        "  def change_pin(self):\n",
        "    old_pin = input('enter old pin')\n",
        "\n",
        "    if old_pin == self.pin:\n",
        "      # let him change the pin \n",
        "      new_pin = input('Enter new pin ')\n",
        "      self.pin = new_pin\n",
        "      print('pin chane successfully')\n",
        "      \n",
        "    else:\n",
        "      print('nai karne de sakta re baba') \n",
        "       \n",
        "\n",
        "  def check_balance(self):\n",
        "    user_pin = input('enter your pin')\n",
        "    if user_pin == self.pin:\n",
        "      print('Your balance is',self.balance)\n",
        "    else:\n",
        "      print('chal nika yahaan se')  \n",
        "      \n",
        "\n",
        "  def withdrawl(self):\n",
        "    user_pin = input('enter the pin')      \n",
        "    if user_pin == self.pin:\n",
        "      amount = int(input('Enter the Amount'))\n",
        "\n",
        "      if amount <= self.balance:\n",
        "        self.balance = self.balance - amount\n",
        "        print('withdrawl successfull balance is',self.balance)\n",
        "  \n",
        "      else:\n",
        "        print('abbe garib')\n",
        "\n",
        "    else:\n",
        "      print('sale chor')\n",
        " \n"
      ],
      "metadata": {
        "id": "Hsw263VjZxF0"
      },
      "execution_count": null,
      "outputs": []
    },
    {
      "cell_type": "code",
      "source": [
        "obj = Atm()"
      ],
      "metadata": {
        "id": "LP1MyFaNakDS"
      },
      "execution_count": null,
      "outputs": []
    },
    {
      "cell_type": "code",
      "source": [
        "obj.create_pin()\n",
        "\n",
        "obj.balance = 'hehehe'"
      ],
      "metadata": {
        "colab": {
          "base_uri": "https://localhost:8080/"
        },
        "id": "2IBl58aKanhS",
        "outputId": "2616a69e-ffe0-4988-b168-de6ac26cad9a"
      },
      "execution_count": null,
      "outputs": [
        {
          "output_type": "stream",
          "name": "stdout",
          "text": [
            "enter your pin1234\n",
            "enter balance10000\n",
            "pin create successfully\n"
          ]
        }
      ]
    },
    {
      "cell_type": "code",
      "source": [
        "obj.withdrawl()\n",
        "# code crash ho gaya -> reason is balance is integer & in above column we give string to balance object \n",
        "# In ATM code -> withdraw amount -> integer value is not substracted from string "
      ],
      "metadata": {
        "colab": {
          "base_uri": "https://localhost:8080/",
          "height": 356
        },
        "id": "gV42dFePa1rq",
        "outputId": "f485054c-8c2f-4b2e-ac42-310b9ae2edae"
      },
      "execution_count": null,
      "outputs": [
        {
          "name": "stdout",
          "output_type": "stream",
          "text": [
            "enter the pin1234\n",
            "Enter the Amount5000\n"
          ]
        },
        {
          "output_type": "error",
          "ename": "TypeError",
          "evalue": "ignored",
          "traceback": [
            "\u001b[0;31m---------------------------------------------------------------------------\u001b[0m",
            "\u001b[0;31mTypeError\u001b[0m                                 Traceback (most recent call last)",
            "\u001b[0;32m<ipython-input-21-e99c7a020e9c>\u001b[0m in \u001b[0;36m<cell line: 1>\u001b[0;34m()\u001b[0m\n\u001b[0;32m----> 1\u001b[0;31m \u001b[0mobj\u001b[0m\u001b[0;34m.\u001b[0m\u001b[0mwithdrawl\u001b[0m\u001b[0;34m(\u001b[0m\u001b[0;34m)\u001b[0m\u001b[0;34m\u001b[0m\u001b[0;34m\u001b[0m\u001b[0m\n\u001b[0m\u001b[1;32m      2\u001b[0m \u001b[0;31m# code crash ho gaya -> reason is balance is integer & in above column we give string to balance object\u001b[0m\u001b[0;34m\u001b[0m\u001b[0;34m\u001b[0m\u001b[0m\n\u001b[1;32m      3\u001b[0m \u001b[0;31m# In ATM code -> withdraw amount -> integer value is not substracted from string\u001b[0m\u001b[0;34m\u001b[0m\u001b[0;34m\u001b[0m\u001b[0m\n",
            "\u001b[0;32m<ipython-input-14-1508b4c8ecf4>\u001b[0m in \u001b[0;36mwithdrawl\u001b[0;34m(self)\u001b[0m\n\u001b[1;32m     67\u001b[0m       \u001b[0mamount\u001b[0m \u001b[0;34m=\u001b[0m \u001b[0mint\u001b[0m\u001b[0;34m(\u001b[0m\u001b[0minput\u001b[0m\u001b[0;34m(\u001b[0m\u001b[0;34m'Enter the Amount'\u001b[0m\u001b[0;34m)\u001b[0m\u001b[0;34m)\u001b[0m\u001b[0;34m\u001b[0m\u001b[0;34m\u001b[0m\u001b[0m\n\u001b[1;32m     68\u001b[0m \u001b[0;34m\u001b[0m\u001b[0m\n\u001b[0;32m---> 69\u001b[0;31m       \u001b[0;32mif\u001b[0m \u001b[0mamount\u001b[0m \u001b[0;34m<=\u001b[0m \u001b[0mself\u001b[0m\u001b[0;34m.\u001b[0m\u001b[0mbalance\u001b[0m\u001b[0;34m:\u001b[0m\u001b[0;34m\u001b[0m\u001b[0;34m\u001b[0m\u001b[0m\n\u001b[0m\u001b[1;32m     70\u001b[0m         \u001b[0mself\u001b[0m\u001b[0;34m.\u001b[0m\u001b[0mbalance\u001b[0m \u001b[0;34m=\u001b[0m \u001b[0mself\u001b[0m\u001b[0;34m.\u001b[0m\u001b[0mbalance\u001b[0m \u001b[0;34m-\u001b[0m \u001b[0mamount\u001b[0m\u001b[0;34m\u001b[0m\u001b[0;34m\u001b[0m\u001b[0m\n\u001b[1;32m     71\u001b[0m         \u001b[0mprint\u001b[0m\u001b[0;34m(\u001b[0m\u001b[0;34m'withdrawl successfull balance is'\u001b[0m\u001b[0;34m,\u001b[0m\u001b[0mself\u001b[0m\u001b[0;34m.\u001b[0m\u001b[0mbalance\u001b[0m\u001b[0;34m)\u001b[0m\u001b[0;34m\u001b[0m\u001b[0;34m\u001b[0m\u001b[0m\n",
            "\u001b[0;31mTypeError\u001b[0m: '<=' not supported between instances of 'int' and 'str'"
          ]
        }
      ]
    },
    {
      "cell_type": "code",
      "source": [
        "# ek third person hamare code ke object ko access krr raha hain or usme changes krr raha hain to iss wajah se hamara code crack ho raha hain \n",
        "# iss problem ko solve karne ke liye hame hamare sare object ko private karna padega \n",
        "# python mein private keyword nahi hota hain \n",
        "# in python, private karne ke liye hum variable ke aage double underscore lagate hain "
      ],
      "metadata": {
        "id": "FgWM97qBbYZZ"
      },
      "execution_count": null,
      "outputs": []
    },
    {
      "cell_type": "code",
      "source": [
        "class Atm:\n",
        "\n",
        "  # constructor (special function)-> superpower->  A constructor is a unique function that gets called automatically when an object is created of a class. \n",
        "  def __init__(self):\n",
        "    self.pin = ''\n",
        "    self.__balance = 0\n",
        "    \n",
        "\n",
        "  def __menu(self):\n",
        "    user_input = input(\"\"\"\n",
        "    Hi, how can  I help you ? \n",
        "    1. Press 1 to create pin       \n",
        "    2. Press 2 to change pin     \n",
        "    3. Press 3 to check balance\n",
        "    4. Press 4 to withdraw\n",
        "    5. Anything else to exit \n",
        "    \"\"\")  \n",
        "\n",
        "    if user_input == '1':\n",
        "      # create pin\n",
        "      self.create_pin()\n",
        "    elif user_input == '2':\n",
        "      # change pin\n",
        "      self.change_pin() \n",
        "    elif user_input == '3':\n",
        "      # check balance\n",
        "      self.check_balance()\n",
        "    elif user_input == '4':\n",
        "      # withdraw\n",
        "      self.withdrawl()\n",
        "    else:\n",
        "      exit()     \n",
        "\n",
        "  def create_pin(self):\n",
        "    user_pin = input('enter your pin')    \n",
        "    self.pin = user_pin\n",
        "\n",
        "    user_balance = int(input('enter balance'))\n",
        "    self.__balance = user_balance\n",
        "    print('pin create successfully')\n",
        "    \n",
        "\n",
        "  def change_pin(self):\n",
        "    old_pin = input('enter old pin')\n",
        "\n",
        "    if old_pin == self.pin:\n",
        "      # let him change the pin \n",
        "      new_pin = input('Enter new pin ')\n",
        "      self.pin = new_pin\n",
        "      print('pin chane successfully')\n",
        "      \n",
        "    else:\n",
        "      print('nai karne de sakta re baba') \n",
        "       \n",
        "\n",
        "  def check_balance(self):\n",
        "    user_pin = input('enter your pin')\n",
        "    if user_pin == self.pin:\n",
        "      print('Your balance is',self.balance)\n",
        "    else:\n",
        "      print('chal nika yahaan se')  \n",
        "      \n",
        "\n",
        "  def withdrawl(self):\n",
        "    user_pin = input('enter the pin')      \n",
        "    if user_pin == self.pin:\n",
        "      amount = int(input('Enter the Amount'))\n",
        "\n",
        "      if amount <= self.__balance:\n",
        "        self.__balance = self.__balance - amount\n",
        "        print('withdrawl successfull balance is',self.__balance)\n",
        "  \n",
        "      else:\n",
        "        print('abbe garib')\n",
        "\n",
        "    else:\n",
        "      print('sale chor')\n",
        " \n"
      ],
      "metadata": {
        "id": "yfh1Y3kxdFmg"
      },
      "execution_count": null,
      "outputs": []
    },
    {
      "cell_type": "code",
      "source": [
        "obj = Atm()"
      ],
      "metadata": {
        "id": "6qb_44l7dcar"
      },
      "execution_count": null,
      "outputs": []
    },
    {
      "cell_type": "code",
      "source": [
        "obj.create_pin()\n",
        "obj.__balance = 'hehehe'"
      ],
      "metadata": {
        "colab": {
          "base_uri": "https://localhost:8080/"
        },
        "id": "vT4mlQL_dgCy",
        "outputId": "dbe5d860-5fa1-4ff2-d70c-4c7ac47f42cb"
      },
      "execution_count": null,
      "outputs": [
        {
          "output_type": "stream",
          "name": "stdout",
          "text": [
            "enter your pin1234\n",
            "enter balance5000\n",
            "pin create successfully\n"
          ]
        }
      ]
    },
    {
      "cell_type": "code",
      "source": [
        "obj.withdrawl()"
      ],
      "metadata": {
        "colab": {
          "base_uri": "https://localhost:8080/"
        },
        "id": "HsazleM-dp2R",
        "outputId": "3b01f421-cc66-4ca6-ede2-d633f78b9196"
      },
      "execution_count": null,
      "outputs": [
        {
          "output_type": "stream",
          "name": "stdout",
          "text": [
            "enter the pin1234\n",
            "Enter the Amount5000\n",
            "withdrawl successfull balance is 0\n"
          ]
        }
      ]
    },
    {
      "cell_type": "code",
      "source": [
        "obj.create_pin()\n",
        "obj._Atm__balance = 'hehehe'"
      ],
      "metadata": {
        "colab": {
          "base_uri": "https://localhost:8080/"
        },
        "id": "ko-yoCNYdvY3",
        "outputId": "55245b3c-e16a-433e-aeee-253b8936016e"
      },
      "execution_count": null,
      "outputs": [
        {
          "output_type": "stream",
          "name": "stdout",
          "text": [
            "enter your pin123\n",
            "enter balance5000\n",
            "pin create successfully\n"
          ]
        }
      ]
    },
    {
      "cell_type": "code",
      "source": [
        "obj.withdrawl()"
      ],
      "metadata": {
        "colab": {
          "base_uri": "https://localhost:8080/",
          "height": 321
        },
        "id": "SPVdHptjfSdL",
        "outputId": "a9596e27-38bc-4a69-cdd1-0668abd0c824"
      },
      "execution_count": null,
      "outputs": [
        {
          "name": "stdout",
          "output_type": "stream",
          "text": [
            "enter the pin123\n",
            "Enter the Amount5000\n"
          ]
        },
        {
          "output_type": "error",
          "ename": "TypeError",
          "evalue": "ignored",
          "traceback": [
            "\u001b[0;31m---------------------------------------------------------------------------\u001b[0m",
            "\u001b[0;31mTypeError\u001b[0m                                 Traceback (most recent call last)",
            "\u001b[0;32m<ipython-input-32-7f5542e6a227>\u001b[0m in \u001b[0;36m<cell line: 1>\u001b[0;34m()\u001b[0m\n\u001b[0;32m----> 1\u001b[0;31m \u001b[0mobj\u001b[0m\u001b[0;34m.\u001b[0m\u001b[0mwithdrawl\u001b[0m\u001b[0;34m(\u001b[0m\u001b[0;34m)\u001b[0m\u001b[0;34m\u001b[0m\u001b[0;34m\u001b[0m\u001b[0m\n\u001b[0m",
            "\u001b[0;32m<ipython-input-27-27ba44560410>\u001b[0m in \u001b[0;36mwithdrawl\u001b[0;34m(self)\u001b[0m\n\u001b[1;32m     67\u001b[0m       \u001b[0mamount\u001b[0m \u001b[0;34m=\u001b[0m \u001b[0mint\u001b[0m\u001b[0;34m(\u001b[0m\u001b[0minput\u001b[0m\u001b[0;34m(\u001b[0m\u001b[0;34m'Enter the Amount'\u001b[0m\u001b[0;34m)\u001b[0m\u001b[0;34m)\u001b[0m\u001b[0;34m\u001b[0m\u001b[0;34m\u001b[0m\u001b[0m\n\u001b[1;32m     68\u001b[0m \u001b[0;34m\u001b[0m\u001b[0m\n\u001b[0;32m---> 69\u001b[0;31m       \u001b[0;32mif\u001b[0m \u001b[0mamount\u001b[0m \u001b[0;34m<=\u001b[0m \u001b[0mself\u001b[0m\u001b[0;34m.\u001b[0m\u001b[0m__balance\u001b[0m\u001b[0;34m:\u001b[0m\u001b[0;34m\u001b[0m\u001b[0;34m\u001b[0m\u001b[0m\n\u001b[0m\u001b[1;32m     70\u001b[0m         \u001b[0mself\u001b[0m\u001b[0;34m.\u001b[0m\u001b[0m__balance\u001b[0m \u001b[0;34m=\u001b[0m \u001b[0mself\u001b[0m\u001b[0;34m.\u001b[0m\u001b[0m__balance\u001b[0m \u001b[0;34m-\u001b[0m \u001b[0mamount\u001b[0m\u001b[0;34m\u001b[0m\u001b[0;34m\u001b[0m\u001b[0m\n\u001b[1;32m     71\u001b[0m         \u001b[0mprint\u001b[0m\u001b[0;34m(\u001b[0m\u001b[0;34m'withdrawl successfull balance is'\u001b[0m\u001b[0;34m,\u001b[0m\u001b[0mself\u001b[0m\u001b[0;34m.\u001b[0m\u001b[0m__balance\u001b[0m\u001b[0;34m)\u001b[0m\u001b[0;34m\u001b[0m\u001b[0;34m\u001b[0m\u001b[0m\n",
            "\u001b[0;31mTypeError\u001b[0m: '<=' not supported between instances of 'int' and 'str'"
          ]
        }
      ]
    },
    {
      "cell_type": "markdown",
      "source": [
        "Agar aap jab bhi kissi variable ko private krr rahe ho, iska matlab iska value class ke bahar availabel nahi hain prr class ke andar availabel hain.iska matlab hamare class ke baki ke method uss private variable ko access krr sakte hain.ki hum method hi bana de ki uski help se apke value bahar dikhai de       \n",
        " \n",
        " ussi se hi concept aaya -> getter,setter"
      ],
      "metadata": {
        "id": "-B6aHnTSg-cz"
      }
    },
    {
      "cell_type": "code",
      "source": [
        "# getter -> private ka value bahar dika na \n",
        "# setter -> private ka value bahar se change karna "
      ],
      "metadata": {
        "id": "rDIDJ7f0faR0"
      },
      "execution_count": null,
      "outputs": []
    },
    {
      "cell_type": "code",
      "source": [
        "class Atm:\n",
        "\n",
        "  # constructor (special function)-> superpower->  A constructor is a unique function that gets called automatically when an object is created of a class. \n",
        "  def __init__(self):\n",
        "    self.pin = ''\n",
        "    self.__balance = 0\n",
        "    \n",
        "  def get_balance(self):\n",
        "    return self.__balance\n",
        "\n",
        "  def set_balance(self,new_value):\n",
        "    if new_value == int:\n",
        "      self.__balance = new_value\n",
        "    else:\n",
        "      print('beta bahot marenge')\n",
        "\n",
        "      \n",
        "  def __menu(self):\n",
        "    user_input = input(\"\"\"\n",
        "    Hi, how can  I help you ? \n",
        "    1. Press 1 to create pin       \n",
        "    2. Press 2 to change pin     \n",
        "    3. Press 3 to check balance\n",
        "    4. Press 4 to withdraw\n",
        "    5. Anything else to exit \n",
        "    \"\"\")  \n",
        "\n",
        "    if user_input == '1':\n",
        "      # create pin\n",
        "      self.create_pin()\n",
        "    elif user_input == '2':\n",
        "      # change pin\n",
        "      self.change_pin() \n",
        "    elif user_input == '3':\n",
        "      # check balance\n",
        "      self.check_balance()\n",
        "    elif user_input == '4':\n",
        "      # withdraw\n",
        "      self.withdrawl()\n",
        "    else:\n",
        "      exit()     \n",
        "\n",
        "  def create_pin(self):\n",
        "    user_pin = input('enter your pin')    \n",
        "    self.pin = user_pin\n",
        "\n",
        "    user_balance = int(input('enter balance'))\n",
        "    self.__balance = user_balance\n",
        "    print('pin create successfully')\n",
        "    \n",
        "\n",
        "  def change_pin(self):\n",
        "    old_pin = input('enter old pin')\n",
        "\n",
        "    if old_pin == self.pin:\n",
        "      # let him change the pin \n",
        "      new_pin = input('Enter new pin ')\n",
        "      self.pin = new_pin\n",
        "      print('pin chane successfully')\n",
        "      \n",
        "    else:\n",
        "      print('nai karne de sakta re baba') \n",
        "       \n",
        "\n",
        "  def check_balance(self):\n",
        "    user_pin = input('enter your pin')\n",
        "    if user_pin == self.pin:\n",
        "      print('Your balance is',self.balance)\n",
        "    else:\n",
        "      print('chal nika yahaan se')  \n",
        "      \n",
        "\n",
        "  def withdrawl(self):\n",
        "    user_pin = input('enter the pin')      \n",
        "    if user_pin == self.pin:\n",
        "      amount = int(input('Enter the Amount'))\n",
        "\n",
        "      if amount <= self.__balance:\n",
        "        self.__balance = self.__balance - amount\n",
        "        print('withdrawl successfull balance is',self.__balance)\n",
        "  \n",
        "      else:\n",
        "        print('abbe garib')\n",
        "\n",
        "    else:\n",
        "      print('sale chor')\n",
        " \n"
      ],
      "metadata": {
        "id": "d_9-QCYUiGxv"
      },
      "execution_count": null,
      "outputs": []
    },
    {
      "cell_type": "code",
      "source": [
        "obj = Atm()"
      ],
      "metadata": {
        "id": "kS1cuR2yinMz"
      },
      "execution_count": null,
      "outputs": []
    },
    {
      "cell_type": "code",
      "source": [
        "obj.get_balance()"
      ],
      "metadata": {
        "colab": {
          "base_uri": "https://localhost:8080/"
        },
        "id": "JX27wYl_ipya",
        "outputId": "5d19fff4-311a-417f-b84e-b5d6b4c1eee6"
      },
      "execution_count": null,
      "outputs": [
        {
          "output_type": "execute_result",
          "data": {
            "text/plain": [
              "0"
            ]
          },
          "metadata": {},
          "execution_count": 63
        }
      ]
    },
    {
      "cell_type": "code",
      "source": [
        "obj.set_balance(1000)"
      ],
      "metadata": {
        "colab": {
          "base_uri": "https://localhost:8080/"
        },
        "id": "sQcRCYjKit57",
        "outputId": "f7ac9e9e-e194-4238-e6d1-64a3552a1802"
      },
      "execution_count": null,
      "outputs": [
        {
          "output_type": "stream",
          "name": "stdout",
          "text": [
            "beta bahot marenge\n"
          ]
        }
      ]
    },
    {
      "cell_type": "code",
      "source": [
        "obj.get_balance()"
      ],
      "metadata": {
        "colab": {
          "base_uri": "https://localhost:8080/"
        },
        "id": "CRQOfFlKixYq",
        "outputId": "c8e23d07-866d-4bc9-e9dc-57f8d522a273"
      },
      "execution_count": null,
      "outputs": [
        {
          "output_type": "execute_result",
          "data": {
            "text/plain": [
              "0"
            ]
          },
          "metadata": {},
          "execution_count": 65
        }
      ]
    },
    {
      "cell_type": "code",
      "source": [
        "obj.set_balance('hehehe')"
      ],
      "metadata": {
        "colab": {
          "base_uri": "https://localhost:8080/"
        },
        "id": "1bDOCJgukhWD",
        "outputId": "e18c4edc-0b28-4b5c-8765-db63314ffe05"
      },
      "execution_count": null,
      "outputs": [
        {
          "output_type": "stream",
          "name": "stdout",
          "text": [
            "beta bahot marenge\n"
          ]
        }
      ]
    },
    {
      "cell_type": "code",
      "source": [
        "obj.get_balance()"
      ],
      "metadata": {
        "colab": {
          "base_uri": "https://localhost:8080/"
        },
        "id": "02joojwslAr7",
        "outputId": "fd574a80-d6d3-4347-f016-959e367d9d7b"
      },
      "execution_count": null,
      "outputs": [
        {
          "output_type": "execute_result",
          "data": {
            "text/plain": [
              "0"
            ]
          },
          "metadata": {},
          "execution_count": 67
        }
      ]
    },
    {
      "cell_type": "code",
      "source": [
        "obj.withdrawl()"
      ],
      "metadata": {
        "colab": {
          "base_uri": "https://localhost:8080/"
        },
        "id": "jvARKMbylDrq",
        "outputId": "c8bf5634-8a59-4414-9858-3bf72ea3ee00"
      },
      "execution_count": null,
      "outputs": [
        {
          "output_type": "stream",
          "name": "stdout",
          "text": [
            "enter the pin\n",
            "Enter the Amount500\n",
            "abbe garib\n"
          ]
        }
      ]
    },
    {
      "cell_type": "markdown",
      "source": [
        "Encapsulation                    \n",
        "                \n",
        "ek data attribute uske 2 method -> getter,setter , aap apne class ke andar koi attribute ko private krr dete ho but kabhi kabhi uski bahar jarrurat hoti hain , tab hum getter & setter ki help se hum outer class me usko expose karte hain."
      ],
      "metadata": {
        "id": "ipcu3rmYl-38"
      }
    },
    {
      "cell_type": "code",
      "source": [],
      "metadata": {
        "id": "LxkrAQB8lIm1"
      },
      "execution_count": null,
      "outputs": []
    },
    {
      "cell_type": "markdown",
      "source": [
        "Collection of objects "
      ],
      "metadata": {
        "id": "Ze8SCa9e8eeD"
      }
    },
    {
      "cell_type": "code",
      "source": [
        "# list of objects \n",
        "class Person:\n",
        "\n",
        "  def __init__(self,name,gender):\n",
        "    self.name = name \n",
        "    self.gender = gender \n",
        "\n",
        "p1 = Person('Nitish','male')\n",
        "p2 = Person('Ankit','male')\n",
        "p3 = Person('Ankita','female')\n",
        "\n",
        "L = [p1,p2,p3]\n",
        "\n",
        "print(L)\n",
        "\n",
        "for i in L:\n",
        "  print(i.name,i.gender)"
      ],
      "metadata": {
        "colab": {
          "base_uri": "https://localhost:8080/"
        },
        "id": "cbj6mcZ58hAo",
        "outputId": "ec0906c7-0c2b-42b8-b481-fd6565009de4"
      },
      "execution_count": 3,
      "outputs": [
        {
          "output_type": "stream",
          "name": "stdout",
          "text": [
            "[<__main__.Person object at 0x7fcf5693fc10>, <__main__.Person object at 0x7fcf5693ed10>, <__main__.Person object at 0x7fcf5693f2b0>]\n",
            "Nitish male\n",
            "Ankit male\n",
            "Ankita female\n"
          ]
        }
      ]
    },
    {
      "cell_type": "code",
      "source": [
        "# dict of objects \n",
        "\n",
        "class Person:\n",
        "\n",
        "  def __init__(self,name,gender):\n",
        "    self.name = name \n",
        "    self.gender = gender \n",
        "\n",
        "p1 = Person('Nitish','male')\n",
        "p2 = Person('Ankit','male')\n",
        "p3 = Person('Ankita','female')\n",
        "\n",
        "d ={'p1':p1,'p2':p2,'p3':p3}\n",
        "print(d)\n",
        "\n",
        "for i in d:\n",
        "  print(d[i].gender)"
      ],
      "metadata": {
        "colab": {
          "base_uri": "https://localhost:8080/"
        },
        "id": "xsJf-t5R9GTy",
        "outputId": "37eb5f03-970c-4e08-a8d5-f9dc8486c890"
      },
      "execution_count": 5,
      "outputs": [
        {
          "output_type": "stream",
          "name": "stdout",
          "text": [
            "{'p1': <__main__.Person object at 0x7fcf39a383d0>, 'p2': <__main__.Person object at 0x7fcf39a38a90>, 'p3': <__main__.Person object at 0x7fcf39a39cc0>}\n",
            "male\n",
            "male\n",
            "female\n"
          ]
        }
      ]
    },
    {
      "cell_type": "markdown",
      "source": [
        "Static Variables (Vs instance variables)"
      ],
      "metadata": {
        "id": "NxrnpYK69-dX"
      }
    },
    {
      "cell_type": "code",
      "source": [
        "# need for static vars "
      ],
      "metadata": {
        "id": "a9x2ZeX6920Y"
      },
      "execution_count": 6,
      "outputs": []
    },
    {
      "cell_type": "code",
      "source": [
        "class Atm:\n",
        "\n",
        "  # instance variable\n",
        "  def __init__(self):\n",
        "    self.pin = ''\n",
        "    self.__balance = 0\n",
        "    self.cid = 0\n",
        "    self.cid+= 1\n",
        "    \n",
        "  def get_balance(self):\n",
        "    return self.__balance\n",
        "\n",
        "  def set_balance(self,new_value):\n",
        "    if new_value == int:\n",
        "      self.__balance = new_value\n",
        "    else:\n",
        "      print('beta bahot marenge')\n",
        "\n",
        "      \n",
        "  def __menu(self):\n",
        "    user_input = input(\"\"\"\n",
        "    Hi, how can  I help you ? \n",
        "    1. Press 1 to create pin       \n",
        "    2. Press 2 to change pin     \n",
        "    3. Press 3 to check balance\n",
        "    4. Press 4 to withdraw\n",
        "    5. Anything else to exit \n",
        "    \"\"\")  \n",
        "\n",
        "    if user_input == '1':\n",
        "      # create pin\n",
        "      self.create_pin()\n",
        "    elif user_input == '2':\n",
        "      # change pin\n",
        "      self.change_pin() \n",
        "    elif user_input == '3':\n",
        "      # check balance\n",
        "      self.check_balance()\n",
        "    elif user_input == '4':\n",
        "      # withdraw\n",
        "      self.withdrawl()\n",
        "    else:\n",
        "      exit()     \n",
        "\n",
        "  def create_pin(self):\n",
        "    user_pin = input('enter your pin')    \n",
        "    self.pin = user_pin\n",
        "\n",
        "    user_balance = int(input('enter balance'))\n",
        "    self.__balance = user_balance\n",
        "    print('pin create successfully')\n",
        "    \n",
        "\n",
        "  def change_pin(self):\n",
        "    old_pin = input('enter old pin')\n",
        "\n",
        "    if old_pin == self.pin:\n",
        "      # let him change the pin \n",
        "      new_pin = input('Enter new pin ')\n",
        "      self.pin = new_pin\n",
        "      print('pin chane successfully')\n",
        "      \n",
        "    else:\n",
        "      print('nai karne de sakta re baba') \n",
        "       \n",
        "  def check_balance(self):\n",
        "    user_pin = input('enter your pin')\n",
        "    if user_pin == self.pin:\n",
        "      print('Your balance is',self.balance)\n",
        "    else:\n",
        "      print('chal nika yahaan se')  \n",
        "      \n",
        "  def withdrawl(self):\n",
        "    user_pin = input('enter the pin')      \n",
        "    if user_pin == self.pin:\n",
        "      amount = int(input('Enter the Amount'))\n",
        "\n",
        "      if amount <= self.__balance:\n",
        "        self.__balance = self.__balance - amount\n",
        "        print('withdrawl successfull balance is',self.__balance)\n",
        "  \n",
        "      else:\n",
        "        print('abbe garib')\n",
        "\n",
        "    else:\n",
        "      print('sale chor')\n"
      ],
      "metadata": {
        "id": "jYzgMbxr-jNA"
      },
      "execution_count": 14,
      "outputs": []
    },
    {
      "cell_type": "code",
      "source": [
        "c1 = Atm()"
      ],
      "metadata": {
        "id": "RF6s4Lrr_F0V"
      },
      "execution_count": 11,
      "outputs": []
    },
    {
      "cell_type": "code",
      "source": [
        "c2 = Atm()"
      ],
      "metadata": {
        "id": "RYcYF52t_IV9"
      },
      "execution_count": 9,
      "outputs": []
    },
    {
      "cell_type": "code",
      "source": [
        "c1.cid"
      ],
      "metadata": {
        "colab": {
          "base_uri": "https://localhost:8080/"
        },
        "id": "HjeRSh7J_LuI",
        "outputId": "b8e71b1c-813a-48f3-e6dd-8404862047dd"
      },
      "execution_count": 12,
      "outputs": [
        {
          "output_type": "execute_result",
          "data": {
            "text/plain": [
              "1"
            ]
          },
          "metadata": {},
          "execution_count": 12
        }
      ]
    },
    {
      "cell_type": "code",
      "source": [
        "c2.cid"
      ],
      "metadata": {
        "colab": {
          "base_uri": "https://localhost:8080/"
        },
        "id": "QY2McWK0_yUa",
        "outputId": "053c9990-685a-4edf-c106-1af9b5a2eec4"
      },
      "execution_count": 13,
      "outputs": [
        {
          "output_type": "execute_result",
          "data": {
            "text/plain": [
              "1"
            ]
          },
          "metadata": {},
          "execution_count": 13
        }
      ]
    },
    {
      "cell_type": "code",
      "source": [
        "class Atm:\n",
        "\n",
        "\n",
        "  __counter = 1\n",
        "  # static variable\n",
        "  def __init__(self):\n",
        "    self.pin = ''\n",
        "    self.__balance = 0\n",
        "    self.cid = Atm.__counter\n",
        "    Atm.__counter = Atm.__counter + 1\n",
        "    \n",
        "  def get_balance(self):\n",
        "    return self.__balance\n",
        "\n",
        "  def set_balance(self,new_value):\n",
        "    if new_value == int:\n",
        "      self.__balance = new_value\n",
        "    else:\n",
        "      print('beta bahot marenge')\n",
        "      \n",
        "  def __menu(self):\n",
        "    user_input = input(\"\"\"\n",
        "    Hi, how can  I help you ? \n",
        "    1. Press 1 to create pin       \n",
        "    2. Press 2 to change pin     \n",
        "    3. Press 3 to check balance\n",
        "    4. Press 4 to withdraw\n",
        "    5. Anything else to exit \n",
        "    \"\"\")  \n",
        "\n",
        "    if user_input == '1':\n",
        "      # create pin\n",
        "      self.create_pin()\n",
        "    elif user_input == '2':\n",
        "      # change pin\n",
        "      self.change_pin() \n",
        "    elif user_input == '3':\n",
        "      # check balance\n",
        "      self.check_balance()\n",
        "    elif user_input == '4':\n",
        "      # withdraw\n",
        "      self.withdrawl()\n",
        "    else:\n",
        "      exit()     \n",
        "\n",
        "  def create_pin(self):\n",
        "    user_pin = input('enter your pin')    \n",
        "    self.pin = user_pin\n",
        "\n",
        "    user_balance = int(input('enter balance'))\n",
        "    self.__balance = user_balance\n",
        "    print('pin create successfully')\n",
        "    \n",
        "\n",
        "  def change_pin(self):\n",
        "    old_pin = input('enter old pin')\n",
        "\n",
        "    if old_pin == self.pin:\n",
        "      # let him change the pin \n",
        "      new_pin = input('Enter new pin ')\n",
        "      self.pin = new_pin\n",
        "      print('pin chane successfully')\n",
        "      \n",
        "    else:\n",
        "      print('nai karne de sakta re baba') \n",
        "       \n",
        "  def check_balance(self):\n",
        "    user_pin = input('enter your pin')\n",
        "    if user_pin == self.pin:\n",
        "      print('Your balance is',self.balance)\n",
        "    else:\n",
        "      print('chal nika yahaan se')  \n",
        "      \n",
        "  def withdrawl(self):\n",
        "    user_pin = input('enter the pin')      \n",
        "    if user_pin == self.pin:\n",
        "      amount = int(input('Enter the Amount'))\n",
        "\n",
        "      if amount <= self.__balance:\n",
        "        self.__balance = self.__balance - amount\n",
        "        print('withdrawl successfull balance is',self.__balance)\n",
        "  \n",
        "      else:\n",
        "        print('abbe garib')\n",
        "\n",
        "    else:\n",
        "      print('sale chor')\n"
      ],
      "metadata": {
        "id": "jWjaYFOj_1L7"
      },
      "execution_count": 26,
      "outputs": []
    },
    {
      "cell_type": "code",
      "source": [
        "# variable ke agge agar self laga hain to wo -> instance variable\n",
        "# variable ke aage agar class ka naam hain to wo -> static variable "
      ],
      "metadata": {
        "id": "yKkfqrq-BxiG"
      },
      "execution_count": 16,
      "outputs": []
    },
    {
      "cell_type": "code",
      "source": [
        "c1 = Atm()"
      ],
      "metadata": {
        "id": "BJ4uda94CIF1"
      },
      "execution_count": 17,
      "outputs": []
    },
    {
      "cell_type": "code",
      "source": [
        "c2 =Atm()"
      ],
      "metadata": {
        "id": "xTF6pcQTCU-K"
      },
      "execution_count": 18,
      "outputs": []
    },
    {
      "cell_type": "code",
      "source": [
        "c3 = Atm()"
      ],
      "metadata": {
        "id": "zhZdfrVmCcAW"
      },
      "execution_count": 21,
      "outputs": []
    },
    {
      "cell_type": "code",
      "source": [
        "c1.cid"
      ],
      "metadata": {
        "colab": {
          "base_uri": "https://localhost:8080/"
        },
        "id": "rNdL_8IeCWxX",
        "outputId": "135bef7b-b275-42f1-d3e2-a662fa365000"
      },
      "execution_count": 19,
      "outputs": [
        {
          "output_type": "execute_result",
          "data": {
            "text/plain": [
              "1"
            ]
          },
          "metadata": {},
          "execution_count": 19
        }
      ]
    },
    {
      "cell_type": "code",
      "source": [
        "c2.cid"
      ],
      "metadata": {
        "colab": {
          "base_uri": "https://localhost:8080/"
        },
        "id": "4PlvAOerCYnI",
        "outputId": "23434da3-4c78-4439-b76d-0ec93af2a44a"
      },
      "execution_count": 20,
      "outputs": [
        {
          "output_type": "execute_result",
          "data": {
            "text/plain": [
              "2"
            ]
          },
          "metadata": {},
          "execution_count": 20
        }
      ]
    },
    {
      "cell_type": "code",
      "source": [
        "c3.cid"
      ],
      "metadata": {
        "colab": {
          "base_uri": "https://localhost:8080/"
        },
        "id": "cuTJpVNYCaO3",
        "outputId": "92edb3b3-e507-4782-a3b9-45b20ab75399"
      },
      "execution_count": 22,
      "outputs": [
        {
          "output_type": "execute_result",
          "data": {
            "text/plain": [
              "3"
            ]
          },
          "metadata": {},
          "execution_count": 22
        }
      ]
    },
    {
      "cell_type": "code",
      "source": [
        "Atm.counter"
      ],
      "metadata": {
        "colab": {
          "base_uri": "https://localhost:8080/"
        },
        "id": "do6Grw8bCfr5",
        "outputId": "f4674e19-b9a2-44b0-ceac-425646085f72"
      },
      "execution_count": 23,
      "outputs": [
        {
          "output_type": "execute_result",
          "data": {
            "text/plain": [
              "4"
            ]
          },
          "metadata": {},
          "execution_count": 23
        }
      ]
    },
    {
      "cell_type": "code",
      "source": [
        "Atm.counter = 'hehehe'"
      ],
      "metadata": {
        "id": "C9NmH_UJCimw"
      },
      "execution_count": 24,
      "outputs": []
    },
    {
      "cell_type": "code",
      "source": [
        "c1 = Atm()"
      ],
      "metadata": {
        "id": "-okYStAHC9Qx"
      },
      "execution_count": 27,
      "outputs": []
    },
    {
      "cell_type": "code",
      "source": [],
      "metadata": {
        "id": "7mpSIl-dDA_Y"
      },
      "execution_count": null,
      "outputs": []
    }
  ]
}