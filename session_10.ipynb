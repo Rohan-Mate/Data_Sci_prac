{
  "nbformat": 4,
  "nbformat_minor": 0,
  "metadata": {
    "colab": {
      "provenance": []
    },
    "kernelspec": {
      "name": "python3",
      "display_name": "Python 3"
    },
    "language_info": {
      "name": "python"
    }
  },
  "cells": [
    {
      "cell_type": "markdown",
      "source": [
        "File Handling + Serialization & Deserialization"
      ],
      "metadata": {
        "id": "djx6eA6G2-i7"
      }
    },
    {
      "cell_type": "markdown",
      "source": [
        "Some Theory    \n",
        "           \n",
        "Types of data used for I/O:                  \n",
        "Text - '12345' as a sequence of unicode chars                \n",
        "Binary - 12345 as a sequence of bytes of its binary equivalent           \n",
        "\n",
        "Hence there are 2 file types to deal with           \n",
        "Text files - All program files are text files                \n",
        "Binary Files - Images,music,video,exe files      \n",
        "\n",
        "How File I/O is done in most programming languages         \n",
        "Open a file                 \n",
        "Read/Write data              \n",
        "Close the file                 "
      ],
      "metadata": {
        "id": "BuMOkQrd4iRJ"
      }
    },
    {
      "cell_type": "markdown",
      "source": [
        "Writing to a file"
      ],
      "metadata": {
        "id": "Ng8oiwn15aUu"
      }
    },
    {
      "cell_type": "code",
      "source": [
        "# case 1 - if the file is not present\n",
        "f = open('sample.txt','w')\n",
        "f.write('Hello World')\n",
        "f.close()\n",
        "# since file is close hence this will not work\n",
        "f.write('Hello')"
      ],
      "metadata": {
        "colab": {
          "base_uri": "https://localhost:8080/",
          "height": 208
        },
        "id": "V5TXE7TR5cuO",
        "outputId": "9ef2919d-4a15-418c-d29f-7e4cd665fbc5"
      },
      "execution_count": 3,
      "outputs": [
        {
          "output_type": "error",
          "ename": "ValueError",
          "evalue": "ignored",
          "traceback": [
            "\u001b[0;31m---------------------------------------------------------------------------\u001b[0m",
            "\u001b[0;31mValueError\u001b[0m                                Traceback (most recent call last)",
            "\u001b[0;32m<ipython-input-3-7d79a766705b>\u001b[0m in \u001b[0;36m<cell line: 6>\u001b[0;34m()\u001b[0m\n\u001b[1;32m      4\u001b[0m \u001b[0mf\u001b[0m\u001b[0;34m.\u001b[0m\u001b[0mclose\u001b[0m\u001b[0;34m(\u001b[0m\u001b[0;34m)\u001b[0m\u001b[0;34m\u001b[0m\u001b[0;34m\u001b[0m\u001b[0m\n\u001b[1;32m      5\u001b[0m \u001b[0;31m# since file is close hence this will not work\u001b[0m\u001b[0;34m\u001b[0m\u001b[0;34m\u001b[0m\u001b[0m\n\u001b[0;32m----> 6\u001b[0;31m \u001b[0mf\u001b[0m\u001b[0;34m.\u001b[0m\u001b[0mwrite\u001b[0m\u001b[0;34m(\u001b[0m\u001b[0;34m'Hello'\u001b[0m\u001b[0;34m)\u001b[0m\u001b[0;34m\u001b[0m\u001b[0;34m\u001b[0m\u001b[0m\n\u001b[0m",
            "\u001b[0;31mValueError\u001b[0m: I/O operation on closed file."
          ]
        }
      ]
    },
    {
      "cell_type": "code",
      "source": [
        "# write multiline strings\n",
        "f = open('sample1.txt','w')\n",
        "f.write('hello world')\n",
        "f.write('\\nhow are you')\n",
        "f.close()"
      ],
      "metadata": {
        "id": "dGuQt7kB6njW"
      },
      "execution_count": 5,
      "outputs": []
    },
    {
      "cell_type": "code",
      "source": [
        "# case 2 - if the file is already present\n",
        "f = open('sample.txt','w')\n",
        "f.write('ISRO')\n",
        "f.close()"
      ],
      "metadata": {
        "id": "0KVNy6ipEwfk"
      },
      "execution_count": 6,
      "outputs": []
    },
    {
      "cell_type": "code",
      "source": [
        "# how exactly open() works?"
      ],
      "metadata": {
        "id": "oJp0FRZ6FT7_"
      },
      "execution_count": 7,
      "outputs": []
    },
    {
      "cell_type": "code",
      "source": [
        "# problem with w mode\n",
        "# introducing append mode\n",
        "f = open('sample1.txt','a')\n",
        "f.write('\\nIndian Space Research Organization')\n",
        "f.close()"
      ],
      "metadata": {
        "id": "4LtKvWcxGK9q"
      },
      "execution_count": 15,
      "outputs": []
    },
    {
      "cell_type": "code",
      "source": [
        "# write line\n",
        "L = ['hello\\n','hi\\n','how are you\\n','i am fine']\n",
        "\n",
        "f = open('sample1.txt','w')\n",
        "f.writelines(L)\n",
        "f.close()"
      ],
      "metadata": {
        "id": "JX-oYQv5Gl0t"
      },
      "execution_count": 14,
      "outputs": []
    },
    {
      "cell_type": "code",
      "source": [
        "# reading from files\n",
        "# -> using read()\n",
        "f = open('sample1.txt','r')\n",
        "s = f.read()\n",
        "print(s)\n",
        "f.close()"
      ],
      "metadata": {
        "colab": {
          "base_uri": "https://localhost:8080/"
        },
        "id": "pwWyH_wrHbYJ",
        "outputId": "c876894f-3f4a-4616-8f3b-ca8a3bcff3e8"
      },
      "execution_count": 16,
      "outputs": [
        {
          "output_type": "stream",
          "name": "stdout",
          "text": [
            "hello\n",
            "hi\n",
            "how are you\n",
            "i am fine\n",
            "Indian Space Research Organization\n"
          ]
        }
      ]
    },
    {
      "cell_type": "code",
      "source": [
        "# reading upto n chars\n",
        "f = open('sample1.txt','r')\n",
        "s = f.read(10)\n",
        "print(s)\n",
        "f.close()"
      ],
      "metadata": {
        "colab": {
          "base_uri": "https://localhost:8080/"
        },
        "id": "j-1iJridJMib",
        "outputId": "157c317d-4f78-4099-8f4b-63149de53a22"
      },
      "execution_count": 17,
      "outputs": [
        {
          "output_type": "stream",
          "name": "stdout",
          "text": [
            "hello\n",
            "hi\n",
            "h\n"
          ]
        }
      ]
    },
    {
      "cell_type": "code",
      "source": [
        "# readline() - to read line by line\n",
        "f = open('sample1.txt')\n",
        "print(f.readline(),end='')\n",
        "print(f.readline(),end='')\n",
        "f.close()"
      ],
      "metadata": {
        "colab": {
          "base_uri": "https://localhost:8080/"
        },
        "id": "PBCQK5Q2JrhV",
        "outputId": "6e8cdf39-f8a5-4be3-fdd8-dcee195084d6"
      },
      "execution_count": 19,
      "outputs": [
        {
          "output_type": "stream",
          "name": "stdout",
          "text": [
            "hello\n",
            "hi\n"
          ]
        }
      ]
    },
    {
      "cell_type": "code",
      "source": [
        "# reading entire using readline\n",
        "f = open('sample1.txt','r')\n",
        "\n",
        "while True:\n",
        "\n",
        "  data = f.readline()\n",
        "\n",
        "  if data == \"\":\n",
        "    break\n",
        "  else:\n",
        "    print(data,end='')\n",
        "f.close()"
      ],
      "metadata": {
        "colab": {
          "base_uri": "https://localhost:8080/"
        },
        "id": "P_Ui1eddKLe1",
        "outputId": "a5018b4d-eecc-4764-a224-5e420481fb3d"
      },
      "execution_count": 23,
      "outputs": [
        {
          "output_type": "stream",
          "name": "stdout",
          "text": [
            "hello\n",
            "hi\n",
            "how are you\n",
            "i am fine\n",
            "Indian Space Research Organization"
          ]
        }
      ]
    },
    {
      "cell_type": "markdown",
      "source": [
        "Using Context Manager (With)                  \n",
        "\n",
        "It's a good idea to close a file after usage as it will free up the resources            \n",
        "If we dont close it, garbage collector would close it    \n",
        "with keyword closes the file as soon as the usage is over"
      ],
      "metadata": {
        "id": "boWEInnzMU1J"
      }
    },
    {
      "cell_type": "code",
      "source": [
        "# with -> you dont need to close the file for this method\n",
        "with open('sample1.txt','w')as f:\n",
        "  f.write('ISRO -> Indian Space Research Organization')"
      ],
      "metadata": {
        "id": "luRuOsZNLeJB"
      },
      "execution_count": 30,
      "outputs": []
    },
    {
      "cell_type": "code",
      "source": [
        "# try f.read() now\n",
        "\n",
        "with open('sample1.txt','r') as f:\n",
        "  print(f.read())"
      ],
      "metadata": {
        "colab": {
          "base_uri": "https://localhost:8080/"
        },
        "id": "sAO-eiUqNO7z",
        "outputId": "4c4a6572-ef74-4c1b-be9a-a3cb8d841e20"
      },
      "execution_count": 31,
      "outputs": [
        {
          "output_type": "stream",
          "name": "stdout",
          "text": [
            "ISRO -> Indian Space Research Organization\n"
          ]
        }
      ]
    },
    {
      "cell_type": "code",
      "source": [
        "# moving with file -> 10 char then 10 char\n",
        "with open('sample1.txt','r')as f :\n",
        "  print(f.read(10))\n",
        "  print(f.read(10))\n",
        "  print(f.read(10))"
      ],
      "metadata": {
        "colab": {
          "base_uri": "https://localhost:8080/"
        },
        "id": "bbr_ocUFNn20",
        "outputId": "007dda15-065d-48f9-a501-64a94607f990"
      },
      "execution_count": 34,
      "outputs": [
        {
          "output_type": "stream",
          "name": "stdout",
          "text": [
            "ISRO -> In\n",
            "dian Space\n",
            " Research \n"
          ]
        }
      ]
    },
    {
      "cell_type": "code",
      "source": [
        "# benefit -> to load a big file in memory\n",
        "big_L = ['hello world' for i in range(1000)]\n",
        "\n",
        "with open('big.txt','w')as f:\n",
        "  f.writelines(big_L)"
      ],
      "metadata": {
        "id": "s9JcG7d8ODgD"
      },
      "execution_count": 35,
      "outputs": []
    },
    {
      "cell_type": "code",
      "source": [
        "with open('big.txt','r')as f:\n",
        "\n",
        "  chunk_size = 100\n",
        "\n",
        "  while len(f.read(chunk_size)) > 0:\n",
        "    print(f.read(chunk_size),end='')\n",
        "    f.read(chunk_size)"
      ],
      "metadata": {
        "colab": {
          "base_uri": "https://localhost:8080/"
        },
        "id": "qy-pG3zRYYJQ",
        "outputId": "e30587da-91bb-4558-9905-356b3433cfa8"
      },
      "execution_count": 37,
      "outputs": [
        {
          "output_type": "stream",
          "name": "stdout",
          "text": [
            "ello worldhello worldhello worldhello worldhello worldhello worldhello worldhello worldhello worldheo worldhello worldhello worldhello worldhello worldhello worldhello worldhello worldhello worldhelloorldhello worldhello worldhello worldhello worldhello worldhello worldhello worldhello worldhello wodhello worldhello worldhello worldhello worldhello worldhello worldhello worldhello worldhello worldllo worldhello worldhello worldhello worldhello worldhello worldhello worldhello worldhello worldhel worldhello worldhello worldhello worldhello worldhello worldhello worldhello worldhello worldhello rldhello worldhello worldhello worldhello worldhello worldhello worldhello worldhello worldhello worhello worldhello worldhello worldhello worldhello worldhello worldhello worldhello worldhello worldhlo worldhello worldhello worldhello worldhello worldhello worldhello worldhello worldhello worldhellworldhello worldhello worldhello worldhello worldhello worldhello worldhello worldhello worldhello wldhello worldhello worldhello worldhello worldhello worldhello worldhello worldhello worldhello worlello worldhello worldhello worldhello worldhello worldhello worldhello worldhello worldhello worldheo worldhello worldhello worldhello worldhello worldhello worldhello worldhello worldhello worldhelloorldhello worldhello worldhello worldhello worldhello worldhello worldhello worldhello worldhello wodhello worldhello worldhello worldhello worldhello worldhello worldhello worldhello worldhello worldllo worldhello worldhello worldhello worldhello worldhello worldhello worldhello worldhello worldhel worldhello worldhello worldhello worldhello worldhello worldhello worldhello worldhello worldhello rldhello worldhello worldhello worldhello worldhello worldhello worldhello worldhello worldhello worhello worldhello worldhello worldhello worldhello worldhello worldhello worldhello worldhello worldhlo worldhello worldhello worldhello worldhello worldhello worldhello worldhello worldhello worldhellworldhello worldhello worldhello worldhello worldhello worldhello worldhello worldhello worldhello wldhello worldhello worldhello worldhello worldhello worldhello worldhello worldhello worldhello worlello worldhello worldhello worldhello worldhello worldhello worldhello worldhello worldhello worldheo worldhello worldhello worldhello worldhello worldhello worldhello worldhello worldhello worldhelloorldhello worldhello worldhello worldhello worldhello worldhello worldhello worldhello worldhello wodhello worldhello worldhello worldhello worldhello worldhello worldhello worldhello worldhello worldllo worldhello worldhello worldhello worldhello worldhello worldhello worldhello worldhello worldhel worldhello worldhello worldhello worldhello worldhello worldhello worldhello worldhello worldhello rldhello worldhello worldhello worldhello worldhello worldhello worldhello worldhello worldhello worhello worldhello worldhello worldhello worldhello worldhello worldhello worldhello worldhello worldhlo worldhello worldhello worldhello worldhello worldhello worldhello worldhello worldhello worldhellworldhello worldhello worldhello worldhello worldhello worldhello worldhello worldhello worldhello wldhello worldhello worldhello worldhello worldhello worldhello worldhello worldhello worldhello worlello worldhello worldhello worldhello worldhello worldhello worldhello worldhello worldhello worldheo worldhello worldhello worldhello worldhello worldhello worldhello worldhello worldhello worldhelloorldhello worldhello worldhello worldhello worldhello worldhello worldhello worldhello worldhello wodhello worldhello worldhello worldhello worldhello worldhello worldhello worldhello worldhello world"
          ]
        }
      ]
    },
    {
      "cell_type": "code",
      "source": [
        "# seek and tell function\n",
        "with open('sample1.txt','r')as f :\n",
        "  print(f.read(10))\n",
        "  print(f.tell())\n",
        "  f.seek(0)\n",
        "  print(f.read(14))\n",
        "  print(f.tell())\n",
        "  f.seek(15)\n",
        "  print(f.read(10))\n",
        "  print(f.tell())"
      ],
      "metadata": {
        "colab": {
          "base_uri": "https://localhost:8080/"
        },
        "id": "T7Mv5Np1ZCxM",
        "outputId": "0a8d2b15-a8f6-486f-d805-579c8ba21b7b"
      },
      "execution_count": 41,
      "outputs": [
        {
          "output_type": "stream",
          "name": "stdout",
          "text": [
            "ISRO -> In\n",
            "10\n",
            "ISRO -> Indian\n",
            "14\n",
            "Space Rese\n",
            "25\n"
          ]
        }
      ]
    },
    {
      "cell_type": "code",
      "source": [
        "# seek during write\n",
        "with open('sample1.txt','w') as f:\n",
        "  f.write('Hello')\n",
        "  f.seek(0)\n",
        "  f.write('Xa')"
      ],
      "metadata": {
        "id": "Cm3DS4dYaiMK"
      },
      "execution_count": 43,
      "outputs": []
    },
    {
      "cell_type": "markdown",
      "source": [
        "Problems with working in text mode        \n",
        "\n",
        "can't work with binary files like images                 \n",
        "not good for other data types like int/float/list/tuples   \n",
        "\n",
        "---\n",
        "\n"
      ],
      "metadata": {
        "id": "hFhG5jo9bhGJ"
      }
    },
    {
      "cell_type": "code",
      "source": [
        "#  working with binary file\n",
        "with open('pic.jpg','r')as f:\n",
        "  f.read()"
      ],
      "metadata": {
        "colab": {
          "base_uri": "https://localhost:8080/",
          "height": 336
        },
        "id": "L1XO-QOWbdfS",
        "outputId": "53ad16f3-9369-47c2-eb84-569c342d5c23"
      },
      "execution_count": 44,
      "outputs": [
        {
          "output_type": "error",
          "ename": "UnicodeDecodeError",
          "evalue": "ignored",
          "traceback": [
            "\u001b[0;31m---------------------------------------------------------------------------\u001b[0m",
            "\u001b[0;31mUnicodeDecodeError\u001b[0m                        Traceback (most recent call last)",
            "\u001b[0;32m<ipython-input-44-9a3115e7bfdf>\u001b[0m in \u001b[0;36m<cell line: 2>\u001b[0;34m()\u001b[0m\n\u001b[1;32m      1\u001b[0m \u001b[0;31m#  working with binary file\u001b[0m\u001b[0;34m\u001b[0m\u001b[0;34m\u001b[0m\u001b[0m\n\u001b[1;32m      2\u001b[0m \u001b[0;32mwith\u001b[0m \u001b[0mopen\u001b[0m\u001b[0;34m(\u001b[0m\u001b[0;34m'pic.jpg'\u001b[0m\u001b[0;34m,\u001b[0m\u001b[0;34m'r'\u001b[0m\u001b[0;34m)\u001b[0m\u001b[0;32mas\u001b[0m \u001b[0mf\u001b[0m\u001b[0;34m:\u001b[0m\u001b[0;34m\u001b[0m\u001b[0;34m\u001b[0m\u001b[0m\n\u001b[0;32m----> 3\u001b[0;31m   \u001b[0mf\u001b[0m\u001b[0;34m.\u001b[0m\u001b[0mread\u001b[0m\u001b[0;34m(\u001b[0m\u001b[0;34m)\u001b[0m\u001b[0;34m\u001b[0m\u001b[0;34m\u001b[0m\u001b[0m\n\u001b[0m",
            "\u001b[0;32m/usr/lib/python3.10/codecs.py\u001b[0m in \u001b[0;36mdecode\u001b[0;34m(self, input, final)\u001b[0m\n\u001b[1;32m    320\u001b[0m         \u001b[0;31m# decode input (taking the buffer into account)\u001b[0m\u001b[0;34m\u001b[0m\u001b[0;34m\u001b[0m\u001b[0m\n\u001b[1;32m    321\u001b[0m         \u001b[0mdata\u001b[0m \u001b[0;34m=\u001b[0m \u001b[0mself\u001b[0m\u001b[0;34m.\u001b[0m\u001b[0mbuffer\u001b[0m \u001b[0;34m+\u001b[0m \u001b[0minput\u001b[0m\u001b[0;34m\u001b[0m\u001b[0;34m\u001b[0m\u001b[0m\n\u001b[0;32m--> 322\u001b[0;31m         \u001b[0;34m(\u001b[0m\u001b[0mresult\u001b[0m\u001b[0;34m,\u001b[0m \u001b[0mconsumed\u001b[0m\u001b[0;34m)\u001b[0m \u001b[0;34m=\u001b[0m \u001b[0mself\u001b[0m\u001b[0;34m.\u001b[0m\u001b[0m_buffer_decode\u001b[0m\u001b[0;34m(\u001b[0m\u001b[0mdata\u001b[0m\u001b[0;34m,\u001b[0m \u001b[0mself\u001b[0m\u001b[0;34m.\u001b[0m\u001b[0merrors\u001b[0m\u001b[0;34m,\u001b[0m \u001b[0mfinal\u001b[0m\u001b[0;34m)\u001b[0m\u001b[0;34m\u001b[0m\u001b[0;34m\u001b[0m\u001b[0m\n\u001b[0m\u001b[1;32m    323\u001b[0m         \u001b[0;31m# keep undecoded input until the next call\u001b[0m\u001b[0;34m\u001b[0m\u001b[0;34m\u001b[0m\u001b[0m\n\u001b[1;32m    324\u001b[0m         \u001b[0mself\u001b[0m\u001b[0;34m.\u001b[0m\u001b[0mbuffer\u001b[0m \u001b[0;34m=\u001b[0m \u001b[0mdata\u001b[0m\u001b[0;34m[\u001b[0m\u001b[0mconsumed\u001b[0m\u001b[0;34m:\u001b[0m\u001b[0;34m]\u001b[0m\u001b[0;34m\u001b[0m\u001b[0;34m\u001b[0m\u001b[0m\n",
            "\u001b[0;31mUnicodeDecodeError\u001b[0m: 'utf-8' codec can't decode byte 0xff in position 0: invalid start byte"
          ]
        }
      ]
    },
    {
      "cell_type": "code",
      "source": [
        "# working with binary file\n",
        "with open('pic.jpg','rb')as f:\n",
        "  with open('pic_copy.jpg','wb')as wf:\n",
        "    wf.write(f.read())"
      ],
      "metadata": {
        "id": "Lpe9MRLWct50"
      },
      "execution_count": 46,
      "outputs": []
    },
    {
      "cell_type": "code",
      "source": [
        "# working with other data type\n",
        "# you cannot write any other data type - only type string\n",
        "with open('sample1.txt','w')as f:\n",
        "  f.write(5)"
      ],
      "metadata": {
        "colab": {
          "base_uri": "https://localhost:8080/",
          "height": 208
        },
        "id": "mYqLS1qCdYnM",
        "outputId": "16ebbcd8-4074-4a67-a30b-806324bef666"
      },
      "execution_count": 47,
      "outputs": [
        {
          "output_type": "error",
          "ename": "TypeError",
          "evalue": "ignored",
          "traceback": [
            "\u001b[0;31m---------------------------------------------------------------------------\u001b[0m",
            "\u001b[0;31mTypeError\u001b[0m                                 Traceback (most recent call last)",
            "\u001b[0;32m<ipython-input-47-d592ff82cba8>\u001b[0m in \u001b[0;36m<cell line: 3>\u001b[0;34m()\u001b[0m\n\u001b[1;32m      2\u001b[0m \u001b[0;31m# you cannot write any other data type - only type string\u001b[0m\u001b[0;34m\u001b[0m\u001b[0;34m\u001b[0m\u001b[0m\n\u001b[1;32m      3\u001b[0m \u001b[0;32mwith\u001b[0m \u001b[0mopen\u001b[0m\u001b[0;34m(\u001b[0m\u001b[0;34m'sample1.txt'\u001b[0m\u001b[0;34m,\u001b[0m\u001b[0;34m'w'\u001b[0m\u001b[0;34m)\u001b[0m\u001b[0;32mas\u001b[0m \u001b[0mf\u001b[0m\u001b[0;34m:\u001b[0m\u001b[0;34m\u001b[0m\u001b[0;34m\u001b[0m\u001b[0m\n\u001b[0;32m----> 4\u001b[0;31m   \u001b[0mf\u001b[0m\u001b[0;34m.\u001b[0m\u001b[0mwrite\u001b[0m\u001b[0;34m(\u001b[0m\u001b[0;36m5\u001b[0m\u001b[0;34m)\u001b[0m\u001b[0;34m\u001b[0m\u001b[0;34m\u001b[0m\u001b[0m\n\u001b[0m",
            "\u001b[0;31mTypeError\u001b[0m: write() argument must be str, not int"
          ]
        }
      ]
    },
    {
      "cell_type": "code",
      "source": [
        "with open('sample1.txt','w')as f:\n",
        "  f.write('5')\n",
        "# we convert int into str"
      ],
      "metadata": {
        "id": "WxKNOJ1aeKF7"
      },
      "execution_count": 51,
      "outputs": []
    },
    {
      "cell_type": "code",
      "source": [
        "with open('sample1.txt','r')as f:\n",
        "  print(int(f.read()) +5)"
      ],
      "metadata": {
        "colab": {
          "base_uri": "https://localhost:8080/"
        },
        "id": "43lMhVQSeUG9",
        "outputId": "3015d623-ec3e-4974-d33f-14c36cc33773"
      },
      "execution_count": 52,
      "outputs": [
        {
          "output_type": "stream",
          "name": "stdout",
          "text": [
            "10\n"
          ]
        }
      ]
    },
    {
      "cell_type": "code",
      "source": [
        "# more complex data\n",
        "d = {\n",
        "    'name':'nitish',\n",
        "     'age':33,\n",
        "     'gender':'male'\n",
        "}\n",
        "\n",
        "with open('sample1.txt','w') as f:\n",
        "  f.write(str(d))"
      ],
      "metadata": {
        "id": "HaEZog2qeoZi"
      },
      "execution_count": 54,
      "outputs": []
    },
    {
      "cell_type": "code",
      "source": [
        "with open('sample1.txt','r') as f:\n",
        "  print(f.read())\n",
        "  print(type(f.read()))"
      ],
      "metadata": {
        "colab": {
          "base_uri": "https://localhost:8080/"
        },
        "id": "Qb_SJRBVezJo",
        "outputId": "0dcd650e-a2ef-4679-919b-09dbae0c1da2"
      },
      "execution_count": 55,
      "outputs": [
        {
          "output_type": "stream",
          "name": "stdout",
          "text": [
            "{'name': 'nitish', 'age': 33, 'gender': 'male'}\n",
            "<class 'str'>\n"
          ]
        }
      ]
    },
    {
      "cell_type": "code",
      "source": [
        "with open('sample1.txt','r') as f:\n",
        "  print(dict(f.read()))"
      ],
      "metadata": {
        "colab": {
          "base_uri": "https://localhost:8080/",
          "height": 190
        },
        "id": "mBpMGsx9fS3m",
        "outputId": "4d48b97d-4733-46ff-cd4b-d8a71a9da1a0"
      },
      "execution_count": 56,
      "outputs": [
        {
          "output_type": "error",
          "ename": "ValueError",
          "evalue": "ignored",
          "traceback": [
            "\u001b[0;31m---------------------------------------------------------------------------\u001b[0m",
            "\u001b[0;31mValueError\u001b[0m                                Traceback (most recent call last)",
            "\u001b[0;32m<ipython-input-56-45840365c586>\u001b[0m in \u001b[0;36m<cell line: 1>\u001b[0;34m()\u001b[0m\n\u001b[1;32m      1\u001b[0m \u001b[0;32mwith\u001b[0m \u001b[0mopen\u001b[0m\u001b[0;34m(\u001b[0m\u001b[0;34m'sample1.txt'\u001b[0m\u001b[0;34m,\u001b[0m\u001b[0;34m'r'\u001b[0m\u001b[0;34m)\u001b[0m \u001b[0;32mas\u001b[0m \u001b[0mf\u001b[0m\u001b[0;34m:\u001b[0m\u001b[0;34m\u001b[0m\u001b[0;34m\u001b[0m\u001b[0m\n\u001b[0;32m----> 2\u001b[0;31m   \u001b[0mprint\u001b[0m\u001b[0;34m(\u001b[0m\u001b[0mdict\u001b[0m\u001b[0;34m(\u001b[0m\u001b[0mf\u001b[0m\u001b[0;34m.\u001b[0m\u001b[0mread\u001b[0m\u001b[0;34m(\u001b[0m\u001b[0;34m)\u001b[0m\u001b[0;34m)\u001b[0m\u001b[0;34m)\u001b[0m\u001b[0;34m\u001b[0m\u001b[0;34m\u001b[0m\u001b[0m\n\u001b[0m",
            "\u001b[0;31mValueError\u001b[0m: dictionary update sequence element #0 has length 1; 2 is required"
          ]
        }
      ]
    },
    {
      "cell_type": "markdown",
      "source": [
        "Serialization and Deserialization    \n",
        "\n",
        "Serialization - process of converting python data types to JSON format               \n",
        "Deserialization - process of converting JSON to python data types               \n",
        "\n",
        "\n",
        "What is JSON?\n",
        "\n"
      ],
      "metadata": {
        "id": "hZAfrM3ffYgb"
      }
    },
    {
      "cell_type": "code",
      "source": [
        "# serialization using json module\n",
        "# list\n",
        "\n",
        "import json\n",
        "\n",
        "L = [1,2,3,4,5]\n",
        "\n",
        "with open('demo.json','w')as f:\n",
        "  json.dump(L,f)"
      ],
      "metadata": {
        "id": "q1l-FuwmfedP"
      },
      "execution_count": 61,
      "outputs": []
    },
    {
      "cell_type": "code",
      "source": [
        "# dict\n",
        "d = {\n",
        "    'name':'nitish',\n",
        "     'age':33,\n",
        "     'gender':'male'\n",
        "}\n",
        "\n",
        "with open('demo.json','w')as f:\n",
        "  json.dump(d,f,indent=4)"
      ],
      "metadata": {
        "id": "_zHNcZjyhw9v"
      },
      "execution_count": 62,
      "outputs": []
    },
    {
      "cell_type": "code",
      "source": [
        "# deserializing\n",
        "import json\n",
        "\n",
        "with open('demo.json','r') as f:\n",
        "  d = json.load(f)\n",
        "  print(d)\n",
        "  print(type(d))"
      ],
      "metadata": {
        "colab": {
          "base_uri": "https://localhost:8080/"
        },
        "id": "Huinjx_OiIzi",
        "outputId": "51ca1ad4-c2de-4a3a-9b2c-426fdb681fc9"
      },
      "execution_count": 63,
      "outputs": [
        {
          "output_type": "stream",
          "name": "stdout",
          "text": [
            "{'name': 'nitish', 'age': 33, 'gender': 'male'}\n",
            "<class 'dict'>\n"
          ]
        }
      ]
    },
    {
      "cell_type": "code",
      "source": [
        "# serialization and deserialization tuple\n",
        "# tuple ko hum as tuple store nahi krr sakte -> always save in list\n",
        "\n",
        "import json\n",
        "\n",
        "t = (1,2,3,4,5)\n",
        "\n",
        "with open('demo.json','w')as f:\n",
        "  json.dump(t,f)"
      ],
      "metadata": {
        "id": "ifzglbiMj3Gd"
      },
      "execution_count": 70,
      "outputs": []
    },
    {
      "cell_type": "code",
      "source": [
        "# serialize and deserialize a nested dict\n",
        "\n",
        "d = {\n",
        "    'student':'nitish',\n",
        "    'marks':[23,45,85,75,25,65]\n",
        "}\n",
        "\n",
        "with open('demo.json','w')as f:\n",
        "  json.dump(d,f)"
      ],
      "metadata": {
        "id": "ZR8CwUC2k4SL"
      },
      "execution_count": 72,
      "outputs": []
    },
    {
      "cell_type": "markdown",
      "source": [
        "Serializing and deserializing custom objects"
      ],
      "metadata": {
        "id": "1BO13wpAlku1"
      }
    },
    {
      "cell_type": "code",
      "source": [
        "class Person:\n",
        "\n",
        "  def __init__(self,fname,lname,age,gender):\n",
        "    self.fname = fname\n",
        "    self.lname = lname\n",
        "    self.age = age\n",
        "    self.gender = gender\n",
        "\n",
        "# format to printed in"
      ],
      "metadata": {
        "id": "8bz0Yg6Zlgv5"
      },
      "execution_count": 78,
      "outputs": []
    },
    {
      "cell_type": "code",
      "source": [
        "person = Person('Nitish','Singh',33,'male')"
      ],
      "metadata": {
        "id": "JWJ60JPQmS9j"
      },
      "execution_count": 79,
      "outputs": []
    },
    {
      "cell_type": "code",
      "source": [
        "# As a string\n",
        "import json\n",
        "\n",
        "with open('demo.json','w') as f:\n",
        "  json.dump(person,f)"
      ],
      "metadata": {
        "colab": {
          "base_uri": "https://localhost:8080/",
          "height": 360
        },
        "id": "sErKRzX2mSj6",
        "outputId": "8734636a-2ec6-4660-c29e-56c29a567f5c"
      },
      "execution_count": 80,
      "outputs": [
        {
          "output_type": "error",
          "ename": "TypeError",
          "evalue": "ignored",
          "traceback": [
            "\u001b[0;31m---------------------------------------------------------------------------\u001b[0m",
            "\u001b[0;31mTypeError\u001b[0m                                 Traceback (most recent call last)",
            "\u001b[0;32m<ipython-input-80-6c79799675b8>\u001b[0m in \u001b[0;36m<cell line: 4>\u001b[0;34m()\u001b[0m\n\u001b[1;32m      3\u001b[0m \u001b[0;34m\u001b[0m\u001b[0m\n\u001b[1;32m      4\u001b[0m \u001b[0;32mwith\u001b[0m \u001b[0mopen\u001b[0m\u001b[0;34m(\u001b[0m\u001b[0;34m'demo.json'\u001b[0m\u001b[0;34m,\u001b[0m\u001b[0;34m'w'\u001b[0m\u001b[0;34m)\u001b[0m \u001b[0;32mas\u001b[0m \u001b[0mf\u001b[0m\u001b[0;34m:\u001b[0m\u001b[0;34m\u001b[0m\u001b[0;34m\u001b[0m\u001b[0m\n\u001b[0;32m----> 5\u001b[0;31m   \u001b[0mjson\u001b[0m\u001b[0;34m.\u001b[0m\u001b[0mdump\u001b[0m\u001b[0;34m(\u001b[0m\u001b[0mperson\u001b[0m\u001b[0;34m,\u001b[0m\u001b[0mf\u001b[0m\u001b[0;34m)\u001b[0m\u001b[0;34m\u001b[0m\u001b[0;34m\u001b[0m\u001b[0m\n\u001b[0m",
            "\u001b[0;32m/usr/lib/python3.10/json/__init__.py\u001b[0m in \u001b[0;36mdump\u001b[0;34m(obj, fp, skipkeys, ensure_ascii, check_circular, allow_nan, cls, indent, separators, default, sort_keys, **kw)\u001b[0m\n\u001b[1;32m    177\u001b[0m     \u001b[0;31m# could accelerate with writelines in some versions of Python, at\u001b[0m\u001b[0;34m\u001b[0m\u001b[0;34m\u001b[0m\u001b[0m\n\u001b[1;32m    178\u001b[0m     \u001b[0;31m# a debuggability cost\u001b[0m\u001b[0;34m\u001b[0m\u001b[0;34m\u001b[0m\u001b[0m\n\u001b[0;32m--> 179\u001b[0;31m     \u001b[0;32mfor\u001b[0m \u001b[0mchunk\u001b[0m \u001b[0;32min\u001b[0m \u001b[0miterable\u001b[0m\u001b[0;34m:\u001b[0m\u001b[0;34m\u001b[0m\u001b[0;34m\u001b[0m\u001b[0m\n\u001b[0m\u001b[1;32m    180\u001b[0m         \u001b[0mfp\u001b[0m\u001b[0;34m.\u001b[0m\u001b[0mwrite\u001b[0m\u001b[0;34m(\u001b[0m\u001b[0mchunk\u001b[0m\u001b[0;34m)\u001b[0m\u001b[0;34m\u001b[0m\u001b[0;34m\u001b[0m\u001b[0m\n\u001b[1;32m    181\u001b[0m \u001b[0;34m\u001b[0m\u001b[0m\n",
            "\u001b[0;32m/usr/lib/python3.10/json/encoder.py\u001b[0m in \u001b[0;36m_iterencode\u001b[0;34m(o, _current_indent_level)\u001b[0m\n\u001b[1;32m    436\u001b[0m                     \u001b[0;32mraise\u001b[0m \u001b[0mValueError\u001b[0m\u001b[0;34m(\u001b[0m\u001b[0;34m\"Circular reference detected\"\u001b[0m\u001b[0;34m)\u001b[0m\u001b[0;34m\u001b[0m\u001b[0;34m\u001b[0m\u001b[0m\n\u001b[1;32m    437\u001b[0m                 \u001b[0mmarkers\u001b[0m\u001b[0;34m[\u001b[0m\u001b[0mmarkerid\u001b[0m\u001b[0;34m]\u001b[0m \u001b[0;34m=\u001b[0m \u001b[0mo\u001b[0m\u001b[0;34m\u001b[0m\u001b[0;34m\u001b[0m\u001b[0m\n\u001b[0;32m--> 438\u001b[0;31m             \u001b[0mo\u001b[0m \u001b[0;34m=\u001b[0m \u001b[0m_default\u001b[0m\u001b[0;34m(\u001b[0m\u001b[0mo\u001b[0m\u001b[0;34m)\u001b[0m\u001b[0;34m\u001b[0m\u001b[0;34m\u001b[0m\u001b[0m\n\u001b[0m\u001b[1;32m    439\u001b[0m             \u001b[0;32myield\u001b[0m \u001b[0;32mfrom\u001b[0m \u001b[0m_iterencode\u001b[0m\u001b[0;34m(\u001b[0m\u001b[0mo\u001b[0m\u001b[0;34m,\u001b[0m \u001b[0m_current_indent_level\u001b[0m\u001b[0;34m)\u001b[0m\u001b[0;34m\u001b[0m\u001b[0;34m\u001b[0m\u001b[0m\n\u001b[1;32m    440\u001b[0m             \u001b[0;32mif\u001b[0m \u001b[0mmarkers\u001b[0m \u001b[0;32mis\u001b[0m \u001b[0;32mnot\u001b[0m \u001b[0;32mNone\u001b[0m\u001b[0;34m:\u001b[0m\u001b[0;34m\u001b[0m\u001b[0;34m\u001b[0m\u001b[0m\n",
            "\u001b[0;32m/usr/lib/python3.10/json/encoder.py\u001b[0m in \u001b[0;36mdefault\u001b[0;34m(self, o)\u001b[0m\n\u001b[1;32m    177\u001b[0m \u001b[0;34m\u001b[0m\u001b[0m\n\u001b[1;32m    178\u001b[0m         \"\"\"\n\u001b[0;32m--> 179\u001b[0;31m         raise TypeError(f'Object of type {o.__class__.__name__} '\n\u001b[0m\u001b[1;32m    180\u001b[0m                         f'is not JSON serializable')\n\u001b[1;32m    181\u001b[0m \u001b[0;34m\u001b[0m\u001b[0m\n",
            "\u001b[0;31mTypeError\u001b[0m: Object of type Person is not JSON serializable"
          ]
        }
      ]
    },
    {
      "cell_type": "code",
      "source": [
        "# As a string\n",
        "import json\n",
        "\n",
        "def show_object(person):\n",
        "  if isinstance(person,Person):\n",
        "    return { 'name':person.fname + ' ' + person.lname,'age':person.age,'gender':person.gender}\n",
        "with open('demo.json','w') as f:\n",
        "  json.dump(person,f,default=show_object,indent=4)"
      ],
      "metadata": {
        "id": "HIjcVLSzmvh8"
      },
      "execution_count": 85,
      "outputs": []
    },
    {
      "cell_type": "code",
      "source": [
        "# deserializing\n",
        "import json\n",
        "\n",
        "with open('demo.json','r') as f:\n",
        "  d = json.load(f)\n",
        "  print(d)\n",
        "  print(type(d))"
      ],
      "metadata": {
        "colab": {
          "base_uri": "https://localhost:8080/"
        },
        "id": "WdVYPObgoyao",
        "outputId": "da456019-33b4-4549-a087-90454e3c3620"
      },
      "execution_count": 88,
      "outputs": [
        {
          "output_type": "stream",
          "name": "stdout",
          "text": [
            "{'name': 'Nitish Singh', 'age': 33, 'gender': 'male'}\n",
            "<class 'dict'>\n"
          ]
        }
      ]
    },
    {
      "cell_type": "markdown",
      "source": [
        "Pickling                         \n",
        "Pickling is the process whereby a Python object hierarchy is converted into a byte stream, and unpickling is the inverse operation, whereby a byte stream (from a binary file or bytes-like object) is converted back into an object hierarchy."
      ],
      "metadata": {
        "id": "F3RguDKsjSnx"
      }
    },
    {
      "cell_type": "code",
      "source": [
        "class Person:\n",
        "\n",
        "  def __init__(self,name,age):\n",
        "    self.name = name\n",
        "    self.age = age\n",
        "\n",
        "  def display_info(self):\n",
        "    print('Hi my name is',self.name,'and I am ',self.age,'years old')"
      ],
      "metadata": {
        "id": "XAXYnf57i8DP"
      },
      "execution_count": 89,
      "outputs": []
    },
    {
      "cell_type": "code",
      "source": [
        "p = Person('nitish',33)"
      ],
      "metadata": {
        "id": "_YFYt_rfjYs8"
      },
      "execution_count": 90,
      "outputs": []
    },
    {
      "cell_type": "code",
      "source": [
        "# pickle dump\n",
        "import pickle\n",
        "with open('person.pkl','wb') as f:\n",
        "  pickle.dump(p,f)"
      ],
      "metadata": {
        "id": "f-ouXj0_jfzs"
      },
      "execution_count": 66,
      "outputs": []
    },
    {
      "cell_type": "code",
      "source": [
        "# pickle load\n",
        "import pickle\n",
        "with open('person.pkl','rb') as f:\n",
        "  p = pickle.load(f)\n",
        "\n",
        "p.display_info()"
      ],
      "metadata": {
        "colab": {
          "base_uri": "https://localhost:8080/"
        },
        "id": "h1bfD-hujjJV",
        "outputId": "4159d6c2-7096-4f63-9391-8607c3771655"
      },
      "execution_count": 67,
      "outputs": [
        {
          "output_type": "stream",
          "name": "stdout",
          "text": [
            "Hi my name is nitish and I am  33 years old\n"
          ]
        }
      ]
    },
    {
      "cell_type": "code",
      "source": [],
      "metadata": {
        "id": "QUtakghrjmZK"
      },
      "execution_count": null,
      "outputs": []
    }
  ]
}